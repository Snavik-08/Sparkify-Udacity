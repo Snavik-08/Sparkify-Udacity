{
 "cells": [
  {
   "cell_type": "markdown",
   "metadata": {},
   "source": [
    "# Sparkify Project Workspace\n",
    "This workspace contains a tiny subset (128MB) of the full dataset available (12GB). Feel free to use this workspace to build your project, or to explore a smaller subset with Spark before deploying your cluster on the cloud. Instructions for setting up your Spark cluster is included in the last lesson of the Extracurricular Spark Course content.\n",
    "\n",
    "You can follow the steps below to guide your data analysis and model building portion of this project."
   ]
  },
  {
   "cell_type": "code",
   "execution_count": 8,
   "metadata": {},
   "outputs": [
    {
     "name": "stdout",
     "output_type": "stream",
     "text": [
      "Collecting seaborn==0.11.0\n",
      "  Downloading seaborn-0.11.0-py3-none-any.whl (283 kB)\n",
      "     |████████████████████████████████| 283 kB 21.9 MB/s            \n",
      "\u001b[?25hRequirement already satisfied: numpy>=1.15 in /home/ec2-user/anaconda3/envs/python3/lib/python3.6/site-packages (from seaborn==0.11.0) (1.19.5)\n",
      "Requirement already satisfied: scipy>=1.0 in /home/ec2-user/anaconda3/envs/python3/lib/python3.6/site-packages (from seaborn==0.11.0) (1.5.3)\n",
      "Requirement already satisfied: pandas>=0.23 in /home/ec2-user/anaconda3/envs/python3/lib/python3.6/site-packages (from seaborn==0.11.0) (1.1.5)\n",
      "Requirement already satisfied: matplotlib>=2.2 in /home/ec2-user/anaconda3/envs/python3/lib/python3.6/site-packages (from seaborn==0.11.0) (3.3.4)\n",
      "Requirement already satisfied: kiwisolver>=1.0.1 in /home/ec2-user/anaconda3/envs/python3/lib/python3.6/site-packages (from matplotlib>=2.2->seaborn==0.11.0) (1.3.1)\n",
      "Requirement already satisfied: pillow>=6.2.0 in /home/ec2-user/anaconda3/envs/python3/lib/python3.6/site-packages (from matplotlib>=2.2->seaborn==0.11.0) (8.4.0)\n",
      "Requirement already satisfied: python-dateutil>=2.1 in /home/ec2-user/anaconda3/envs/python3/lib/python3.6/site-packages (from matplotlib>=2.2->seaborn==0.11.0) (2.8.1)\n",
      "Requirement already satisfied: pyparsing!=2.0.4,!=2.1.2,!=2.1.6,>=2.0.3 in /home/ec2-user/anaconda3/envs/python3/lib/python3.6/site-packages (from matplotlib>=2.2->seaborn==0.11.0) (2.4.7)\n",
      "Requirement already satisfied: cycler>=0.10 in /home/ec2-user/anaconda3/envs/python3/lib/python3.6/site-packages (from matplotlib>=2.2->seaborn==0.11.0) (0.10.0)\n",
      "Requirement already satisfied: pytz>=2017.2 in /home/ec2-user/anaconda3/envs/python3/lib/python3.6/site-packages (from pandas>=0.23->seaborn==0.11.0) (2021.1)\n",
      "Requirement already satisfied: six in /home/ec2-user/anaconda3/envs/python3/lib/python3.6/site-packages (from cycler>=0.10->matplotlib>=2.2->seaborn==0.11.0) (1.15.0)\n",
      "Installing collected packages: seaborn\n",
      "  Attempting uninstall: seaborn\n",
      "    Found existing installation: seaborn 0.11.1\n",
      "    Uninstalling seaborn-0.11.1:\n",
      "      Successfully uninstalled seaborn-0.11.1\n",
      "Successfully installed seaborn-0.11.0\n"
     ]
    }
   ],
   "source": [
    "# Installing seaborn with the required version for specific plots\n",
    "!pip install seaborn==0.11.0"
   ]
  },
  {
   "cell_type": "code",
   "execution_count": 9,
   "metadata": {},
   "outputs": [],
   "source": [
    "# importing required libraries\n",
    "from pyspark.sql import SparkSession\n",
    "from pyspark.sql.functions import udf, from_unixtime, col, count, sum, desc, max, collect_list, rank, when, dense_rank\n",
    "from pyspark.sql import DataFrameStatFunctions as statFunc\n",
    "from pyspark.sql.types import DateType, IntegerType, FloatType, StringType\n",
    "from pyspark.sql.functions import to_timestamp\n",
    "from pyspark.sql import Window\n",
    "\n",
    "from pyspark.ml.classification import LogisticRegression, RandomForestClassifier\n",
    "from pyspark.ml.feature import VectorAssembler\n",
    "from pyspark.ml.feature import StringIndexer\n",
    "from pyspark.ml.feature import OneHotEncoderEstimator\n",
    "from pyspark.ml import Pipeline\n",
    "from pyspark.ml.tuning import ParamGridBuilder, CrossValidator\n",
    "\n",
    "from pyspark.ml.evaluation import BinaryClassificationEvaluator, RegressionEvaluator, MulticlassClassificationEvaluator\n",
    "from pyspark.sql.functions import isnan, when, count, col\n",
    "\n",
    "import seaborn as sns\n",
    "import matplotlib.pyplot as plt\n",
    "\n",
    "from datetime import datetime\n",
    "import pandas as pd\n",
    "\n",
    "from pyspark.ml import Pipeline, Transformer\n",
    "from pyspark.ml.feature import StandardScaler\n",
    "import time"
   ]
  },
  {
   "cell_type": "code",
   "execution_count": 10,
   "metadata": {},
   "outputs": [],
   "source": [
    "# create a Spark session\n",
    "spark = SparkSession.builder \\\n",
    "        .master(\"local\") \\\n",
    "        .appName(\"Final Project\") \\\n",
    "        .getOrCreate()"
   ]
  },
  {
   "cell_type": "code",
   "execution_count": 11,
   "metadata": {},
   "outputs": [
    {
     "data": {
      "text/plain": [
       "'2.4.0'"
      ]
     },
     "execution_count": 11,
     "metadata": {},
     "output_type": "execute_result"
    }
   ],
   "source": [
    "spark.version"
   ]
  },
  {
   "cell_type": "markdown",
   "metadata": {},
   "source": [
    "# Load and Clean Dataset\n",
    "In this workspace, the mini-dataset file is `mini_sparkify_event_data.json`. Load and clean the dataset, checking for invalid or missing data - for example, records without userids or sessionids. "
   ]
  },
  {
   "cell_type": "code",
   "execution_count": 12,
   "metadata": {},
   "outputs": [],
   "source": [
    "# load the data within the cluster\n",
    "df = spark.read.json(\"mini_sparkify_event_data.json\")"
   ]
  },
  {
   "cell_type": "markdown",
   "metadata": {},
   "source": [
    "# Exploratory Data Analysis\n",
    "When you're working with the full dataset, perform EDA by loading a small subset of the data and doing basic manipulations within Spark. In this workspace, you are already provided a small subset of data you can explore.\n",
    "\n",
    "### Define Churn\n",
    "\n",
    "Once you've done some preliminary analysis, create a column `Churn` to use as the label for your model. I suggest using the `Cancellation Confirmation` events to define your churn, which happen for both paid and free users. As a bonus task, you can also look into the `Downgrade` events.\n",
    "\n",
    "### Explore Data\n",
    "Once you've defined churn, perform some exploratory data analysis to observe the behavior for users who stayed vs users who churned. You can start by exploring aggregates on these two groups of users, observing how much of a specific action they experienced per a certain time unit or number of songs played."
   ]
  },
  {
   "cell_type": "code",
   "execution_count": 13,
   "metadata": {},
   "outputs": [],
   "source": [
    "# Print Schema to know what kind of variables are available"
   ]
  },
  {
   "cell_type": "code",
   "execution_count": 14,
   "metadata": {},
   "outputs": [
    {
     "name": "stdout",
     "output_type": "stream",
     "text": [
      "root\n",
      " |-- artist: string (nullable = true)\n",
      " |-- auth: string (nullable = true)\n",
      " |-- firstName: string (nullable = true)\n",
      " |-- gender: string (nullable = true)\n",
      " |-- itemInSession: long (nullable = true)\n",
      " |-- lastName: string (nullable = true)\n",
      " |-- length: double (nullable = true)\n",
      " |-- level: string (nullable = true)\n",
      " |-- location: string (nullable = true)\n",
      " |-- method: string (nullable = true)\n",
      " |-- page: string (nullable = true)\n",
      " |-- registration: long (nullable = true)\n",
      " |-- sessionId: long (nullable = true)\n",
      " |-- song: string (nullable = true)\n",
      " |-- status: long (nullable = true)\n",
      " |-- ts: long (nullable = true)\n",
      " |-- userAgent: string (nullable = true)\n",
      " |-- userId: string (nullable = true)\n",
      "\n"
     ]
    }
   ],
   "source": [
    "df.printSchema()"
   ]
  },
  {
   "cell_type": "markdown",
   "metadata": {},
   "source": [
    "#### Show number of observation and Columns"
   ]
  },
  {
   "cell_type": "code",
   "execution_count": 15,
   "metadata": {},
   "outputs": [
    {
     "name": "stdout",
     "output_type": "stream",
     "text": [
      "(286500, 18)\n"
     ]
    }
   ],
   "source": [
    "print((df.count(), len(df.columns)))"
   ]
  },
  {
   "cell_type": "markdown",
   "metadata": {},
   "source": [
    "#### Check NaNs for all Columns"
   ]
  },
  {
   "cell_type": "code",
   "execution_count": 16,
   "metadata": {},
   "outputs": [
    {
     "name": "stdout",
     "output_type": "stream",
     "text": [
      "+------+----+---------+------+-------------+--------+------+-----+--------+------+----+------------+---------+----+------+---+---------+------+\n",
      "|artist|auth|firstName|gender|itemInSession|lastName|length|level|location|method|page|registration|sessionId|song|status| ts|userAgent|userId|\n",
      "+------+----+---------+------+-------------+--------+------+-----+--------+------+----+------------+---------+----+------+---+---------+------+\n",
      "|     0|   0|        0|     0|            0|       0|     0|    0|       0|     0|   0|           0|        0|   0|     0|  0|        0|     0|\n",
      "+------+----+---------+------+-------------+--------+------+-----+--------+------+----+------------+---------+----+------+---+---------+------+\n",
      "\n"
     ]
    }
   ],
   "source": [
    "df.select([count(when(isnan(c), c)).alias(c) for c in df.columns]).show()"
   ]
  },
  {
   "cell_type": "markdown",
   "metadata": {},
   "source": [
    "#### Check for Null Values"
   ]
  },
  {
   "cell_type": "code",
   "execution_count": 17,
   "metadata": {},
   "outputs": [
    {
     "name": "stdout",
     "output_type": "stream",
     "text": [
      "+------+----+---------+------+-------------+--------+------+-----+--------+------+----+------------+---------+-----+------+---+---------+------+\n",
      "|artist|auth|firstName|gender|itemInSession|lastName|length|level|location|method|page|registration|sessionId| song|status| ts|userAgent|userId|\n",
      "+------+----+---------+------+-------------+--------+------+-----+--------+------+----+------------+---------+-----+------+---+---------+------+\n",
      "| 58392|   0|     8346|  8346|            0|    8346| 58392|    0|    8346|     0|   0|        8346|        0|58392|     0|  0|     8346|     0|\n",
      "+------+----+---------+------+-------------+--------+------+-----+--------+------+----+------------+---------+-----+------+---+---------+------+\n",
      "\n"
     ]
    }
   ],
   "source": [
    "df.select([count(when(isnan(c) | col(c).isNull(), c)).alias(c) for c in df.columns]).show()"
   ]
  },
  {
   "cell_type": "markdown",
   "metadata": {},
   "source": [
    "#### No Nan handling required but Null values are deleted"
   ]
  },
  {
   "cell_type": "code",
   "execution_count": 18,
   "metadata": {},
   "outputs": [],
   "source": [
    "df = df.dropna(how = 'any', subset = [\"userId\", \"sessionId\"])"
   ]
  },
  {
   "cell_type": "markdown",
   "metadata": {},
   "source": [
    "#### New amount of rows"
   ]
  },
  {
   "cell_type": "code",
   "execution_count": 19,
   "metadata": {
    "scrolled": true
   },
   "outputs": [
    {
     "data": {
      "text/plain": [
       "286500"
      ]
     },
     "execution_count": 19,
     "metadata": {},
     "output_type": "execute_result"
    }
   ],
   "source": [
    "df.count()"
   ]
  },
  {
   "cell_type": "markdown",
   "metadata": {},
   "source": [
    "Did not change anything. So no missing values in the user and session id were present"
   ]
  },
  {
   "cell_type": "markdown",
   "metadata": {},
   "source": [
    "#### Show snippet of the Data Frame"
   ]
  },
  {
   "cell_type": "code",
   "execution_count": 20,
   "metadata": {},
   "outputs": [
    {
     "data": {
      "text/html": [
       "<div>\n",
       "<style scoped>\n",
       "    .dataframe tbody tr th:only-of-type {\n",
       "        vertical-align: middle;\n",
       "    }\n",
       "\n",
       "    .dataframe tbody tr th {\n",
       "        vertical-align: top;\n",
       "    }\n",
       "\n",
       "    .dataframe thead th {\n",
       "        text-align: right;\n",
       "    }\n",
       "</style>\n",
       "<table border=\"1\" class=\"dataframe\">\n",
       "  <thead>\n",
       "    <tr style=\"text-align: right;\">\n",
       "      <th></th>\n",
       "      <th>0</th>\n",
       "      <th>1</th>\n",
       "      <th>2</th>\n",
       "      <th>3</th>\n",
       "      <th>4</th>\n",
       "      <th>5</th>\n",
       "      <th>6</th>\n",
       "      <th>7</th>\n",
       "      <th>8</th>\n",
       "      <th>9</th>\n",
       "      <th>10</th>\n",
       "      <th>11</th>\n",
       "      <th>12</th>\n",
       "      <th>13</th>\n",
       "      <th>14</th>\n",
       "      <th>15</th>\n",
       "      <th>16</th>\n",
       "      <th>17</th>\n",
       "    </tr>\n",
       "  </thead>\n",
       "  <tbody>\n",
       "    <tr>\n",
       "      <th>0</th>\n",
       "      <td>Martha Tilston</td>\n",
       "      <td>Logged In</td>\n",
       "      <td>Colin</td>\n",
       "      <td>M</td>\n",
       "      <td>50</td>\n",
       "      <td>Freeman</td>\n",
       "      <td>277.89016</td>\n",
       "      <td>paid</td>\n",
       "      <td>Bakersfield, CA</td>\n",
       "      <td>PUT</td>\n",
       "      <td>NextSong</td>\n",
       "      <td>1538173362000</td>\n",
       "      <td>29</td>\n",
       "      <td>Rockpools</td>\n",
       "      <td>200</td>\n",
       "      <td>1538352117000</td>\n",
       "      <td>Mozilla/5.0 (Windows NT 6.1; WOW64; rv:31.0) G...</td>\n",
       "      <td>30</td>\n",
       "    </tr>\n",
       "    <tr>\n",
       "      <th>1</th>\n",
       "      <td>Five Iron Frenzy</td>\n",
       "      <td>Logged In</td>\n",
       "      <td>Micah</td>\n",
       "      <td>M</td>\n",
       "      <td>79</td>\n",
       "      <td>Long</td>\n",
       "      <td>236.09424</td>\n",
       "      <td>free</td>\n",
       "      <td>Boston-Cambridge-Newton, MA-NH</td>\n",
       "      <td>PUT</td>\n",
       "      <td>NextSong</td>\n",
       "      <td>1538331630000</td>\n",
       "      <td>8</td>\n",
       "      <td>Canada</td>\n",
       "      <td>200</td>\n",
       "      <td>1538352180000</td>\n",
       "      <td>\"Mozilla/5.0 (Windows NT 6.1; WOW64) AppleWebK...</td>\n",
       "      <td>9</td>\n",
       "    </tr>\n",
       "    <tr>\n",
       "      <th>2</th>\n",
       "      <td>Adam Lambert</td>\n",
       "      <td>Logged In</td>\n",
       "      <td>Colin</td>\n",
       "      <td>M</td>\n",
       "      <td>51</td>\n",
       "      <td>Freeman</td>\n",
       "      <td>282.82730</td>\n",
       "      <td>paid</td>\n",
       "      <td>Bakersfield, CA</td>\n",
       "      <td>PUT</td>\n",
       "      <td>NextSong</td>\n",
       "      <td>1538173362000</td>\n",
       "      <td>29</td>\n",
       "      <td>Time For Miracles</td>\n",
       "      <td>200</td>\n",
       "      <td>1538352394000</td>\n",
       "      <td>Mozilla/5.0 (Windows NT 6.1; WOW64; rv:31.0) G...</td>\n",
       "      <td>30</td>\n",
       "    </tr>\n",
       "    <tr>\n",
       "      <th>3</th>\n",
       "      <td>Enigma</td>\n",
       "      <td>Logged In</td>\n",
       "      <td>Micah</td>\n",
       "      <td>M</td>\n",
       "      <td>80</td>\n",
       "      <td>Long</td>\n",
       "      <td>262.71302</td>\n",
       "      <td>free</td>\n",
       "      <td>Boston-Cambridge-Newton, MA-NH</td>\n",
       "      <td>PUT</td>\n",
       "      <td>NextSong</td>\n",
       "      <td>1538331630000</td>\n",
       "      <td>8</td>\n",
       "      <td>Knocking On Forbidden Doors</td>\n",
       "      <td>200</td>\n",
       "      <td>1538352416000</td>\n",
       "      <td>\"Mozilla/5.0 (Windows NT 6.1; WOW64) AppleWebK...</td>\n",
       "      <td>9</td>\n",
       "    </tr>\n",
       "    <tr>\n",
       "      <th>4</th>\n",
       "      <td>Daft Punk</td>\n",
       "      <td>Logged In</td>\n",
       "      <td>Colin</td>\n",
       "      <td>M</td>\n",
       "      <td>52</td>\n",
       "      <td>Freeman</td>\n",
       "      <td>223.60771</td>\n",
       "      <td>paid</td>\n",
       "      <td>Bakersfield, CA</td>\n",
       "      <td>PUT</td>\n",
       "      <td>NextSong</td>\n",
       "      <td>1538173362000</td>\n",
       "      <td>29</td>\n",
       "      <td>Harder Better Faster Stronger</td>\n",
       "      <td>200</td>\n",
       "      <td>1538352676000</td>\n",
       "      <td>Mozilla/5.0 (Windows NT 6.1; WOW64; rv:31.0) G...</td>\n",
       "      <td>30</td>\n",
       "    </tr>\n",
       "  </tbody>\n",
       "</table>\n",
       "</div>"
      ],
      "text/plain": [
       "                 0          1      2  3   4        5          6     7   \\\n",
       "0    Martha Tilston  Logged In  Colin  M  50  Freeman  277.89016  paid   \n",
       "1  Five Iron Frenzy  Logged In  Micah  M  79     Long  236.09424  free   \n",
       "2      Adam Lambert  Logged In  Colin  M  51  Freeman  282.82730  paid   \n",
       "3            Enigma  Logged In  Micah  M  80     Long  262.71302  free   \n",
       "4         Daft Punk  Logged In  Colin  M  52  Freeman  223.60771  paid   \n",
       "\n",
       "                               8    9         10             11  12  \\\n",
       "0                 Bakersfield, CA  PUT  NextSong  1538173362000  29   \n",
       "1  Boston-Cambridge-Newton, MA-NH  PUT  NextSong  1538331630000   8   \n",
       "2                 Bakersfield, CA  PUT  NextSong  1538173362000  29   \n",
       "3  Boston-Cambridge-Newton, MA-NH  PUT  NextSong  1538331630000   8   \n",
       "4                 Bakersfield, CA  PUT  NextSong  1538173362000  29   \n",
       "\n",
       "                              13   14             15  \\\n",
       "0                      Rockpools  200  1538352117000   \n",
       "1                         Canada  200  1538352180000   \n",
       "2              Time For Miracles  200  1538352394000   \n",
       "3    Knocking On Forbidden Doors  200  1538352416000   \n",
       "4  Harder Better Faster Stronger  200  1538352676000   \n",
       "\n",
       "                                                  16  17  \n",
       "0  Mozilla/5.0 (Windows NT 6.1; WOW64; rv:31.0) G...  30  \n",
       "1  \"Mozilla/5.0 (Windows NT 6.1; WOW64) AppleWebK...   9  \n",
       "2  Mozilla/5.0 (Windows NT 6.1; WOW64; rv:31.0) G...  30  \n",
       "3  \"Mozilla/5.0 (Windows NT 6.1; WOW64) AppleWebK...   9  \n",
       "4  Mozilla/5.0 (Windows NT 6.1; WOW64; rv:31.0) G...  30  "
      ]
     },
     "execution_count": 20,
     "metadata": {},
     "output_type": "execute_result"
    }
   ],
   "source": [
    "pd.DataFrame(df.take(5))"
   ]
  },
  {
   "cell_type": "markdown",
   "metadata": {},
   "source": [
    "#### Removing Duplicates "
   ]
  },
  {
   "cell_type": "code",
   "execution_count": 21,
   "metadata": {},
   "outputs": [],
   "source": [
    "df = df.distinct()"
   ]
  },
  {
   "cell_type": "code",
   "execution_count": 22,
   "metadata": {},
   "outputs": [
    {
     "data": {
      "text/plain": [
       "286500"
      ]
     },
     "execution_count": 22,
     "metadata": {},
     "output_type": "execute_result"
    }
   ],
   "source": [
    "df.count()"
   ]
  },
  {
   "cell_type": "markdown",
   "metadata": {},
   "source": [
    "Amount of rows did not change so no duplicates are within the data set"
   ]
  },
  {
   "cell_type": "markdown",
   "metadata": {},
   "source": [
    "#### Checking User IDs"
   ]
  },
  {
   "cell_type": "code",
   "execution_count": 23,
   "metadata": {},
   "outputs": [
    {
     "name": "stdout",
     "output_type": "stream",
     "text": [
      "+------+\n",
      "|userId|\n",
      "+------+\n",
      "|      |\n",
      "|    10|\n",
      "|   100|\n",
      "|100001|\n",
      "|100002|\n",
      "|100003|\n",
      "|100004|\n",
      "|100005|\n",
      "|100006|\n",
      "|100007|\n",
      "|100008|\n",
      "|100009|\n",
      "|100010|\n",
      "|100011|\n",
      "|100012|\n",
      "|100013|\n",
      "|100014|\n",
      "|100015|\n",
      "|100016|\n",
      "|100017|\n",
      "+------+\n",
      "only showing top 20 rows\n",
      "\n"
     ]
    }
   ],
   "source": [
    "df.select(\"userId\").distinct().sort(\"userId\").show()"
   ]
  },
  {
   "cell_type": "markdown",
   "metadata": {},
   "source": [
    "The first two User IDs seems strange, furher investigation for these two is probably necessary. Also one blank userid is present that has to be removed"
   ]
  },
  {
   "cell_type": "code",
   "execution_count": 24,
   "metadata": {},
   "outputs": [],
   "source": [
    "df = df.filter(df[\"userId\"] != \"\")"
   ]
  },
  {
   "cell_type": "markdown",
   "metadata": {},
   "source": [
    "<hr>"
   ]
  },
  {
   "cell_type": "markdown",
   "metadata": {},
   "source": [
    "#### Defining Churn and creating Target Variable"
   ]
  },
  {
   "cell_type": "code",
   "execution_count": 25,
   "metadata": {},
   "outputs": [
    {
     "name": "stdout",
     "output_type": "stream",
     "text": [
      "+--------------------+\n",
      "|                page|\n",
      "+--------------------+\n",
      "|              Cancel|\n",
      "|    Submit Downgrade|\n",
      "|         Thumbs Down|\n",
      "|                Home|\n",
      "|           Downgrade|\n",
      "|         Roll Advert|\n",
      "|              Logout|\n",
      "|       Save Settings|\n",
      "|Cancellation Conf...|\n",
      "|               About|\n",
      "|            Settings|\n",
      "|     Add to Playlist|\n",
      "|          Add Friend|\n",
      "|            NextSong|\n",
      "|           Thumbs Up|\n",
      "|                Help|\n",
      "|             Upgrade|\n",
      "|               Error|\n",
      "|      Submit Upgrade|\n",
      "+--------------------+\n",
      "\n"
     ]
    }
   ],
   "source": [
    "df.select(\"page\").distinct().show()"
   ]
  },
  {
   "cell_type": "code",
   "execution_count": 26,
   "metadata": {},
   "outputs": [
    {
     "name": "stdout",
     "output_type": "stream",
     "text": [
      "+--------------------+------+\n",
      "|                page| count|\n",
      "+--------------------+------+\n",
      "|              Cancel|    52|\n",
      "|    Submit Downgrade|    63|\n",
      "|         Thumbs Down|  2546|\n",
      "|                Home| 10082|\n",
      "|           Downgrade|  2055|\n",
      "|         Roll Advert|  3933|\n",
      "|              Logout|  3226|\n",
      "|       Save Settings|   310|\n",
      "|Cancellation Conf...|    52|\n",
      "|               About|   495|\n",
      "|            Settings|  1514|\n",
      "|     Add to Playlist|  6526|\n",
      "|          Add Friend|  4277|\n",
      "|            NextSong|228108|\n",
      "|           Thumbs Up| 12551|\n",
      "|                Help|  1454|\n",
      "|             Upgrade|   499|\n",
      "|               Error|   252|\n",
      "|      Submit Upgrade|   159|\n",
      "+--------------------+------+\n",
      "\n"
     ]
    }
   ],
   "source": [
    "df.groupby(\"page\").count().show()"
   ]
  },
  {
   "cell_type": "markdown",
   "metadata": {},
   "source": [
    "Only 52 Observations can be considered as positive target variable. The most visited page is NextSong which is not a suprise."
   ]
  },
  {
   "cell_type": "markdown",
   "metadata": {},
   "source": [
    "#### Showing all observations were a Cancallation took place"
   ]
  },
  {
   "cell_type": "code",
   "execution_count": 27,
   "metadata": {},
   "outputs": [
    {
     "data": {
      "text/html": [
       "<div>\n",
       "<style scoped>\n",
       "    .dataframe tbody tr th:only-of-type {\n",
       "        vertical-align: middle;\n",
       "    }\n",
       "\n",
       "    .dataframe tbody tr th {\n",
       "        vertical-align: top;\n",
       "    }\n",
       "\n",
       "    .dataframe thead th {\n",
       "        text-align: right;\n",
       "    }\n",
       "</style>\n",
       "<table border=\"1\" class=\"dataframe\">\n",
       "  <thead>\n",
       "    <tr style=\"text-align: right;\">\n",
       "      <th></th>\n",
       "      <th>0</th>\n",
       "      <th>1</th>\n",
       "      <th>2</th>\n",
       "      <th>3</th>\n",
       "      <th>4</th>\n",
       "      <th>5</th>\n",
       "      <th>6</th>\n",
       "      <th>7</th>\n",
       "      <th>8</th>\n",
       "      <th>9</th>\n",
       "      <th>10</th>\n",
       "      <th>11</th>\n",
       "      <th>12</th>\n",
       "      <th>13</th>\n",
       "      <th>14</th>\n",
       "      <th>15</th>\n",
       "      <th>16</th>\n",
       "      <th>17</th>\n",
       "    </tr>\n",
       "  </thead>\n",
       "  <tbody>\n",
       "    <tr>\n",
       "      <th>0</th>\n",
       "      <td>None</td>\n",
       "      <td>Cancelled</td>\n",
       "      <td>Mahi</td>\n",
       "      <td>F</td>\n",
       "      <td>17</td>\n",
       "      <td>Robinson</td>\n",
       "      <td>None</td>\n",
       "      <td>free</td>\n",
       "      <td>Houston-The Woodlands-Sugar Land, TX</td>\n",
       "      <td>GET</td>\n",
       "      <td>Cancellation Confirmation</td>\n",
       "      <td>1537898335000</td>\n",
       "      <td>191</td>\n",
       "      <td>None</td>\n",
       "      <td>200</td>\n",
       "      <td>1542038645000</td>\n",
       "      <td>Mozilla/5.0 (Macintosh; Intel Mac OS X 10.9; r...</td>\n",
       "      <td>100022</td>\n",
       "    </tr>\n",
       "    <tr>\n",
       "      <th>1</th>\n",
       "      <td>None</td>\n",
       "      <td>Cancelled</td>\n",
       "      <td>Keegan</td>\n",
       "      <td>M</td>\n",
       "      <td>46</td>\n",
       "      <td>Rivera</td>\n",
       "      <td>None</td>\n",
       "      <td>free</td>\n",
       "      <td>Orlando-Kissimmee-Sanford, FL</td>\n",
       "      <td>GET</td>\n",
       "      <td>Cancellation Confirmation</td>\n",
       "      <td>1535907116000</td>\n",
       "      <td>351</td>\n",
       "      <td>None</td>\n",
       "      <td>200</td>\n",
       "      <td>1542472842000</td>\n",
       "      <td>Mozilla/5.0 (Macintosh; Intel Mac OS X 10.9; r...</td>\n",
       "      <td>200020</td>\n",
       "    </tr>\n",
       "    <tr>\n",
       "      <th>2</th>\n",
       "      <td>None</td>\n",
       "      <td>Cancelled</td>\n",
       "      <td>Teagan</td>\n",
       "      <td>F</td>\n",
       "      <td>306</td>\n",
       "      <td>Roberts</td>\n",
       "      <td>None</td>\n",
       "      <td>paid</td>\n",
       "      <td>New Philadelphia-Dover, OH</td>\n",
       "      <td>GET</td>\n",
       "      <td>Cancellation Confirmation</td>\n",
       "      <td>1537634865000</td>\n",
       "      <td>1519</td>\n",
       "      <td>None</td>\n",
       "      <td>200</td>\n",
       "      <td>1541463632000</td>\n",
       "      <td>Mozilla/5.0 (Windows NT 6.1; WOW64; Trident/7....</td>\n",
       "      <td>28</td>\n",
       "    </tr>\n",
       "    <tr>\n",
       "      <th>3</th>\n",
       "      <td>None</td>\n",
       "      <td>Cancelled</td>\n",
       "      <td>Troy</td>\n",
       "      <td>M</td>\n",
       "      <td>61</td>\n",
       "      <td>Mathis</td>\n",
       "      <td>None</td>\n",
       "      <td>free</td>\n",
       "      <td>San Francisco-Oakland-Hayward, CA</td>\n",
       "      <td>GET</td>\n",
       "      <td>Cancellation Confirmation</td>\n",
       "      <td>1537376437000</td>\n",
       "      <td>145</td>\n",
       "      <td>None</td>\n",
       "      <td>200</td>\n",
       "      <td>1540611104000</td>\n",
       "      <td>\"Mozilla/5.0 (Windows NT 6.1; WOW64) AppleWebK...</td>\n",
       "      <td>100009</td>\n",
       "    </tr>\n",
       "    <tr>\n",
       "      <th>4</th>\n",
       "      <td>None</td>\n",
       "      <td>Cancelled</td>\n",
       "      <td>Tina</td>\n",
       "      <td>F</td>\n",
       "      <td>115</td>\n",
       "      <td>Thompson</td>\n",
       "      <td>None</td>\n",
       "      <td>paid</td>\n",
       "      <td>North Wilkesboro, NC</td>\n",
       "      <td>GET</td>\n",
       "      <td>Cancellation Confirmation</td>\n",
       "      <td>1537208989000</td>\n",
       "      <td>188</td>\n",
       "      <td>None</td>\n",
       "      <td>200</td>\n",
       "      <td>1543073753000</td>\n",
       "      <td>\"Mozilla/5.0 (Macintosh; Intel Mac OS X 10_9_4...</td>\n",
       "      <td>100015</td>\n",
       "    </tr>\n",
       "    <tr>\n",
       "      <th>5</th>\n",
       "      <td>None</td>\n",
       "      <td>Cancelled</td>\n",
       "      <td>Leyla</td>\n",
       "      <td>F</td>\n",
       "      <td>45</td>\n",
       "      <td>Barnes</td>\n",
       "      <td>None</td>\n",
       "      <td>free</td>\n",
       "      <td>Flint, MI</td>\n",
       "      <td>GET</td>\n",
       "      <td>Cancellation Confirmation</td>\n",
       "      <td>1537964483000</td>\n",
       "      <td>6</td>\n",
       "      <td>None</td>\n",
       "      <td>200</td>\n",
       "      <td>1538753070000</td>\n",
       "      <td>\"Mozilla/5.0 (Windows NT 6.3; WOW64) AppleWebK...</td>\n",
       "      <td>100006</td>\n",
       "    </tr>\n",
       "    <tr>\n",
       "      <th>6</th>\n",
       "      <td>None</td>\n",
       "      <td>Cancelled</td>\n",
       "      <td>Sawyer</td>\n",
       "      <td>M</td>\n",
       "      <td>18</td>\n",
       "      <td>Nelson</td>\n",
       "      <td>None</td>\n",
       "      <td>paid</td>\n",
       "      <td>Greenville-Anderson-Mauldin, SC</td>\n",
       "      <td>GET</td>\n",
       "      <td>Cancellation Confirmation</td>\n",
       "      <td>1536679150000</td>\n",
       "      <td>109</td>\n",
       "      <td>None</td>\n",
       "      <td>200</td>\n",
       "      <td>1539475237000</td>\n",
       "      <td>\"Mozilla/5.0 (Windows NT 6.1; WOW64) AppleWebK...</td>\n",
       "      <td>100023</td>\n",
       "    </tr>\n",
       "    <tr>\n",
       "      <th>7</th>\n",
       "      <td>None</td>\n",
       "      <td>Cancelled</td>\n",
       "      <td>Rayden</td>\n",
       "      <td>M</td>\n",
       "      <td>185</td>\n",
       "      <td>Phillips</td>\n",
       "      <td>None</td>\n",
       "      <td>free</td>\n",
       "      <td>Dallas-Fort Worth-Arlington, TX</td>\n",
       "      <td>GET</td>\n",
       "      <td>Cancellation Confirmation</td>\n",
       "      <td>1537550344000</td>\n",
       "      <td>172</td>\n",
       "      <td>None</td>\n",
       "      <td>200</td>\n",
       "      <td>1543143782000</td>\n",
       "      <td>\"Mozilla/5.0 (Macintosh; Intel Mac OS X 10_9_4...</td>\n",
       "      <td>100021</td>\n",
       "    </tr>\n",
       "    <tr>\n",
       "      <th>8</th>\n",
       "      <td>None</td>\n",
       "      <td>Cancelled</td>\n",
       "      <td>Charles</td>\n",
       "      <td>M</td>\n",
       "      <td>7</td>\n",
       "      <td>Harper</td>\n",
       "      <td>None</td>\n",
       "      <td>free</td>\n",
       "      <td>St. Louis, MO-IL</td>\n",
       "      <td>GET</td>\n",
       "      <td>Cancellation Confirmation</td>\n",
       "      <td>1531679695000</td>\n",
       "      <td>267</td>\n",
       "      <td>None</td>\n",
       "      <td>200</td>\n",
       "      <td>1541120964000</td>\n",
       "      <td>\"Mozilla/5.0 (Macintosh; Intel Mac OS X 10_9_4...</td>\n",
       "      <td>200011</td>\n",
       "    </tr>\n",
       "    <tr>\n",
       "      <th>9</th>\n",
       "      <td>None</td>\n",
       "      <td>Cancelled</td>\n",
       "      <td>James</td>\n",
       "      <td>M</td>\n",
       "      <td>74</td>\n",
       "      <td>Mann</td>\n",
       "      <td>None</td>\n",
       "      <td>free</td>\n",
       "      <td>Birmingham-Hoover, AL</td>\n",
       "      <td>GET</td>\n",
       "      <td>Cancellation Confirmation</td>\n",
       "      <td>1533247234000</td>\n",
       "      <td>17</td>\n",
       "      <td>None</td>\n",
       "      <td>200</td>\n",
       "      <td>1540062847000</td>\n",
       "      <td>\"Mozilla/5.0 (iPhone; CPU iPhone OS 7_1_2 like...</td>\n",
       "      <td>100017</td>\n",
       "    </tr>\n",
       "    <tr>\n",
       "      <th>10</th>\n",
       "      <td>None</td>\n",
       "      <td>Cancelled</td>\n",
       "      <td>Alexi</td>\n",
       "      <td>F</td>\n",
       "      <td>42</td>\n",
       "      <td>Warren</td>\n",
       "      <td>None</td>\n",
       "      <td>paid</td>\n",
       "      <td>Spokane-Spokane Valley, WA</td>\n",
       "      <td>GET</td>\n",
       "      <td>Cancellation Confirmation</td>\n",
       "      <td>1532482662000</td>\n",
       "      <td>1819</td>\n",
       "      <td>None</td>\n",
       "      <td>200</td>\n",
       "      <td>1542051608000</td>\n",
       "      <td>Mozilla/5.0 (Windows NT 6.1; WOW64; rv:32.0) G...</td>\n",
       "      <td>54</td>\n",
       "    </tr>\n",
       "    <tr>\n",
       "      <th>11</th>\n",
       "      <td>None</td>\n",
       "      <td>Cancelled</td>\n",
       "      <td>Piper</td>\n",
       "      <td>F</td>\n",
       "      <td>201</td>\n",
       "      <td>Cook</td>\n",
       "      <td>None</td>\n",
       "      <td>paid</td>\n",
       "      <td>Little Rock-North Little Rock-Conway, AR</td>\n",
       "      <td>GET</td>\n",
       "      <td>Cancellation Confirmation</td>\n",
       "      <td>1533522419000</td>\n",
       "      <td>205</td>\n",
       "      <td>None</td>\n",
       "      <td>200</td>\n",
       "      <td>1543491909000</td>\n",
       "      <td>\"Mozilla/5.0 (Windows NT 6.3; WOW64) AppleWebK...</td>\n",
       "      <td>100007</td>\n",
       "    </tr>\n",
       "    <tr>\n",
       "      <th>12</th>\n",
       "      <td>None</td>\n",
       "      <td>Cancelled</td>\n",
       "      <td>Liliana</td>\n",
       "      <td>F</td>\n",
       "      <td>85</td>\n",
       "      <td>Owen</td>\n",
       "      <td>None</td>\n",
       "      <td>paid</td>\n",
       "      <td>Detroit-Warren-Dearborn, MI</td>\n",
       "      <td>GET</td>\n",
       "      <td>Cancellation Confirmation</td>\n",
       "      <td>1535032914000</td>\n",
       "      <td>276</td>\n",
       "      <td>None</td>\n",
       "      <td>200</td>\n",
       "      <td>1541138333000</td>\n",
       "      <td>Mozilla/5.0 (Macintosh; Intel Mac OS X 10.7; r...</td>\n",
       "      <td>200021</td>\n",
       "    </tr>\n",
       "    <tr>\n",
       "      <th>13</th>\n",
       "      <td>None</td>\n",
       "      <td>Cancelled</td>\n",
       "      <td>Piper</td>\n",
       "      <td>F</td>\n",
       "      <td>8</td>\n",
       "      <td>Nielsen</td>\n",
       "      <td>None</td>\n",
       "      <td>paid</td>\n",
       "      <td>New York-Newark-Jersey City, NY-NJ-PA</td>\n",
       "      <td>GET</td>\n",
       "      <td>Cancellation Confirmation</td>\n",
       "      <td>1537699856000</td>\n",
       "      <td>1583</td>\n",
       "      <td>None</td>\n",
       "      <td>200</td>\n",
       "      <td>1541340091000</td>\n",
       "      <td>\"Mozilla/5.0 (Macintosh; Intel Mac OS X 10_9_4...</td>\n",
       "      <td>103</td>\n",
       "    </tr>\n",
       "    <tr>\n",
       "      <th>14</th>\n",
       "      <td>None</td>\n",
       "      <td>Cancelled</td>\n",
       "      <td>Jonathon</td>\n",
       "      <td>M</td>\n",
       "      <td>36</td>\n",
       "      <td>Miller</td>\n",
       "      <td>None</td>\n",
       "      <td>free</td>\n",
       "      <td>New York-Newark-Jersey City, NY-NJ-PA</td>\n",
       "      <td>GET</td>\n",
       "      <td>Cancellation Confirmation</td>\n",
       "      <td>1536343087000</td>\n",
       "      <td>42</td>\n",
       "      <td>None</td>\n",
       "      <td>200</td>\n",
       "      <td>1538695038000</td>\n",
       "      <td>Mozilla/5.0 (Windows NT 6.1; rv:31.0) Gecko/20...</td>\n",
       "      <td>100024</td>\n",
       "    </tr>\n",
       "    <tr>\n",
       "      <th>15</th>\n",
       "      <td>None</td>\n",
       "      <td>Cancelled</td>\n",
       "      <td>Kayla</td>\n",
       "      <td>F</td>\n",
       "      <td>273</td>\n",
       "      <td>Johnson</td>\n",
       "      <td>None</td>\n",
       "      <td>paid</td>\n",
       "      <td>Philadelphia-Camden-Wilmington, PA-NJ-DE-MD</td>\n",
       "      <td>GET</td>\n",
       "      <td>Cancellation Confirmation</td>\n",
       "      <td>1538333829000</td>\n",
       "      <td>797</td>\n",
       "      <td>None</td>\n",
       "      <td>200</td>\n",
       "      <td>1539465584000</td>\n",
       "      <td>Mozilla/5.0 (Windows NT 6.1; WOW64; rv:24.0) G...</td>\n",
       "      <td>17</td>\n",
       "    </tr>\n",
       "    <tr>\n",
       "      <th>16</th>\n",
       "      <td>None</td>\n",
       "      <td>Cancelled</td>\n",
       "      <td>Molly</td>\n",
       "      <td>F</td>\n",
       "      <td>43</td>\n",
       "      <td>Patterson</td>\n",
       "      <td>None</td>\n",
       "      <td>paid</td>\n",
       "      <td>Memphis, TN-MS-AR</td>\n",
       "      <td>GET</td>\n",
       "      <td>Cancellation Confirmation</td>\n",
       "      <td>1535498705000</td>\n",
       "      <td>1029</td>\n",
       "      <td>None</td>\n",
       "      <td>200</td>\n",
       "      <td>1540062068000</td>\n",
       "      <td>Mozilla/5.0 (X11; Ubuntu; Linux i686; rv:31.0)...</td>\n",
       "      <td>122</td>\n",
       "    </tr>\n",
       "    <tr>\n",
       "      <th>17</th>\n",
       "      <td>None</td>\n",
       "      <td>Cancelled</td>\n",
       "      <td>Antonina</td>\n",
       "      <td>F</td>\n",
       "      <td>311</td>\n",
       "      <td>Kennedy</td>\n",
       "      <td>None</td>\n",
       "      <td>paid</td>\n",
       "      <td>Colorado Springs, CO</td>\n",
       "      <td>GET</td>\n",
       "      <td>Cancellation Confirmation</td>\n",
       "      <td>1526739206000</td>\n",
       "      <td>397</td>\n",
       "      <td>None</td>\n",
       "      <td>200</td>\n",
       "      <td>1543009344000</td>\n",
       "      <td>\"Mozilla/5.0 (Windows NT 5.1) AppleWebKit/537....</td>\n",
       "      <td>300001</td>\n",
       "    </tr>\n",
       "    <tr>\n",
       "      <th>18</th>\n",
       "      <td>None</td>\n",
       "      <td>Cancelled</td>\n",
       "      <td>Sebastian</td>\n",
       "      <td>M</td>\n",
       "      <td>22</td>\n",
       "      <td>Ball</td>\n",
       "      <td>None</td>\n",
       "      <td>free</td>\n",
       "      <td>Albany, OR</td>\n",
       "      <td>GET</td>\n",
       "      <td>Cancellation Confirmation</td>\n",
       "      <td>1537970819000</td>\n",
       "      <td>40</td>\n",
       "      <td>None</td>\n",
       "      <td>200</td>\n",
       "      <td>1538417085000</td>\n",
       "      <td>Mozilla/5.0 (Windows NT 6.1; WOW64; rv:31.0) G...</td>\n",
       "      <td>100011</td>\n",
       "    </tr>\n",
       "    <tr>\n",
       "      <th>19</th>\n",
       "      <td>None</td>\n",
       "      <td>Cancelled</td>\n",
       "      <td>Lucas</td>\n",
       "      <td>M</td>\n",
       "      <td>142</td>\n",
       "      <td>Franklin</td>\n",
       "      <td>None</td>\n",
       "      <td>paid</td>\n",
       "      <td>Phoenix-Mesa-Scottsdale, AZ</td>\n",
       "      <td>GET</td>\n",
       "      <td>Cancellation Confirmation</td>\n",
       "      <td>1537707098000</td>\n",
       "      <td>44</td>\n",
       "      <td>None</td>\n",
       "      <td>200</td>\n",
       "      <td>1538705338000</td>\n",
       "      <td>\"Mozilla/5.0 (X11; Linux x86_64) AppleWebKit/5...</td>\n",
       "      <td>300007</td>\n",
       "    </tr>\n",
       "    <tr>\n",
       "      <th>20</th>\n",
       "      <td>None</td>\n",
       "      <td>Cancelled</td>\n",
       "      <td>Diego</td>\n",
       "      <td>M</td>\n",
       "      <td>56</td>\n",
       "      <td>Mckee</td>\n",
       "      <td>None</td>\n",
       "      <td>paid</td>\n",
       "      <td>Phoenix-Mesa-Scottsdale, AZ</td>\n",
       "      <td>GET</td>\n",
       "      <td>Cancellation Confirmation</td>\n",
       "      <td>1537167593000</td>\n",
       "      <td>540</td>\n",
       "      <td>None</td>\n",
       "      <td>200</td>\n",
       "      <td>1539033046000</td>\n",
       "      <td>\"Mozilla/5.0 (iPhone; CPU iPhone OS 7_1_2 like...</td>\n",
       "      <td>32</td>\n",
       "    </tr>\n",
       "    <tr>\n",
       "      <th>21</th>\n",
       "      <td>None</td>\n",
       "      <td>Cancelled</td>\n",
       "      <td>Connor</td>\n",
       "      <td>M</td>\n",
       "      <td>33</td>\n",
       "      <td>Mendoza</td>\n",
       "      <td>None</td>\n",
       "      <td>free</td>\n",
       "      <td>San Diego-Carlsbad, CA</td>\n",
       "      <td>GET</td>\n",
       "      <td>Cancellation Confirmation</td>\n",
       "      <td>1534175704000</td>\n",
       "      <td>270</td>\n",
       "      <td>None</td>\n",
       "      <td>200</td>\n",
       "      <td>1541746863000</td>\n",
       "      <td>\"Mozilla/5.0 (iPhone; CPU iPhone OS 7_1_2 like...</td>\n",
       "      <td>200015</td>\n",
       "    </tr>\n",
       "    <tr>\n",
       "      <th>22</th>\n",
       "      <td>None</td>\n",
       "      <td>Cancelled</td>\n",
       "      <td>Jeffery</td>\n",
       "      <td>M</td>\n",
       "      <td>46</td>\n",
       "      <td>Wheeler</td>\n",
       "      <td>None</td>\n",
       "      <td>paid</td>\n",
       "      <td>Bozeman, MT</td>\n",
       "      <td>GET</td>\n",
       "      <td>Cancellation Confirmation</td>\n",
       "      <td>1533886191000</td>\n",
       "      <td>1324</td>\n",
       "      <td>None</td>\n",
       "      <td>200</td>\n",
       "      <td>1540875543000</td>\n",
       "      <td>\"Mozilla/5.0 (Windows NT 6.1; WOW64) AppleWebK...</td>\n",
       "      <td>3</td>\n",
       "    </tr>\n",
       "    <tr>\n",
       "      <th>23</th>\n",
       "      <td>None</td>\n",
       "      <td>Cancelled</td>\n",
       "      <td>Mason</td>\n",
       "      <td>M</td>\n",
       "      <td>10</td>\n",
       "      <td>Hart</td>\n",
       "      <td>None</td>\n",
       "      <td>free</td>\n",
       "      <td>Corpus Christi, TX</td>\n",
       "      <td>GET</td>\n",
       "      <td>Cancellation Confirmation</td>\n",
       "      <td>1533157139000</td>\n",
       "      <td>174</td>\n",
       "      <td>None</td>\n",
       "      <td>200</td>\n",
       "      <td>1539318918000</td>\n",
       "      <td>\"Mozilla/5.0 (Macintosh; Intel Mac OS X 10_9_4...</td>\n",
       "      <td>125</td>\n",
       "    </tr>\n",
       "    <tr>\n",
       "      <th>24</th>\n",
       "      <td>None</td>\n",
       "      <td>Cancelled</td>\n",
       "      <td>Daniel</td>\n",
       "      <td>M</td>\n",
       "      <td>74</td>\n",
       "      <td>Marks</td>\n",
       "      <td>None</td>\n",
       "      <td>free</td>\n",
       "      <td>Chicago-Naperville-Elgin, IL-IN-WI</td>\n",
       "      <td>GET</td>\n",
       "      <td>Cancellation Confirmation</td>\n",
       "      <td>1537381154000</td>\n",
       "      <td>156</td>\n",
       "      <td>None</td>\n",
       "      <td>200</td>\n",
       "      <td>1541100900000</td>\n",
       "      <td>\"Mozilla/5.0 (Macintosh; Intel Mac OS X 10_9_4...</td>\n",
       "      <td>100012</td>\n",
       "    </tr>\n",
       "    <tr>\n",
       "      <th>25</th>\n",
       "      <td>None</td>\n",
       "      <td>Cancelled</td>\n",
       "      <td>Alex</td>\n",
       "      <td>M</td>\n",
       "      <td>145</td>\n",
       "      <td>Hogan</td>\n",
       "      <td>None</td>\n",
       "      <td>paid</td>\n",
       "      <td>Denver-Aurora-Lakewood, CO</td>\n",
       "      <td>GET</td>\n",
       "      <td>Cancellation Confirmation</td>\n",
       "      <td>1535066380000</td>\n",
       "      <td>842</td>\n",
       "      <td>None</td>\n",
       "      <td>200</td>\n",
       "      <td>1539729037000</td>\n",
       "      <td>Mozilla/5.0 (Windows NT 6.2; WOW64; rv:31.0) G...</td>\n",
       "      <td>101</td>\n",
       "    </tr>\n",
       "    <tr>\n",
       "      <th>26</th>\n",
       "      <td>None</td>\n",
       "      <td>Cancelled</td>\n",
       "      <td>Rachel</td>\n",
       "      <td>F</td>\n",
       "      <td>11</td>\n",
       "      <td>Bailey</td>\n",
       "      <td>None</td>\n",
       "      <td>paid</td>\n",
       "      <td>Albany-Schenectady-Troy, NY</td>\n",
       "      <td>GET</td>\n",
       "      <td>Cancellation Confirmation</td>\n",
       "      <td>1536102943000</td>\n",
       "      <td>1059</td>\n",
       "      <td>None</td>\n",
       "      <td>200</td>\n",
       "      <td>1540402387000</td>\n",
       "      <td>Mozilla/5.0 (Windows NT 6.1; WOW64; rv:31.0) G...</td>\n",
       "      <td>73</td>\n",
       "    </tr>\n",
       "    <tr>\n",
       "      <th>27</th>\n",
       "      <td>None</td>\n",
       "      <td>Cancelled</td>\n",
       "      <td>Molly</td>\n",
       "      <td>F</td>\n",
       "      <td>29</td>\n",
       "      <td>Harrison</td>\n",
       "      <td>None</td>\n",
       "      <td>free</td>\n",
       "      <td>Virginia Beach-Norfolk-Newport News, VA-NC</td>\n",
       "      <td>GET</td>\n",
       "      <td>Cancellation Confirmation</td>\n",
       "      <td>1534255113000</td>\n",
       "      <td>843</td>\n",
       "      <td>None</td>\n",
       "      <td>200</td>\n",
       "      <td>1539588854000</td>\n",
       "      <td>\"Mozilla/5.0 (Macintosh; Intel Mac OS X 10_9_4...</td>\n",
       "      <td>143</td>\n",
       "    </tr>\n",
       "    <tr>\n",
       "      <th>28</th>\n",
       "      <td>None</td>\n",
       "      <td>Cancelled</td>\n",
       "      <td>Saulo</td>\n",
       "      <td>M</td>\n",
       "      <td>78</td>\n",
       "      <td>Burgess</td>\n",
       "      <td>None</td>\n",
       "      <td>free</td>\n",
       "      <td>Philadelphia-Camden-Wilmington, PA-NJ-DE-MD</td>\n",
       "      <td>GET</td>\n",
       "      <td>Cancellation Confirmation</td>\n",
       "      <td>1536956945000</td>\n",
       "      <td>268</td>\n",
       "      <td>None</td>\n",
       "      <td>200</td>\n",
       "      <td>1541153274000</td>\n",
       "      <td>\"Mozilla/5.0 (iPhone; CPU iPhone OS 7_1_2 like...</td>\n",
       "      <td>200018</td>\n",
       "    </tr>\n",
       "    <tr>\n",
       "      <th>29</th>\n",
       "      <td>None</td>\n",
       "      <td>Cancelled</td>\n",
       "      <td>Ethan</td>\n",
       "      <td>M</td>\n",
       "      <td>176</td>\n",
       "      <td>Johnson</td>\n",
       "      <td>None</td>\n",
       "      <td>paid</td>\n",
       "      <td>Lexington-Fayette, KY</td>\n",
       "      <td>GET</td>\n",
       "      <td>Cancellation Confirmation</td>\n",
       "      <td>1538080987000</td>\n",
       "      <td>934</td>\n",
       "      <td>None</td>\n",
       "      <td>200</td>\n",
       "      <td>1539761972000</td>\n",
       "      <td>\"Mozilla/5.0 (Windows NT 6.1; WOW64) AppleWebK...</td>\n",
       "      <td>51</td>\n",
       "    </tr>\n",
       "    <tr>\n",
       "      <th>30</th>\n",
       "      <td>None</td>\n",
       "      <td>Cancelled</td>\n",
       "      <td>Rodrigo</td>\n",
       "      <td>M</td>\n",
       "      <td>73</td>\n",
       "      <td>Carey</td>\n",
       "      <td>None</td>\n",
       "      <td>paid</td>\n",
       "      <td>New York-Newark-Jersey City, NY-NJ-PA</td>\n",
       "      <td>GET</td>\n",
       "      <td>Cancellation Confirmation</td>\n",
       "      <td>1535389443000</td>\n",
       "      <td>185</td>\n",
       "      <td>None</td>\n",
       "      <td>200</td>\n",
       "      <td>1542740649000</td>\n",
       "      <td>\"Mozilla/5.0 (Windows NT 6.1; WOW64) AppleWebK...</td>\n",
       "      <td>100014</td>\n",
       "    </tr>\n",
       "    <tr>\n",
       "      <th>31</th>\n",
       "      <td>None</td>\n",
       "      <td>Cancelled</td>\n",
       "      <td>Davis</td>\n",
       "      <td>M</td>\n",
       "      <td>34</td>\n",
       "      <td>Wang</td>\n",
       "      <td>None</td>\n",
       "      <td>paid</td>\n",
       "      <td>Flint, MI</td>\n",
       "      <td>GET</td>\n",
       "      <td>Cancellation Confirmation</td>\n",
       "      <td>1538289776000</td>\n",
       "      <td>802</td>\n",
       "      <td>None</td>\n",
       "      <td>200</td>\n",
       "      <td>1539736161000</td>\n",
       "      <td>\"Mozilla/5.0 (Windows NT 6.3; WOW64) AppleWebK...</td>\n",
       "      <td>129</td>\n",
       "    </tr>\n",
       "    <tr>\n",
       "      <th>32</th>\n",
       "      <td>None</td>\n",
       "      <td>Cancelled</td>\n",
       "      <td>James</td>\n",
       "      <td>M</td>\n",
       "      <td>44</td>\n",
       "      <td>Dickerson</td>\n",
       "      <td>None</td>\n",
       "      <td>paid</td>\n",
       "      <td>New York-Newark-Jersey City, NY-NJ-PA</td>\n",
       "      <td>GET</td>\n",
       "      <td>Cancellation Confirmation</td>\n",
       "      <td>1537043743000</td>\n",
       "      <td>301</td>\n",
       "      <td>None</td>\n",
       "      <td>200</td>\n",
       "      <td>1542313003000</td>\n",
       "      <td>\"Mozilla/5.0 (Macintosh; Intel Mac OS X 10_9_4...</td>\n",
       "      <td>200017</td>\n",
       "    </tr>\n",
       "    <tr>\n",
       "      <th>33</th>\n",
       "      <td>None</td>\n",
       "      <td>Cancelled</td>\n",
       "      <td>Christian</td>\n",
       "      <td>M</td>\n",
       "      <td>100</td>\n",
       "      <td>Robinson</td>\n",
       "      <td>None</td>\n",
       "      <td>paid</td>\n",
       "      <td>Quincy, IL-MO</td>\n",
       "      <td>GET</td>\n",
       "      <td>Cancellation Confirmation</td>\n",
       "      <td>1534942082000</td>\n",
       "      <td>1092</td>\n",
       "      <td>None</td>\n",
       "      <td>200</td>\n",
       "      <td>1540050556000</td>\n",
       "      <td>\"Mozilla/5.0 (Windows NT 6.1; WOW64) AppleWebK...</td>\n",
       "      <td>87</td>\n",
       "    </tr>\n",
       "    <tr>\n",
       "      <th>34</th>\n",
       "      <td>None</td>\n",
       "      <td>Cancelled</td>\n",
       "      <td>Sebastian</td>\n",
       "      <td>M</td>\n",
       "      <td>110</td>\n",
       "      <td>Wang</td>\n",
       "      <td>None</td>\n",
       "      <td>paid</td>\n",
       "      <td>Jackson, MS</td>\n",
       "      <td>GET</td>\n",
       "      <td>Cancellation Confirmation</td>\n",
       "      <td>1538050164000</td>\n",
       "      <td>2003</td>\n",
       "      <td>None</td>\n",
       "      <td>200</td>\n",
       "      <td>1542630896000</td>\n",
       "      <td>\"Mozilla/5.0 (Macintosh; Intel Mac OS X 10_9_2...</td>\n",
       "      <td>53</td>\n",
       "    </tr>\n",
       "    <tr>\n",
       "      <th>35</th>\n",
       "      <td>None</td>\n",
       "      <td>Cancelled</td>\n",
       "      <td>Nikolas</td>\n",
       "      <td>M</td>\n",
       "      <td>287</td>\n",
       "      <td>Olsen</td>\n",
       "      <td>None</td>\n",
       "      <td>paid</td>\n",
       "      <td>Oxnard-Thousand Oaks-Ventura, CA</td>\n",
       "      <td>GET</td>\n",
       "      <td>Cancellation Confirmation</td>\n",
       "      <td>1528403713000</td>\n",
       "      <td>881</td>\n",
       "      <td>None</td>\n",
       "      <td>200</td>\n",
       "      <td>1539759749000</td>\n",
       "      <td>Mozilla/5.0 (X11; Ubuntu; Linux x86_64; rv:31....</td>\n",
       "      <td>121</td>\n",
       "    </tr>\n",
       "    <tr>\n",
       "      <th>36</th>\n",
       "      <td>None</td>\n",
       "      <td>Cancelled</td>\n",
       "      <td>Angel</td>\n",
       "      <td>M</td>\n",
       "      <td>65</td>\n",
       "      <td>Jacobs</td>\n",
       "      <td>None</td>\n",
       "      <td>free</td>\n",
       "      <td>Spokane-Spokane Valley, WA</td>\n",
       "      <td>GET</td>\n",
       "      <td>Cancellation Confirmation</td>\n",
       "      <td>1536257455000</td>\n",
       "      <td>71</td>\n",
       "      <td>None</td>\n",
       "      <td>200</td>\n",
       "      <td>1538953071000</td>\n",
       "      <td>Mozilla/5.0 (X11; Ubuntu; Linux x86_64; rv:31....</td>\n",
       "      <td>100019</td>\n",
       "    </tr>\n",
       "    <tr>\n",
       "      <th>37</th>\n",
       "      <td>None</td>\n",
       "      <td>Cancelled</td>\n",
       "      <td>London</td>\n",
       "      <td>F</td>\n",
       "      <td>49</td>\n",
       "      <td>Diaz</td>\n",
       "      <td>None</td>\n",
       "      <td>free</td>\n",
       "      <td>New York-Newark-Jersey City, NY-NJ-PA</td>\n",
       "      <td>GET</td>\n",
       "      <td>Cancellation Confirmation</td>\n",
       "      <td>1532625569000</td>\n",
       "      <td>129</td>\n",
       "      <td>None</td>\n",
       "      <td>200</td>\n",
       "      <td>1540299152000</td>\n",
       "      <td>\"Mozilla/5.0 (Macintosh; Intel Mac OS X 10_9_4...</td>\n",
       "      <td>100025</td>\n",
       "    </tr>\n",
       "    <tr>\n",
       "      <th>38</th>\n",
       "      <td>None</td>\n",
       "      <td>Cancelled</td>\n",
       "      <td>Chayse</td>\n",
       "      <td>M</td>\n",
       "      <td>91</td>\n",
       "      <td>Keller</td>\n",
       "      <td>None</td>\n",
       "      <td>paid</td>\n",
       "      <td>Jackson, MS</td>\n",
       "      <td>GET</td>\n",
       "      <td>Cancellation Confirmation</td>\n",
       "      <td>1529643103000</td>\n",
       "      <td>1940</td>\n",
       "      <td>None</td>\n",
       "      <td>200</td>\n",
       "      <td>1542234867000</td>\n",
       "      <td>\"Mozilla/5.0 (Windows NT 6.1; WOW64) AppleWebK...</td>\n",
       "      <td>70</td>\n",
       "    </tr>\n",
       "    <tr>\n",
       "      <th>39</th>\n",
       "      <td>None</td>\n",
       "      <td>Cancelled</td>\n",
       "      <td>Nevaeh</td>\n",
       "      <td>F</td>\n",
       "      <td>81</td>\n",
       "      <td>Jones</td>\n",
       "      <td>None</td>\n",
       "      <td>free</td>\n",
       "      <td>Miami-Fort Lauderdale-West Palm Beach, FL</td>\n",
       "      <td>GET</td>\n",
       "      <td>Cancellation Confirmation</td>\n",
       "      <td>1537309344000</td>\n",
       "      <td>86</td>\n",
       "      <td>None</td>\n",
       "      <td>200</td>\n",
       "      <td>1539274781000</td>\n",
       "      <td>Mozilla/5.0 (Windows NT 6.1; WOW64; rv:31.0) G...</td>\n",
       "      <td>100003</td>\n",
       "    </tr>\n",
       "    <tr>\n",
       "      <th>40</th>\n",
       "      <td>None</td>\n",
       "      <td>Cancelled</td>\n",
       "      <td>Reece</td>\n",
       "      <td>M</td>\n",
       "      <td>19</td>\n",
       "      <td>Moore</td>\n",
       "      <td>None</td>\n",
       "      <td>free</td>\n",
       "      <td>Washington-Arlington-Alexandria, DC-VA-MD-WV</td>\n",
       "      <td>GET</td>\n",
       "      <td>Cancellation Confirmation</td>\n",
       "      <td>1538255180000</td>\n",
       "      <td>136</td>\n",
       "      <td>None</td>\n",
       "      <td>200</td>\n",
       "      <td>1539629720000</td>\n",
       "      <td>\"Mozilla/5.0 (Windows NT 6.1; WOW64) AppleWebK...</td>\n",
       "      <td>200001</td>\n",
       "    </tr>\n",
       "    <tr>\n",
       "      <th>41</th>\n",
       "      <td>None</td>\n",
       "      <td>Cancelled</td>\n",
       "      <td>Alexander</td>\n",
       "      <td>M</td>\n",
       "      <td>332</td>\n",
       "      <td>Garcia</td>\n",
       "      <td>None</td>\n",
       "      <td>paid</td>\n",
       "      <td>Indianapolis-Carmel-Anderson, IN</td>\n",
       "      <td>GET</td>\n",
       "      <td>Cancellation Confirmation</td>\n",
       "      <td>1536817381000</td>\n",
       "      <td>508</td>\n",
       "      <td>None</td>\n",
       "      <td>200</td>\n",
       "      <td>1539375441000</td>\n",
       "      <td>Mozilla/5.0 (Windows NT 6.1; WOW64; rv:31.0) G...</td>\n",
       "      <td>105</td>\n",
       "    </tr>\n",
       "    <tr>\n",
       "      <th>42</th>\n",
       "      <td>None</td>\n",
       "      <td>Cancelled</td>\n",
       "      <td>Charlotte</td>\n",
       "      <td>F</td>\n",
       "      <td>122</td>\n",
       "      <td>Frazier</td>\n",
       "      <td>None</td>\n",
       "      <td>free</td>\n",
       "      <td>Baltimore-Columbia-Towson, MD</td>\n",
       "      <td>GET</td>\n",
       "      <td>Cancellation Confirmation</td>\n",
       "      <td>1537537765000</td>\n",
       "      <td>347</td>\n",
       "      <td>None</td>\n",
       "      <td>200</td>\n",
       "      <td>1542356278000</td>\n",
       "      <td>\"Mozilla/5.0 (Macintosh; Intel Mac OS X 10_9_4...</td>\n",
       "      <td>200016</td>\n",
       "    </tr>\n",
       "    <tr>\n",
       "      <th>43</th>\n",
       "      <td>None</td>\n",
       "      <td>Cancelled</td>\n",
       "      <td>Delaney</td>\n",
       "      <td>F</td>\n",
       "      <td>23</td>\n",
       "      <td>Perez</td>\n",
       "      <td>None</td>\n",
       "      <td>free</td>\n",
       "      <td>Miami-Fort Lauderdale-West Palm Beach, FL</td>\n",
       "      <td>GET</td>\n",
       "      <td>Cancellation Confirmation</td>\n",
       "      <td>1534627466000</td>\n",
       "      <td>53</td>\n",
       "      <td>None</td>\n",
       "      <td>200</td>\n",
       "      <td>1538498205000</td>\n",
       "      <td>\"Mozilla/5.0 (Macintosh; Intel Mac OS X 10_6_8...</td>\n",
       "      <td>100001</td>\n",
       "    </tr>\n",
       "    <tr>\n",
       "      <th>44</th>\n",
       "      <td>None</td>\n",
       "      <td>Cancelled</td>\n",
       "      <td>Cason</td>\n",
       "      <td>M</td>\n",
       "      <td>73</td>\n",
       "      <td>Smith</td>\n",
       "      <td>None</td>\n",
       "      <td>free</td>\n",
       "      <td>Monroe, LA</td>\n",
       "      <td>GET</td>\n",
       "      <td>Cancellation Confirmation</td>\n",
       "      <td>1532610926000</td>\n",
       "      <td>115</td>\n",
       "      <td>None</td>\n",
       "      <td>200</td>\n",
       "      <td>1539971825000</td>\n",
       "      <td>\"Mozilla/5.0 (Macintosh; Intel Mac OS X 10_9_4...</td>\n",
       "      <td>100005</td>\n",
       "    </tr>\n",
       "    <tr>\n",
       "      <th>45</th>\n",
       "      <td>None</td>\n",
       "      <td>Cancelled</td>\n",
       "      <td>Kaleb</td>\n",
       "      <td>M</td>\n",
       "      <td>49</td>\n",
       "      <td>Thompson</td>\n",
       "      <td>None</td>\n",
       "      <td>paid</td>\n",
       "      <td>Los Angeles-Long Beach-Anaheim, CA</td>\n",
       "      <td>GET</td>\n",
       "      <td>Cancellation Confirmation</td>\n",
       "      <td>1536988041000</td>\n",
       "      <td>1864</td>\n",
       "      <td>None</td>\n",
       "      <td>200</td>\n",
       "      <td>1542181031000</td>\n",
       "      <td>\"Mozilla/5.0 (Macintosh; Intel Mac OS X 10_9_4...</td>\n",
       "      <td>29</td>\n",
       "    </tr>\n",
       "    <tr>\n",
       "      <th>46</th>\n",
       "      <td>None</td>\n",
       "      <td>Cancelled</td>\n",
       "      <td>Sophia</td>\n",
       "      <td>F</td>\n",
       "      <td>72</td>\n",
       "      <td>Perry</td>\n",
       "      <td>None</td>\n",
       "      <td>paid</td>\n",
       "      <td>Los Angeles-Long Beach-Anaheim, CA</td>\n",
       "      <td>GET</td>\n",
       "      <td>Cancellation Confirmation</td>\n",
       "      <td>1533885783000</td>\n",
       "      <td>1072</td>\n",
       "      <td>None</td>\n",
       "      <td>200</td>\n",
       "      <td>1540193374000</td>\n",
       "      <td>Mozilla/5.0 (Windows NT 6.3; WOW64; rv:31.0) G...</td>\n",
       "      <td>12</td>\n",
       "    </tr>\n",
       "    <tr>\n",
       "      <th>47</th>\n",
       "      <td>None</td>\n",
       "      <td>Cancelled</td>\n",
       "      <td>Sophia</td>\n",
       "      <td>F</td>\n",
       "      <td>18</td>\n",
       "      <td>Key</td>\n",
       "      <td>None</td>\n",
       "      <td>paid</td>\n",
       "      <td>Los Angeles-Long Beach-Anaheim, CA</td>\n",
       "      <td>GET</td>\n",
       "      <td>Cancellation Confirmation</td>\n",
       "      <td>1537679535000</td>\n",
       "      <td>1383</td>\n",
       "      <td>None</td>\n",
       "      <td>200</td>\n",
       "      <td>1541166424000</td>\n",
       "      <td>\"Mozilla/5.0 (Macintosh; Intel Mac OS X 10_9_4...</td>\n",
       "      <td>106</td>\n",
       "    </tr>\n",
       "    <tr>\n",
       "      <th>48</th>\n",
       "      <td>None</td>\n",
       "      <td>Cancelled</td>\n",
       "      <td>Isaiah</td>\n",
       "      <td>M</td>\n",
       "      <td>46</td>\n",
       "      <td>Gomez</td>\n",
       "      <td>None</td>\n",
       "      <td>paid</td>\n",
       "      <td>London, KY</td>\n",
       "      <td>GET</td>\n",
       "      <td>Cancellation Confirmation</td>\n",
       "      <td>1537897424000</td>\n",
       "      <td>208</td>\n",
       "      <td>None</td>\n",
       "      <td>200</td>\n",
       "      <td>1540353577000</td>\n",
       "      <td>Mozilla/5.0 (X11; Ubuntu; Linux x86_64; rv:31....</td>\n",
       "      <td>200024</td>\n",
       "    </tr>\n",
       "    <tr>\n",
       "      <th>49</th>\n",
       "      <td>None</td>\n",
       "      <td>Cancelled</td>\n",
       "      <td>Erick</td>\n",
       "      <td>M</td>\n",
       "      <td>48</td>\n",
       "      <td>Brooks</td>\n",
       "      <td>None</td>\n",
       "      <td>paid</td>\n",
       "      <td>Selma, AL</td>\n",
       "      <td>GET</td>\n",
       "      <td>Cancellation Confirmation</td>\n",
       "      <td>1537956751000</td>\n",
       "      <td>1112</td>\n",
       "      <td>None</td>\n",
       "      <td>200</td>\n",
       "      <td>1540223006000</td>\n",
       "      <td>\"Mozilla/5.0 (Windows NT 6.3; WOW64) AppleWebK...</td>\n",
       "      <td>58</td>\n",
       "    </tr>\n",
       "    <tr>\n",
       "      <th>50</th>\n",
       "      <td>None</td>\n",
       "      <td>Cancelled</td>\n",
       "      <td>Adriel</td>\n",
       "      <td>M</td>\n",
       "      <td>104</td>\n",
       "      <td>Mendoza</td>\n",
       "      <td>None</td>\n",
       "      <td>paid</td>\n",
       "      <td>Kansas City, MO-KS</td>\n",
       "      <td>GET</td>\n",
       "      <td>Cancellation Confirmation</td>\n",
       "      <td>1535623466000</td>\n",
       "      <td>514</td>\n",
       "      <td>None</td>\n",
       "      <td>200</td>\n",
       "      <td>1538943990000</td>\n",
       "      <td>\"Mozilla/5.0 (Macintosh; Intel Mac OS X 10_9_4...</td>\n",
       "      <td>18</td>\n",
       "    </tr>\n",
       "    <tr>\n",
       "      <th>51</th>\n",
       "      <td>None</td>\n",
       "      <td>Cancelled</td>\n",
       "      <td>Cali</td>\n",
       "      <td>F</td>\n",
       "      <td>51</td>\n",
       "      <td>Brown</td>\n",
       "      <td>None</td>\n",
       "      <td>paid</td>\n",
       "      <td>Cleveland-Elyria, OH</td>\n",
       "      <td>GET</td>\n",
       "      <td>Cancellation Confirmation</td>\n",
       "      <td>1537367773000</td>\n",
       "      <td>165</td>\n",
       "      <td>None</td>\n",
       "      <td>200</td>\n",
       "      <td>1541184816000</td>\n",
       "      <td>\"Mozilla/5.0 (Windows NT 6.1) AppleWebKit/537....</td>\n",
       "      <td>100013</td>\n",
       "    </tr>\n",
       "  </tbody>\n",
       "</table>\n",
       "</div>"
      ],
      "text/plain": [
       "      0          1          2  3    4          5     6     7   \\\n",
       "0   None  Cancelled       Mahi  F   17   Robinson  None  free   \n",
       "1   None  Cancelled     Keegan  M   46     Rivera  None  free   \n",
       "2   None  Cancelled     Teagan  F  306    Roberts  None  paid   \n",
       "3   None  Cancelled       Troy  M   61     Mathis  None  free   \n",
       "4   None  Cancelled       Tina  F  115   Thompson  None  paid   \n",
       "5   None  Cancelled      Leyla  F   45     Barnes  None  free   \n",
       "6   None  Cancelled     Sawyer  M   18     Nelson  None  paid   \n",
       "7   None  Cancelled     Rayden  M  185   Phillips  None  free   \n",
       "8   None  Cancelled    Charles  M    7     Harper  None  free   \n",
       "9   None  Cancelled      James  M   74       Mann  None  free   \n",
       "10  None  Cancelled      Alexi  F   42     Warren  None  paid   \n",
       "11  None  Cancelled      Piper  F  201       Cook  None  paid   \n",
       "12  None  Cancelled    Liliana  F   85       Owen  None  paid   \n",
       "13  None  Cancelled      Piper  F    8    Nielsen  None  paid   \n",
       "14  None  Cancelled   Jonathon  M   36     Miller  None  free   \n",
       "15  None  Cancelled      Kayla  F  273    Johnson  None  paid   \n",
       "16  None  Cancelled      Molly  F   43  Patterson  None  paid   \n",
       "17  None  Cancelled   Antonina  F  311    Kennedy  None  paid   \n",
       "18  None  Cancelled  Sebastian  M   22       Ball  None  free   \n",
       "19  None  Cancelled      Lucas  M  142   Franklin  None  paid   \n",
       "20  None  Cancelled      Diego  M   56      Mckee  None  paid   \n",
       "21  None  Cancelled     Connor  M   33    Mendoza  None  free   \n",
       "22  None  Cancelled    Jeffery  M   46    Wheeler  None  paid   \n",
       "23  None  Cancelled      Mason  M   10       Hart  None  free   \n",
       "24  None  Cancelled     Daniel  M   74      Marks  None  free   \n",
       "25  None  Cancelled       Alex  M  145      Hogan  None  paid   \n",
       "26  None  Cancelled     Rachel  F   11     Bailey  None  paid   \n",
       "27  None  Cancelled      Molly  F   29   Harrison  None  free   \n",
       "28  None  Cancelled      Saulo  M   78    Burgess  None  free   \n",
       "29  None  Cancelled      Ethan  M  176    Johnson  None  paid   \n",
       "30  None  Cancelled    Rodrigo  M   73      Carey  None  paid   \n",
       "31  None  Cancelled      Davis  M   34       Wang  None  paid   \n",
       "32  None  Cancelled      James  M   44  Dickerson  None  paid   \n",
       "33  None  Cancelled  Christian  M  100   Robinson  None  paid   \n",
       "34  None  Cancelled  Sebastian  M  110       Wang  None  paid   \n",
       "35  None  Cancelled    Nikolas  M  287      Olsen  None  paid   \n",
       "36  None  Cancelled      Angel  M   65     Jacobs  None  free   \n",
       "37  None  Cancelled     London  F   49       Diaz  None  free   \n",
       "38  None  Cancelled     Chayse  M   91     Keller  None  paid   \n",
       "39  None  Cancelled     Nevaeh  F   81      Jones  None  free   \n",
       "40  None  Cancelled      Reece  M   19      Moore  None  free   \n",
       "41  None  Cancelled  Alexander  M  332     Garcia  None  paid   \n",
       "42  None  Cancelled  Charlotte  F  122    Frazier  None  free   \n",
       "43  None  Cancelled    Delaney  F   23      Perez  None  free   \n",
       "44  None  Cancelled      Cason  M   73      Smith  None  free   \n",
       "45  None  Cancelled      Kaleb  M   49   Thompson  None  paid   \n",
       "46  None  Cancelled     Sophia  F   72      Perry  None  paid   \n",
       "47  None  Cancelled     Sophia  F   18        Key  None  paid   \n",
       "48  None  Cancelled     Isaiah  M   46      Gomez  None  paid   \n",
       "49  None  Cancelled      Erick  M   48     Brooks  None  paid   \n",
       "50  None  Cancelled     Adriel  M  104    Mendoza  None  paid   \n",
       "51  None  Cancelled       Cali  F   51      Brown  None  paid   \n",
       "\n",
       "                                              8    9   \\\n",
       "0           Houston-The Woodlands-Sugar Land, TX  GET   \n",
       "1                  Orlando-Kissimmee-Sanford, FL  GET   \n",
       "2                     New Philadelphia-Dover, OH  GET   \n",
       "3              San Francisco-Oakland-Hayward, CA  GET   \n",
       "4                           North Wilkesboro, NC  GET   \n",
       "5                                      Flint, MI  GET   \n",
       "6                Greenville-Anderson-Mauldin, SC  GET   \n",
       "7                Dallas-Fort Worth-Arlington, TX  GET   \n",
       "8                               St. Louis, MO-IL  GET   \n",
       "9                          Birmingham-Hoover, AL  GET   \n",
       "10                    Spokane-Spokane Valley, WA  GET   \n",
       "11      Little Rock-North Little Rock-Conway, AR  GET   \n",
       "12                   Detroit-Warren-Dearborn, MI  GET   \n",
       "13         New York-Newark-Jersey City, NY-NJ-PA  GET   \n",
       "14         New York-Newark-Jersey City, NY-NJ-PA  GET   \n",
       "15   Philadelphia-Camden-Wilmington, PA-NJ-DE-MD  GET   \n",
       "16                             Memphis, TN-MS-AR  GET   \n",
       "17                          Colorado Springs, CO  GET   \n",
       "18                                    Albany, OR  GET   \n",
       "19                   Phoenix-Mesa-Scottsdale, AZ  GET   \n",
       "20                   Phoenix-Mesa-Scottsdale, AZ  GET   \n",
       "21                        San Diego-Carlsbad, CA  GET   \n",
       "22                                   Bozeman, MT  GET   \n",
       "23                            Corpus Christi, TX  GET   \n",
       "24            Chicago-Naperville-Elgin, IL-IN-WI  GET   \n",
       "25                    Denver-Aurora-Lakewood, CO  GET   \n",
       "26                   Albany-Schenectady-Troy, NY  GET   \n",
       "27    Virginia Beach-Norfolk-Newport News, VA-NC  GET   \n",
       "28   Philadelphia-Camden-Wilmington, PA-NJ-DE-MD  GET   \n",
       "29                         Lexington-Fayette, KY  GET   \n",
       "30         New York-Newark-Jersey City, NY-NJ-PA  GET   \n",
       "31                                     Flint, MI  GET   \n",
       "32         New York-Newark-Jersey City, NY-NJ-PA  GET   \n",
       "33                                 Quincy, IL-MO  GET   \n",
       "34                                   Jackson, MS  GET   \n",
       "35              Oxnard-Thousand Oaks-Ventura, CA  GET   \n",
       "36                    Spokane-Spokane Valley, WA  GET   \n",
       "37         New York-Newark-Jersey City, NY-NJ-PA  GET   \n",
       "38                                   Jackson, MS  GET   \n",
       "39     Miami-Fort Lauderdale-West Palm Beach, FL  GET   \n",
       "40  Washington-Arlington-Alexandria, DC-VA-MD-WV  GET   \n",
       "41              Indianapolis-Carmel-Anderson, IN  GET   \n",
       "42                 Baltimore-Columbia-Towson, MD  GET   \n",
       "43     Miami-Fort Lauderdale-West Palm Beach, FL  GET   \n",
       "44                                    Monroe, LA  GET   \n",
       "45            Los Angeles-Long Beach-Anaheim, CA  GET   \n",
       "46            Los Angeles-Long Beach-Anaheim, CA  GET   \n",
       "47            Los Angeles-Long Beach-Anaheim, CA  GET   \n",
       "48                                    London, KY  GET   \n",
       "49                                     Selma, AL  GET   \n",
       "50                            Kansas City, MO-KS  GET   \n",
       "51                          Cleveland-Elyria, OH  GET   \n",
       "\n",
       "                           10             11    12    13   14             15  \\\n",
       "0   Cancellation Confirmation  1537898335000   191  None  200  1542038645000   \n",
       "1   Cancellation Confirmation  1535907116000   351  None  200  1542472842000   \n",
       "2   Cancellation Confirmation  1537634865000  1519  None  200  1541463632000   \n",
       "3   Cancellation Confirmation  1537376437000   145  None  200  1540611104000   \n",
       "4   Cancellation Confirmation  1537208989000   188  None  200  1543073753000   \n",
       "5   Cancellation Confirmation  1537964483000     6  None  200  1538753070000   \n",
       "6   Cancellation Confirmation  1536679150000   109  None  200  1539475237000   \n",
       "7   Cancellation Confirmation  1537550344000   172  None  200  1543143782000   \n",
       "8   Cancellation Confirmation  1531679695000   267  None  200  1541120964000   \n",
       "9   Cancellation Confirmation  1533247234000    17  None  200  1540062847000   \n",
       "10  Cancellation Confirmation  1532482662000  1819  None  200  1542051608000   \n",
       "11  Cancellation Confirmation  1533522419000   205  None  200  1543491909000   \n",
       "12  Cancellation Confirmation  1535032914000   276  None  200  1541138333000   \n",
       "13  Cancellation Confirmation  1537699856000  1583  None  200  1541340091000   \n",
       "14  Cancellation Confirmation  1536343087000    42  None  200  1538695038000   \n",
       "15  Cancellation Confirmation  1538333829000   797  None  200  1539465584000   \n",
       "16  Cancellation Confirmation  1535498705000  1029  None  200  1540062068000   \n",
       "17  Cancellation Confirmation  1526739206000   397  None  200  1543009344000   \n",
       "18  Cancellation Confirmation  1537970819000    40  None  200  1538417085000   \n",
       "19  Cancellation Confirmation  1537707098000    44  None  200  1538705338000   \n",
       "20  Cancellation Confirmation  1537167593000   540  None  200  1539033046000   \n",
       "21  Cancellation Confirmation  1534175704000   270  None  200  1541746863000   \n",
       "22  Cancellation Confirmation  1533886191000  1324  None  200  1540875543000   \n",
       "23  Cancellation Confirmation  1533157139000   174  None  200  1539318918000   \n",
       "24  Cancellation Confirmation  1537381154000   156  None  200  1541100900000   \n",
       "25  Cancellation Confirmation  1535066380000   842  None  200  1539729037000   \n",
       "26  Cancellation Confirmation  1536102943000  1059  None  200  1540402387000   \n",
       "27  Cancellation Confirmation  1534255113000   843  None  200  1539588854000   \n",
       "28  Cancellation Confirmation  1536956945000   268  None  200  1541153274000   \n",
       "29  Cancellation Confirmation  1538080987000   934  None  200  1539761972000   \n",
       "30  Cancellation Confirmation  1535389443000   185  None  200  1542740649000   \n",
       "31  Cancellation Confirmation  1538289776000   802  None  200  1539736161000   \n",
       "32  Cancellation Confirmation  1537043743000   301  None  200  1542313003000   \n",
       "33  Cancellation Confirmation  1534942082000  1092  None  200  1540050556000   \n",
       "34  Cancellation Confirmation  1538050164000  2003  None  200  1542630896000   \n",
       "35  Cancellation Confirmation  1528403713000   881  None  200  1539759749000   \n",
       "36  Cancellation Confirmation  1536257455000    71  None  200  1538953071000   \n",
       "37  Cancellation Confirmation  1532625569000   129  None  200  1540299152000   \n",
       "38  Cancellation Confirmation  1529643103000  1940  None  200  1542234867000   \n",
       "39  Cancellation Confirmation  1537309344000    86  None  200  1539274781000   \n",
       "40  Cancellation Confirmation  1538255180000   136  None  200  1539629720000   \n",
       "41  Cancellation Confirmation  1536817381000   508  None  200  1539375441000   \n",
       "42  Cancellation Confirmation  1537537765000   347  None  200  1542356278000   \n",
       "43  Cancellation Confirmation  1534627466000    53  None  200  1538498205000   \n",
       "44  Cancellation Confirmation  1532610926000   115  None  200  1539971825000   \n",
       "45  Cancellation Confirmation  1536988041000  1864  None  200  1542181031000   \n",
       "46  Cancellation Confirmation  1533885783000  1072  None  200  1540193374000   \n",
       "47  Cancellation Confirmation  1537679535000  1383  None  200  1541166424000   \n",
       "48  Cancellation Confirmation  1537897424000   208  None  200  1540353577000   \n",
       "49  Cancellation Confirmation  1537956751000  1112  None  200  1540223006000   \n",
       "50  Cancellation Confirmation  1535623466000   514  None  200  1538943990000   \n",
       "51  Cancellation Confirmation  1537367773000   165  None  200  1541184816000   \n",
       "\n",
       "                                                   16      17  \n",
       "0   Mozilla/5.0 (Macintosh; Intel Mac OS X 10.9; r...  100022  \n",
       "1   Mozilla/5.0 (Macintosh; Intel Mac OS X 10.9; r...  200020  \n",
       "2   Mozilla/5.0 (Windows NT 6.1; WOW64; Trident/7....      28  \n",
       "3   \"Mozilla/5.0 (Windows NT 6.1; WOW64) AppleWebK...  100009  \n",
       "4   \"Mozilla/5.0 (Macintosh; Intel Mac OS X 10_9_4...  100015  \n",
       "5   \"Mozilla/5.0 (Windows NT 6.3; WOW64) AppleWebK...  100006  \n",
       "6   \"Mozilla/5.0 (Windows NT 6.1; WOW64) AppleWebK...  100023  \n",
       "7   \"Mozilla/5.0 (Macintosh; Intel Mac OS X 10_9_4...  100021  \n",
       "8   \"Mozilla/5.0 (Macintosh; Intel Mac OS X 10_9_4...  200011  \n",
       "9   \"Mozilla/5.0 (iPhone; CPU iPhone OS 7_1_2 like...  100017  \n",
       "10  Mozilla/5.0 (Windows NT 6.1; WOW64; rv:32.0) G...      54  \n",
       "11  \"Mozilla/5.0 (Windows NT 6.3; WOW64) AppleWebK...  100007  \n",
       "12  Mozilla/5.0 (Macintosh; Intel Mac OS X 10.7; r...  200021  \n",
       "13  \"Mozilla/5.0 (Macintosh; Intel Mac OS X 10_9_4...     103  \n",
       "14  Mozilla/5.0 (Windows NT 6.1; rv:31.0) Gecko/20...  100024  \n",
       "15  Mozilla/5.0 (Windows NT 6.1; WOW64; rv:24.0) G...      17  \n",
       "16  Mozilla/5.0 (X11; Ubuntu; Linux i686; rv:31.0)...     122  \n",
       "17  \"Mozilla/5.0 (Windows NT 5.1) AppleWebKit/537....  300001  \n",
       "18  Mozilla/5.0 (Windows NT 6.1; WOW64; rv:31.0) G...  100011  \n",
       "19  \"Mozilla/5.0 (X11; Linux x86_64) AppleWebKit/5...  300007  \n",
       "20  \"Mozilla/5.0 (iPhone; CPU iPhone OS 7_1_2 like...      32  \n",
       "21  \"Mozilla/5.0 (iPhone; CPU iPhone OS 7_1_2 like...  200015  \n",
       "22  \"Mozilla/5.0 (Windows NT 6.1; WOW64) AppleWebK...       3  \n",
       "23  \"Mozilla/5.0 (Macintosh; Intel Mac OS X 10_9_4...     125  \n",
       "24  \"Mozilla/5.0 (Macintosh; Intel Mac OS X 10_9_4...  100012  \n",
       "25  Mozilla/5.0 (Windows NT 6.2; WOW64; rv:31.0) G...     101  \n",
       "26  Mozilla/5.0 (Windows NT 6.1; WOW64; rv:31.0) G...      73  \n",
       "27  \"Mozilla/5.0 (Macintosh; Intel Mac OS X 10_9_4...     143  \n",
       "28  \"Mozilla/5.0 (iPhone; CPU iPhone OS 7_1_2 like...  200018  \n",
       "29  \"Mozilla/5.0 (Windows NT 6.1; WOW64) AppleWebK...      51  \n",
       "30  \"Mozilla/5.0 (Windows NT 6.1; WOW64) AppleWebK...  100014  \n",
       "31  \"Mozilla/5.0 (Windows NT 6.3; WOW64) AppleWebK...     129  \n",
       "32  \"Mozilla/5.0 (Macintosh; Intel Mac OS X 10_9_4...  200017  \n",
       "33  \"Mozilla/5.0 (Windows NT 6.1; WOW64) AppleWebK...      87  \n",
       "34  \"Mozilla/5.0 (Macintosh; Intel Mac OS X 10_9_2...      53  \n",
       "35  Mozilla/5.0 (X11; Ubuntu; Linux x86_64; rv:31....     121  \n",
       "36  Mozilla/5.0 (X11; Ubuntu; Linux x86_64; rv:31....  100019  \n",
       "37  \"Mozilla/5.0 (Macintosh; Intel Mac OS X 10_9_4...  100025  \n",
       "38  \"Mozilla/5.0 (Windows NT 6.1; WOW64) AppleWebK...      70  \n",
       "39  Mozilla/5.0 (Windows NT 6.1; WOW64; rv:31.0) G...  100003  \n",
       "40  \"Mozilla/5.0 (Windows NT 6.1; WOW64) AppleWebK...  200001  \n",
       "41  Mozilla/5.0 (Windows NT 6.1; WOW64; rv:31.0) G...     105  \n",
       "42  \"Mozilla/5.0 (Macintosh; Intel Mac OS X 10_9_4...  200016  \n",
       "43  \"Mozilla/5.0 (Macintosh; Intel Mac OS X 10_6_8...  100001  \n",
       "44  \"Mozilla/5.0 (Macintosh; Intel Mac OS X 10_9_4...  100005  \n",
       "45  \"Mozilla/5.0 (Macintosh; Intel Mac OS X 10_9_4...      29  \n",
       "46  Mozilla/5.0 (Windows NT 6.3; WOW64; rv:31.0) G...      12  \n",
       "47  \"Mozilla/5.0 (Macintosh; Intel Mac OS X 10_9_4...     106  \n",
       "48  Mozilla/5.0 (X11; Ubuntu; Linux x86_64; rv:31....  200024  \n",
       "49  \"Mozilla/5.0 (Windows NT 6.3; WOW64) AppleWebK...      58  \n",
       "50  \"Mozilla/5.0 (Macintosh; Intel Mac OS X 10_9_4...      18  \n",
       "51  \"Mozilla/5.0 (Windows NT 6.1) AppleWebKit/537....  100013  "
      ]
     },
     "execution_count": 27,
     "metadata": {},
     "output_type": "execute_result"
    }
   ],
   "source": [
    "pd.DataFrame(df.filter(df.page == \"Cancellation Confirmation\").distinct().collect())"
   ]
  },
  {
   "cell_type": "markdown",
   "metadata": {},
   "source": [
    "#### Generate new column with churn flag"
   ]
  },
  {
   "cell_type": "code",
   "execution_count": 28,
   "metadata": {},
   "outputs": [],
   "source": [
    "flag_churn_event = udf(lambda x: 1 if x == \"Cancellation Confirmation\" else 0, IntegerType())"
   ]
  },
  {
   "cell_type": "code",
   "execution_count": 29,
   "metadata": {},
   "outputs": [],
   "source": [
    "df = df.withColumn(\"churned\", flag_churn_event(\"page\"))"
   ]
  },
  {
   "cell_type": "markdown",
   "metadata": {},
   "source": [
    "It can be the case that a customer used the service multiple times and then churned later. That he churned has to \n",
    "be noted then for all of his privious sessions as well."
   ]
  },
  {
   "cell_type": "code",
   "execution_count": 30,
   "metadata": {},
   "outputs": [],
   "source": [
    "windowval = Window.partitionBy(\"userId\").orderBy(desc(\"ts\")).rangeBetween(Window.unboundedPreceding, 0)"
   ]
  },
  {
   "cell_type": "code",
   "execution_count": 31,
   "metadata": {},
   "outputs": [],
   "source": [
    "df = df.withColumn(\"churned\", sum(\"churned\").over(windowval))"
   ]
  },
  {
   "cell_type": "code",
   "execution_count": 32,
   "metadata": {},
   "outputs": [
    {
     "data": {
      "text/html": [
       "<div>\n",
       "<style scoped>\n",
       "    .dataframe tbody tr th:only-of-type {\n",
       "        vertical-align: middle;\n",
       "    }\n",
       "\n",
       "    .dataframe tbody tr th {\n",
       "        vertical-align: top;\n",
       "    }\n",
       "\n",
       "    .dataframe thead th {\n",
       "        text-align: right;\n",
       "    }\n",
       "</style>\n",
       "<table border=\"1\" class=\"dataframe\">\n",
       "  <thead>\n",
       "    <tr style=\"text-align: right;\">\n",
       "      <th></th>\n",
       "      <th>0</th>\n",
       "      <th>1</th>\n",
       "      <th>2</th>\n",
       "      <th>3</th>\n",
       "      <th>4</th>\n",
       "      <th>5</th>\n",
       "      <th>6</th>\n",
       "      <th>7</th>\n",
       "      <th>8</th>\n",
       "      <th>9</th>\n",
       "      <th>10</th>\n",
       "      <th>11</th>\n",
       "      <th>12</th>\n",
       "      <th>13</th>\n",
       "      <th>14</th>\n",
       "      <th>15</th>\n",
       "      <th>16</th>\n",
       "      <th>17</th>\n",
       "      <th>18</th>\n",
       "    </tr>\n",
       "  </thead>\n",
       "  <tbody>\n",
       "    <tr>\n",
       "      <th>0</th>\n",
       "      <td>None</td>\n",
       "      <td>Logged In</td>\n",
       "      <td>Darianna</td>\n",
       "      <td>F</td>\n",
       "      <td>34</td>\n",
       "      <td>Carpenter</td>\n",
       "      <td>NaN</td>\n",
       "      <td>free</td>\n",
       "      <td>Bridgeport-Stamford-Norwalk, CT</td>\n",
       "      <td>PUT</td>\n",
       "      <td>Logout</td>\n",
       "      <td>1538016340000</td>\n",
       "      <td>187</td>\n",
       "      <td>None</td>\n",
       "      <td>307</td>\n",
       "      <td>1542823952000</td>\n",
       "      <td>\"Mozilla/5.0 (iPhone; CPU iPhone OS 7_1_2 like...</td>\n",
       "      <td>100010</td>\n",
       "      <td>0</td>\n",
       "    </tr>\n",
       "    <tr>\n",
       "      <th>1</th>\n",
       "      <td>Lily Allen</td>\n",
       "      <td>Logged In</td>\n",
       "      <td>Darianna</td>\n",
       "      <td>F</td>\n",
       "      <td>33</td>\n",
       "      <td>Carpenter</td>\n",
       "      <td>185.25995</td>\n",
       "      <td>free</td>\n",
       "      <td>Bridgeport-Stamford-Norwalk, CT</td>\n",
       "      <td>PUT</td>\n",
       "      <td>NextSong</td>\n",
       "      <td>1538016340000</td>\n",
       "      <td>187</td>\n",
       "      <td>22</td>\n",
       "      <td>200</td>\n",
       "      <td>1542823951000</td>\n",
       "      <td>\"Mozilla/5.0 (iPhone; CPU iPhone OS 7_1_2 like...</td>\n",
       "      <td>100010</td>\n",
       "      <td>0</td>\n",
       "    </tr>\n",
       "    <tr>\n",
       "      <th>2</th>\n",
       "      <td>John Waite</td>\n",
       "      <td>Logged In</td>\n",
       "      <td>Darianna</td>\n",
       "      <td>F</td>\n",
       "      <td>32</td>\n",
       "      <td>Carpenter</td>\n",
       "      <td>269.76608</td>\n",
       "      <td>free</td>\n",
       "      <td>Bridgeport-Stamford-Norwalk, CT</td>\n",
       "      <td>PUT</td>\n",
       "      <td>NextSong</td>\n",
       "      <td>1538016340000</td>\n",
       "      <td>187</td>\n",
       "      <td>Missing You</td>\n",
       "      <td>200</td>\n",
       "      <td>1542823682000</td>\n",
       "      <td>\"Mozilla/5.0 (iPhone; CPU iPhone OS 7_1_2 like...</td>\n",
       "      <td>100010</td>\n",
       "      <td>0</td>\n",
       "    </tr>\n",
       "    <tr>\n",
       "      <th>3</th>\n",
       "      <td>Hermano</td>\n",
       "      <td>Logged In</td>\n",
       "      <td>Darianna</td>\n",
       "      <td>F</td>\n",
       "      <td>31</td>\n",
       "      <td>Carpenter</td>\n",
       "      <td>115.90485</td>\n",
       "      <td>free</td>\n",
       "      <td>Bridgeport-Stamford-Norwalk, CT</td>\n",
       "      <td>PUT</td>\n",
       "      <td>NextSong</td>\n",
       "      <td>1538016340000</td>\n",
       "      <td>187</td>\n",
       "      <td>Letters From Madrid</td>\n",
       "      <td>200</td>\n",
       "      <td>1542823567000</td>\n",
       "      <td>\"Mozilla/5.0 (iPhone; CPU iPhone OS 7_1_2 like...</td>\n",
       "      <td>100010</td>\n",
       "      <td>0</td>\n",
       "    </tr>\n",
       "    <tr>\n",
       "      <th>4</th>\n",
       "      <td>None</td>\n",
       "      <td>Logged In</td>\n",
       "      <td>Darianna</td>\n",
       "      <td>F</td>\n",
       "      <td>30</td>\n",
       "      <td>Carpenter</td>\n",
       "      <td>NaN</td>\n",
       "      <td>free</td>\n",
       "      <td>Bridgeport-Stamford-Norwalk, CT</td>\n",
       "      <td>GET</td>\n",
       "      <td>Roll Advert</td>\n",
       "      <td>1538016340000</td>\n",
       "      <td>187</td>\n",
       "      <td>None</td>\n",
       "      <td>200</td>\n",
       "      <td>1542823257000</td>\n",
       "      <td>\"Mozilla/5.0 (iPhone; CPU iPhone OS 7_1_2 like...</td>\n",
       "      <td>100010</td>\n",
       "      <td>0</td>\n",
       "    </tr>\n",
       "    <tr>\n",
       "      <th>...</th>\n",
       "      <td>...</td>\n",
       "      <td>...</td>\n",
       "      <td>...</td>\n",
       "      <td>...</td>\n",
       "      <td>...</td>\n",
       "      <td>...</td>\n",
       "      <td>...</td>\n",
       "      <td>...</td>\n",
       "      <td>...</td>\n",
       "      <td>...</td>\n",
       "      <td>...</td>\n",
       "      <td>...</td>\n",
       "      <td>...</td>\n",
       "      <td>...</td>\n",
       "      <td>...</td>\n",
       "      <td>...</td>\n",
       "      <td>...</td>\n",
       "      <td>...</td>\n",
       "      <td>...</td>\n",
       "    </tr>\n",
       "    <tr>\n",
       "      <th>278149</th>\n",
       "      <td>None</td>\n",
       "      <td>Logged In</td>\n",
       "      <td>Delaney</td>\n",
       "      <td>F</td>\n",
       "      <td>4</td>\n",
       "      <td>Perez</td>\n",
       "      <td>NaN</td>\n",
       "      <td>free</td>\n",
       "      <td>Miami-Fort Lauderdale-West Palm Beach, FL</td>\n",
       "      <td>GET</td>\n",
       "      <td>Roll Advert</td>\n",
       "      <td>1534627466000</td>\n",
       "      <td>1</td>\n",
       "      <td>None</td>\n",
       "      <td>200</td>\n",
       "      <td>1538376783000</td>\n",
       "      <td>\"Mozilla/5.0 (Macintosh; Intel Mac OS X 10_6_8...</td>\n",
       "      <td>100001</td>\n",
       "      <td>1</td>\n",
       "    </tr>\n",
       "    <tr>\n",
       "      <th>278150</th>\n",
       "      <td>Gorillaz</td>\n",
       "      <td>Logged In</td>\n",
       "      <td>Delaney</td>\n",
       "      <td>F</td>\n",
       "      <td>3</td>\n",
       "      <td>Perez</td>\n",
       "      <td>602.17424</td>\n",
       "      <td>free</td>\n",
       "      <td>Miami-Fort Lauderdale-West Palm Beach, FL</td>\n",
       "      <td>PUT</td>\n",
       "      <td>NextSong</td>\n",
       "      <td>1534627466000</td>\n",
       "      <td>1</td>\n",
       "      <td>Kids With Guns (Quiet Village Remix)</td>\n",
       "      <td>200</td>\n",
       "      <td>1538376747000</td>\n",
       "      <td>\"Mozilla/5.0 (Macintosh; Intel Mac OS X 10_6_8...</td>\n",
       "      <td>100001</td>\n",
       "      <td>1</td>\n",
       "    </tr>\n",
       "    <tr>\n",
       "      <th>278151</th>\n",
       "      <td>None</td>\n",
       "      <td>Logged In</td>\n",
       "      <td>Delaney</td>\n",
       "      <td>F</td>\n",
       "      <td>2</td>\n",
       "      <td>Perez</td>\n",
       "      <td>NaN</td>\n",
       "      <td>free</td>\n",
       "      <td>Miami-Fort Lauderdale-West Palm Beach, FL</td>\n",
       "      <td>GET</td>\n",
       "      <td>Roll Advert</td>\n",
       "      <td>1534627466000</td>\n",
       "      <td>1</td>\n",
       "      <td>None</td>\n",
       "      <td>200</td>\n",
       "      <td>1538376542000</td>\n",
       "      <td>\"Mozilla/5.0 (Macintosh; Intel Mac OS X 10_6_8...</td>\n",
       "      <td>100001</td>\n",
       "      <td>1</td>\n",
       "    </tr>\n",
       "    <tr>\n",
       "      <th>278152</th>\n",
       "      <td>Lady GaGa / Colby O'Donis</td>\n",
       "      <td>Logged In</td>\n",
       "      <td>Delaney</td>\n",
       "      <td>F</td>\n",
       "      <td>1</td>\n",
       "      <td>Perez</td>\n",
       "      <td>238.54975</td>\n",
       "      <td>free</td>\n",
       "      <td>Miami-Fort Lauderdale-West Palm Beach, FL</td>\n",
       "      <td>PUT</td>\n",
       "      <td>NextSong</td>\n",
       "      <td>1534627466000</td>\n",
       "      <td>1</td>\n",
       "      <td>Just Dance</td>\n",
       "      <td>200</td>\n",
       "      <td>1538376509000</td>\n",
       "      <td>\"Mozilla/5.0 (Macintosh; Intel Mac OS X 10_6_8...</td>\n",
       "      <td>100001</td>\n",
       "      <td>1</td>\n",
       "    </tr>\n",
       "    <tr>\n",
       "      <th>278153</th>\n",
       "      <td>None</td>\n",
       "      <td>Logged In</td>\n",
       "      <td>Delaney</td>\n",
       "      <td>F</td>\n",
       "      <td>0</td>\n",
       "      <td>Perez</td>\n",
       "      <td>NaN</td>\n",
       "      <td>free</td>\n",
       "      <td>Miami-Fort Lauderdale-West Palm Beach, FL</td>\n",
       "      <td>GET</td>\n",
       "      <td>Home</td>\n",
       "      <td>1534627466000</td>\n",
       "      <td>1</td>\n",
       "      <td>None</td>\n",
       "      <td>200</td>\n",
       "      <td>1538376504000</td>\n",
       "      <td>\"Mozilla/5.0 (Macintosh; Intel Mac OS X 10_6_8...</td>\n",
       "      <td>100001</td>\n",
       "      <td>1</td>\n",
       "    </tr>\n",
       "  </tbody>\n",
       "</table>\n",
       "<p>278154 rows × 19 columns</p>\n",
       "</div>"
      ],
      "text/plain": [
       "                               0          1         2  3   4          5   \\\n",
       "0                            None  Logged In  Darianna  F  34  Carpenter   \n",
       "1                      Lily Allen  Logged In  Darianna  F  33  Carpenter   \n",
       "2                      John Waite  Logged In  Darianna  F  32  Carpenter   \n",
       "3                         Hermano  Logged In  Darianna  F  31  Carpenter   \n",
       "4                            None  Logged In  Darianna  F  30  Carpenter   \n",
       "...                           ...        ...       ... ..  ..        ...   \n",
       "278149                       None  Logged In   Delaney  F   4      Perez   \n",
       "278150                   Gorillaz  Logged In   Delaney  F   3      Perez   \n",
       "278151                       None  Logged In   Delaney  F   2      Perez   \n",
       "278152  Lady GaGa / Colby O'Donis  Logged In   Delaney  F   1      Perez   \n",
       "278153                       None  Logged In   Delaney  F   0      Perez   \n",
       "\n",
       "               6     7                                          8    9   \\\n",
       "0             NaN  free            Bridgeport-Stamford-Norwalk, CT  PUT   \n",
       "1       185.25995  free            Bridgeport-Stamford-Norwalk, CT  PUT   \n",
       "2       269.76608  free            Bridgeport-Stamford-Norwalk, CT  PUT   \n",
       "3       115.90485  free            Bridgeport-Stamford-Norwalk, CT  PUT   \n",
       "4             NaN  free            Bridgeport-Stamford-Norwalk, CT  GET   \n",
       "...           ...   ...                                        ...  ...   \n",
       "278149        NaN  free  Miami-Fort Lauderdale-West Palm Beach, FL  GET   \n",
       "278150  602.17424  free  Miami-Fort Lauderdale-West Palm Beach, FL  PUT   \n",
       "278151        NaN  free  Miami-Fort Lauderdale-West Palm Beach, FL  GET   \n",
       "278152  238.54975  free  Miami-Fort Lauderdale-West Palm Beach, FL  PUT   \n",
       "278153        NaN  free  Miami-Fort Lauderdale-West Palm Beach, FL  GET   \n",
       "\n",
       "                 10             11   12                                    13  \\\n",
       "0            Logout  1538016340000  187                                  None   \n",
       "1          NextSong  1538016340000  187                                    22   \n",
       "2          NextSong  1538016340000  187                           Missing You   \n",
       "3          NextSong  1538016340000  187                   Letters From Madrid   \n",
       "4       Roll Advert  1538016340000  187                                  None   \n",
       "...             ...            ...  ...                                   ...   \n",
       "278149  Roll Advert  1534627466000    1                                  None   \n",
       "278150     NextSong  1534627466000    1  Kids With Guns (Quiet Village Remix)   \n",
       "278151  Roll Advert  1534627466000    1                                  None   \n",
       "278152     NextSong  1534627466000    1                            Just Dance   \n",
       "278153         Home  1534627466000    1                                  None   \n",
       "\n",
       "         14             15                                                 16  \\\n",
       "0       307  1542823952000  \"Mozilla/5.0 (iPhone; CPU iPhone OS 7_1_2 like...   \n",
       "1       200  1542823951000  \"Mozilla/5.0 (iPhone; CPU iPhone OS 7_1_2 like...   \n",
       "2       200  1542823682000  \"Mozilla/5.0 (iPhone; CPU iPhone OS 7_1_2 like...   \n",
       "3       200  1542823567000  \"Mozilla/5.0 (iPhone; CPU iPhone OS 7_1_2 like...   \n",
       "4       200  1542823257000  \"Mozilla/5.0 (iPhone; CPU iPhone OS 7_1_2 like...   \n",
       "...     ...            ...                                                ...   \n",
       "278149  200  1538376783000  \"Mozilla/5.0 (Macintosh; Intel Mac OS X 10_6_8...   \n",
       "278150  200  1538376747000  \"Mozilla/5.0 (Macintosh; Intel Mac OS X 10_6_8...   \n",
       "278151  200  1538376542000  \"Mozilla/5.0 (Macintosh; Intel Mac OS X 10_6_8...   \n",
       "278152  200  1538376509000  \"Mozilla/5.0 (Macintosh; Intel Mac OS X 10_6_8...   \n",
       "278153  200  1538376504000  \"Mozilla/5.0 (Macintosh; Intel Mac OS X 10_6_8...   \n",
       "\n",
       "            17  18  \n",
       "0       100010   0  \n",
       "1       100010   0  \n",
       "2       100010   0  \n",
       "3       100010   0  \n",
       "4       100010   0  \n",
       "...        ...  ..  \n",
       "278149  100001   1  \n",
       "278150  100001   1  \n",
       "278151  100001   1  \n",
       "278152  100001   1  \n",
       "278153  100001   1  \n",
       "\n",
       "[278154 rows x 19 columns]"
      ]
     },
     "execution_count": 32,
     "metadata": {},
     "output_type": "execute_result"
    }
   ],
   "source": [
    "pd.DataFrame(df.collect())"
   ]
  },
  {
   "cell_type": "markdown",
   "metadata": {},
   "source": [
    "#### Generate overview of how many users churned and how many not in the data set"
   ]
  },
  {
   "cell_type": "code",
   "execution_count": 33,
   "metadata": {},
   "outputs": [],
   "source": [
    "df_churn = df.select(['userId', 'churned']).dropDuplicates().groupBy('churned').count()"
   ]
  },
  {
   "cell_type": "markdown",
   "metadata": {},
   "source": [
    "#### Check number of users that did not churn"
   ]
  },
  {
   "cell_type": "code",
   "execution_count": 34,
   "metadata": {},
   "outputs": [
    {
     "name": "stdout",
     "output_type": "stream",
     "text": [
      "+-------+-----+\n",
      "|churned|count|\n",
      "+-------+-----+\n",
      "|      0|  173|\n",
      "|      1|   52|\n",
      "+-------+-----+\n",
      "\n"
     ]
    }
   ],
   "source": [
    "df_churn.show()"
   ]
  },
  {
   "cell_type": "markdown",
   "metadata": {},
   "source": [
    "#### Check number of sessions where no churn happend"
   ]
  },
  {
   "cell_type": "code",
   "execution_count": 35,
   "metadata": {},
   "outputs": [
    {
     "name": "stdout",
     "output_type": "stream",
     "text": [
      "+-------+------+\n",
      "|churned| count|\n",
      "+-------+------+\n",
      "|      0|233290|\n",
      "|      1| 44864|\n",
      "+-------+------+\n",
      "\n"
     ]
    }
   ],
   "source": [
    "df.groupby(\"churned\").count().show()"
   ]
  },
  {
   "cell_type": "markdown",
   "metadata": {},
   "source": [
    "#### Have a look on which users churned "
   ]
  },
  {
   "cell_type": "code",
   "execution_count": 36,
   "metadata": {},
   "outputs": [
    {
     "name": "stdout",
     "output_type": "stream",
     "text": [
      "+------+------------+\n",
      "|userId|max(churned)|\n",
      "+------+------------+\n",
      "|100010|           0|\n",
      "|200002|           0|\n",
      "|   125|           1|\n",
      "|   124|           0|\n",
      "|    51|           1|\n",
      "|     7|           0|\n",
      "|    15|           0|\n",
      "|    54|           1|\n",
      "|   155|           0|\n",
      "|100014|           1|\n",
      "|   132|           0|\n",
      "|   154|           0|\n",
      "|   101|           1|\n",
      "|    11|           0|\n",
      "|   138|           0|\n",
      "|300017|           0|\n",
      "|100021|           1|\n",
      "|    29|           1|\n",
      "|    69|           0|\n",
      "|   112|           0|\n",
      "+------+------------+\n",
      "only showing top 20 rows\n",
      "\n"
     ]
    }
   ],
   "source": [
    "df.groupby(\"userId\").max(\"churned\").show()"
   ]
  },
  {
   "cell_type": "markdown",
   "metadata": {},
   "source": [
    "#### Generating Barplot to compare churn rate"
   ]
  },
  {
   "cell_type": "code",
   "execution_count": 37,
   "metadata": {},
   "outputs": [
    {
     "data": {
      "text/plain": [
       "[Row(max(churned)=0, count=173), Row(max(churned)=1, count=52)]"
      ]
     },
     "execution_count": 37,
     "metadata": {},
     "output_type": "execute_result"
    }
   ],
   "source": [
    "df_churned = df.groupby(\"userId\").max(\"churned\").groupby(\"max(churned)\").count().collect()\n",
    "df_churned"
   ]
  },
  {
   "cell_type": "code",
   "execution_count": 38,
   "metadata": {},
   "outputs": [
    {
     "data": {
      "text/plain": [
       "<AxesSubplot:xlabel='0', ylabel='1'>"
      ]
     },
     "execution_count": 38,
     "metadata": {},
     "output_type": "execute_result"
    },
    {
     "data": {
      "image/png": "[encoded data removed]",
      "text/plain": [
       "<Figure size 432x288 with 1 Axes>"
      ]
     },
     "metadata": {
      "needs_background": "light"
     },
     "output_type": "display_data"
    }
   ],
   "source": [
    "sns.barplot(data = pd.DataFrame(df_churned), x = 0, y = 1)"
   ]
  },
  {
   "cell_type": "markdown",
   "metadata": {},
   "source": [
    "### EDA"
   ]
  },
  {
   "cell_type": "markdown",
   "metadata": {},
   "source": [
    "#### Checking if gender has an visible effect"
   ]
  },
  {
   "cell_type": "code",
   "execution_count": 39,
   "metadata": {},
   "outputs": [],
   "source": [
    "df_gender = df.select(['userId', 'churned', 'gender']).distinct().groupby('gender', 'churned').count()"
   ]
  },
  {
   "cell_type": "code",
   "execution_count": 40,
   "metadata": {},
   "outputs": [
    {
     "name": "stdout",
     "output_type": "stream",
     "text": [
      "+------+-------+-----+\n",
      "|gender|churned|count|\n",
      "+------+-------+-----+\n",
      "|     F|      0|   84|\n",
      "|     F|      1|   20|\n",
      "|     M|      0|   89|\n",
      "|     M|      1|   32|\n",
      "+------+-------+-----+\n",
      "\n"
     ]
    }
   ],
   "source": [
    "df_gender.show()"
   ]
  },
  {
   "cell_type": "code",
   "execution_count": 41,
   "metadata": {},
   "outputs": [
    {
     "name": "stdout",
     "output_type": "stream",
     "text": [
      "+------+-------+-----+-------------------+\n",
      "|gender|churned|count|               perc|\n",
      "+------+-------+-----+-------------------+\n",
      "|     F|      0|   84|0.48554913294797686|\n",
      "|     M|      0|   89| 0.5144508670520231|\n",
      "|     F|      1|   20|0.38461538461538464|\n",
      "|     M|      1|   32| 0.6153846153846154|\n",
      "+------+-------+-----+-------------------+\n",
      "\n"
     ]
    }
   ],
   "source": [
    "df_gender.withColumn(\"perc\", col(\"count\")/sum(\"count\").over(Window.partitionBy(df_gender[\"churned\"]))).show()"
   ]
  },
  {
   "cell_type": "code",
   "execution_count": 42,
   "metadata": {},
   "outputs": [
    {
     "data": {
      "text/plain": [
       "<AxesSubplot:xlabel='churned', ylabel='count'>"
      ]
     },
     "execution_count": 42,
     "metadata": {},
     "output_type": "execute_result"
    },
    {
     "data": {
      "image/png": "[encoded data removed]",
      "text/plain": [
       "<Figure size 432x288 with 1 Axes>"
      ]
     },
     "metadata": {
      "needs_background": "light"
     },
     "output_type": "display_data"
    }
   ],
   "source": [
    "sns.barplot(data = df_gender.toPandas(), x = \"churned\", y = \"count\", hue = \"gender\")"
   ]
  },
  {
   "cell_type": "markdown",
   "metadata": {},
   "source": [
    "Sligtly more men churned, so it might be that male are more willing to churn"
   ]
  },
  {
   "cell_type": "markdown",
   "metadata": {},
   "source": [
    "#### Checking if the type of subscritption (free or paid alias Level) has an effect"
   ]
  },
  {
   "cell_type": "code",
   "execution_count": 43,
   "metadata": {
    "scrolled": true
   },
   "outputs": [
    {
     "name": "stdout",
     "output_type": "stream",
     "text": [
      "+-----+-------+-----+\n",
      "|level|churned|count|\n",
      "+-----+-------+-----+\n",
      "| free|      0|  149|\n",
      "| paid|      0|  129|\n",
      "| free|      1|   46|\n",
      "| paid|      1|   36|\n",
      "+-----+-------+-----+\n",
      "\n"
     ]
    }
   ],
   "source": [
    "df_level = df.select(['userId', 'churned', 'level']).distinct().groupBy('level', 'churned').count()\n",
    "df_level.show()"
   ]
  },
  {
   "cell_type": "code",
   "execution_count": 44,
   "metadata": {},
   "outputs": [
    {
     "name": "stdout",
     "output_type": "stream",
     "text": [
      "+-----+-------+-----+-------------------+\n",
      "|level|churned|count|               perc|\n",
      "+-----+-------+-----+-------------------+\n",
      "| free|      0|  149| 0.5359712230215827|\n",
      "| paid|      0|  129|0.46402877697841727|\n",
      "| free|      1|   46| 0.5609756097560976|\n",
      "| paid|      1|   36|0.43902439024390244|\n",
      "+-----+-------+-----+-------------------+\n",
      "\n"
     ]
    }
   ],
   "source": [
    "df_level.withColumn(\"perc\", col(\"count\")/sum(\"count\").over(Window.partitionBy(df_level[\"churned\"]))).show()"
   ]
  },
  {
   "cell_type": "markdown",
   "metadata": {},
   "source": [
    "#### Generating Barplot for overview"
   ]
  },
  {
   "cell_type": "code",
   "execution_count": 45,
   "metadata": {},
   "outputs": [
    {
     "data": {
      "text/plain": [
       "<AxesSubplot:xlabel='churned', ylabel='count'>"
      ]
     },
     "execution_count": 45,
     "metadata": {},
     "output_type": "execute_result"
    },
    {
     "data": {
      "image/png": "[encoded data removed]",
      "text/plain": [
       "<Figure size 432x288 with 1 Axes>"
      ]
     },
     "metadata": {
      "needs_background": "light"
     },
     "output_type": "display_data"
    }
   ],
   "source": [
    "sns.barplot(data = df_level.toPandas(), x = \"churned\", y = \"count\", hue = \"level\")"
   ]
  },
  {
   "cell_type": "markdown",
   "metadata": {},
   "source": [
    "Looks like a membership slightly benefits a non churning event."
   ]
  },
  {
   "cell_type": "markdown",
   "metadata": {},
   "source": [
    "#### Checking effect of Page Visits and Churn"
   ]
  },
  {
   "cell_type": "code",
   "execution_count": 46,
   "metadata": {},
   "outputs": [],
   "source": [
    "df_page = df.select(['userId', 'churned', 'page']).distinct().groupBy('page','churned').count()"
   ]
  },
  {
   "cell_type": "code",
   "execution_count": 47,
   "metadata": {},
   "outputs": [
    {
     "name": "stdout",
     "output_type": "stream",
     "text": [
      "+--------------------+-------+-----+\n",
      "|                page|churned|count|\n",
      "+--------------------+-------+-----+\n",
      "|            Settings|      0|  152|\n",
      "|         Thumbs Down|      1|   48|\n",
      "|           Thumbs Up|      1|   50|\n",
      "|     Add to Playlist|      1|   50|\n",
      "|               Error|      1|   22|\n",
      "|               About|      1|   31|\n",
      "|         Thumbs Down|      0|  155|\n",
      "|         Roll Advert|      1|   50|\n",
      "|                Home|      0|  172|\n",
      "|Cancellation Conf...|      1|   52|\n",
      "|               Error|      0|   95|\n",
      "|              Cancel|      1|   52|\n",
      "|            Settings|      1|   43|\n",
      "|          Add Friend|      1|   44|\n",
      "|             Upgrade|      0|  131|\n",
      "|           Downgrade|      1|   35|\n",
      "|              Logout|      1|   46|\n",
      "|    Submit Downgrade|      1|    9|\n",
      "|       Save Settings|      0|  102|\n",
      "|           Thumbs Up|      0|  170|\n",
      "|           Downgrade|      0|  119|\n",
      "|      Submit Upgrade|      0|  102|\n",
      "|         Roll Advert|      0|  157|\n",
      "|    Submit Downgrade|      0|   40|\n",
      "|              Logout|      0|  167|\n",
      "|                Home|      1|   51|\n",
      "|          Add Friend|      0|  162|\n",
      "|             Upgrade|      1|   37|\n",
      "|      Submit Upgrade|      1|   29|\n",
      "|               About|      0|  124|\n",
      "|     Add to Playlist|      0|  165|\n",
      "|       Save Settings|      1|   30|\n",
      "|                Help|      1|   43|\n",
      "|            NextSong|      1|   52|\n",
      "|            NextSong|      0|  173|\n",
      "|                Help|      0|  149|\n",
      "+--------------------+-------+-----+\n",
      "\n"
     ]
    }
   ],
   "source": [
    "df_page.show(60)"
   ]
  },
  {
   "cell_type": "code",
   "execution_count": 48,
   "metadata": {},
   "outputs": [
    {
     "name": "stdout",
     "output_type": "stream",
     "text": [
      "+--------------------+-------+-----+--------------------+\n",
      "|                page|churned|count|                perc|\n",
      "+--------------------+-------+-----+--------------------+\n",
      "|            Settings|      0|  152| 0.06509635974304069|\n",
      "|         Thumbs Down|      0|  155| 0.06638115631691649|\n",
      "|                Home|      0|  172| 0.07366167023554604|\n",
      "|               Error|      0|   95| 0.04068522483940043|\n",
      "|             Upgrade|      0|  131|0.056102783725910065|\n",
      "|       Save Settings|      0|  102|  0.0436830835117773|\n",
      "|           Thumbs Up|      0|  170|  0.0728051391862955|\n",
      "|           Downgrade|      0|  119|0.050963597430406855|\n",
      "|      Submit Upgrade|      0|  102|  0.0436830835117773|\n",
      "|         Roll Advert|      0|  157| 0.06723768736616702|\n",
      "|    Submit Downgrade|      0|   40|0.017130620985010708|\n",
      "|              Logout|      0|  167|  0.0715203426124197|\n",
      "|          Add Friend|      0|  162| 0.06937901498929336|\n",
      "|               About|      0|  124| 0.05310492505353319|\n",
      "|     Add to Playlist|      0|  165| 0.07066381156316917|\n",
      "|            NextSong|      0|  173| 0.07408993576017131|\n",
      "|                Help|      0|  149| 0.06381156316916488|\n",
      "|         Thumbs Down|      1|   48| 0.06201550387596899|\n",
      "|           Thumbs Up|      1|   50| 0.06459948320413436|\n",
      "|     Add to Playlist|      1|   50| 0.06459948320413436|\n",
      "|               Error|      1|   22|0.028423772609819122|\n",
      "|               About|      1|   31|0.040051679586563305|\n",
      "|         Roll Advert|      1|   50| 0.06459948320413436|\n",
      "|Cancellation Conf...|      1|   52| 0.06718346253229975|\n",
      "|              Cancel|      1|   52| 0.06718346253229975|\n",
      "|            Settings|      1|   43| 0.05555555555555555|\n",
      "|          Add Friend|      1|   44|0.056847545219638244|\n",
      "|           Downgrade|      1|   35| 0.04521963824289406|\n",
      "|              Logout|      1|   46|0.059431524547803614|\n",
      "|    Submit Downgrade|      1|    9|0.011627906976744186|\n",
      "|                Home|      1|   51| 0.06589147286821706|\n",
      "|             Upgrade|      1|   37| 0.04780361757105943|\n",
      "|      Submit Upgrade|      1|   29|0.037467700258397935|\n",
      "|       Save Settings|      1|   30| 0.03875968992248062|\n",
      "|                Help|      1|   43| 0.05555555555555555|\n",
      "|            NextSong|      1|   52| 0.06718346253229975|\n",
      "+--------------------+-------+-----+--------------------+\n",
      "\n"
     ]
    }
   ],
   "source": [
    "df_page = df_page.withColumn(\"perc\", col(\"count\")/sum(\"count\").over(Window.partitionBy(df_page[\"churned\"])))\n",
    "df_page.show(60)"
   ]
  },
  {
   "cell_type": "markdown",
   "metadata": {},
   "source": [
    "#### Generating Barplot for better overview"
   ]
  },
  {
   "cell_type": "code",
   "execution_count": 49,
   "metadata": {},
   "outputs": [
    {
     "data": {
      "text/plain": [
       "<AxesSubplot:xlabel='perc', ylabel='page'>"
      ]
     },
     "execution_count": 49,
     "metadata": {},
     "output_type": "execute_result"
    },
    {
     "data": {
      "image/png": "[encoded data removed]",
      "text/plain": [
       "<Figure size 1440x1440 with 1 Axes>"
      ]
     },
     "metadata": {
      "needs_background": "light"
     },
     "output_type": "display_data"
    }
   ],
   "source": [
    "plt.figure(figsize = [20,20])\n",
    "sns.barplot(data = df_page.toPandas(), x = 'perc', y = 'page', hue = 'churned')"
   ]
  },
  {
   "cell_type": "markdown",
   "metadata": {},
   "source": [
    "#### Checking if Usage Intensity by viewing the number of unique artist listed has an effect on churn"
   ]
  },
  {
   "cell_type": "code",
   "execution_count": 50,
   "metadata": {},
   "outputs": [
    {
     "name": "stdout",
     "output_type": "stream",
     "text": [
      "+------+-------+-----+\n",
      "|userId|churned|count|\n",
      "+------+-------+-----+\n",
      "|100010|      0|  253|\n",
      "|200002|      0|  340|\n",
      "|   125|      1|    9|\n",
      "|   124|      0| 2233|\n",
      "|    51|      1| 1386|\n",
      "|     7|      0|  143|\n",
      "|    15|      0| 1303|\n",
      "|    54|      1| 1745|\n",
      "|   155|      0|  644|\n",
      "|100014|      1|  234|\n",
      "|   132|      0| 1300|\n",
      "|   154|      0|   79|\n",
      "|   101|      1| 1242|\n",
      "|    11|      0|  535|\n",
      "|   138|      0| 1333|\n",
      "|300017|      0| 2071|\n",
      "|100021|      1|  208|\n",
      "|    29|      1| 1805|\n",
      "|    69|      0|  866|\n",
      "|   112|      0|  196|\n",
      "+------+-------+-----+\n",
      "only showing top 20 rows\n",
      "\n"
     ]
    }
   ],
   "source": [
    "df_artist = df.select(['artist', 'userId', 'churned']).distinct().groupby('userId','churned').count()\n",
    "df_artist.show()"
   ]
  },
  {
   "cell_type": "markdown",
   "metadata": {},
   "source": [
    "#### Generating average of Artist listened for churn"
   ]
  },
  {
   "cell_type": "code",
   "execution_count": 51,
   "metadata": {},
   "outputs": [
    {
     "name": "stdout",
     "output_type": "stream",
     "text": [
      "+-------+-----------------+\n",
      "|churned|       avg(count)|\n",
      "+-------+-----------------+\n",
      "|      0|750.7803468208092|\n",
      "|      1|519.6923076923077|\n",
      "+-------+-----------------+\n",
      "\n"
     ]
    }
   ],
   "source": [
    "df_artist.groupby('churned').agg({\"count\":\"avg\"}).show()"
   ]
  },
  {
   "cell_type": "code",
   "execution_count": 52,
   "metadata": {},
   "outputs": [
    {
     "data": {
      "text/plain": [
       "<AxesSubplot:xlabel='churned', ylabel='count'>"
      ]
     },
     "execution_count": 52,
     "metadata": {},
     "output_type": "execute_result"
    },
    {
     "data": {
      "image/png": "[encoded data removed]",
      "text/plain": [
       "<Figure size 432x288 with 1 Axes>"
      ]
     },
     "metadata": {
      "needs_background": "light"
     },
     "output_type": "display_data"
    }
   ],
   "source": [
    "sns.boxplot(data = df_artist.toPandas(), x = 'churned', y='count')"
   ]
  },
  {
   "cell_type": "markdown",
   "metadata": {},
   "source": [
    "This is not suprising. People who will not like the service will probably not use it as much an thus also in general\n",
    "use less unique artist. An alternative explaination could be that people who do not know many artist or have a shallow music taste\n",
    "do not benefit as much from a music plattform with thousands of artist and therefore churn earlier. "
   ]
  },
  {
   "cell_type": "markdown",
   "metadata": {},
   "source": [
    "#### Checking User Intensity by viewing numbers of songs listen too per hour"
   ]
  },
  {
   "cell_type": "code",
   "execution_count": 53,
   "metadata": {},
   "outputs": [],
   "source": [
    "get_hour = udf(lambda x: datetime.fromtimestamp(x / 1000.0).hour)\n",
    "df = df.withColumn(\"hour\", get_hour(df.ts))"
   ]
  },
  {
   "cell_type": "code",
   "execution_count": 54,
   "metadata": {},
   "outputs": [],
   "source": [
    "songs_per_hour = df.filter((df.page == \"NextSong\")).groupby([df.hour, df.churned]).count().orderBy(df.hour.cast(\"float\"))"
   ]
  },
  {
   "cell_type": "code",
   "execution_count": 55,
   "metadata": {},
   "outputs": [
    {
     "name": "stdout",
     "output_type": "stream",
     "text": [
      "+----+-------+-----+\n",
      "|hour|churned|count|\n",
      "+----+-------+-----+\n",
      "|   0|      1| 1535|\n",
      "|   0|      0| 7527|\n",
      "|   1|      1| 1353|\n",
      "|   1|      0| 7035|\n",
      "|   2|      0| 7014|\n",
      "|   2|      1| 1322|\n",
      "|   3|      1| 1292|\n",
      "|   3|      0| 7063|\n",
      "|   4|      1| 1233|\n",
      "|   4|      0| 6914|\n",
      "|   5|      1| 1218|\n",
      "|   5|      0| 6960|\n",
      "|   6|      0| 6836|\n",
      "|   6|      1| 1218|\n",
      "|   7|      0| 6873|\n",
      "|   7|      1| 1218|\n",
      "|   8|      0| 7023|\n",
      "|   8|      1| 1230|\n",
      "|   9|      0| 7268|\n",
      "|   9|      1| 1230|\n",
      "|  10|      1| 1380|\n",
      "|  10|      0| 7502|\n",
      "|  11|      0| 7440|\n",
      "|  11|      1| 1390|\n",
      "|  12|      1| 1408|\n",
      "|  12|      0| 7918|\n",
      "|  13|      0| 8073|\n",
      "|  13|      1| 1571|\n",
      "|  14|      1| 1702|\n",
      "|  14|      0| 8792|\n",
      "|  15|      0| 9462|\n",
      "|  15|      1| 1892|\n",
      "|  16|      1| 1915|\n",
      "|  16|      0| 9721|\n",
      "|  17|      0| 9464|\n",
      "|  17|      1| 1996|\n",
      "|  18|      0| 9146|\n",
      "|  18|      1| 1978|\n",
      "|  19|      1| 1818|\n",
      "|  19|      0| 9112|\n",
      "|  20|      1| 1749|\n",
      "|  20|      0| 9107|\n",
      "|  21|      0| 8853|\n",
      "|  21|      1| 1605|\n",
      "|  22|      1| 1596|\n",
      "|  22|      0| 8526|\n",
      "|  23|      0| 8085|\n",
      "|  23|      1| 1545|\n",
      "+----+-------+-----+\n",
      "\n"
     ]
    }
   ],
   "source": [
    "songs_per_hour.show(48)"
   ]
  },
  {
   "cell_type": "markdown",
   "metadata": {},
   "source": [
    "Interrestingly most of the songs are listened between 4 pm and 8 pm"
   ]
  },
  {
   "cell_type": "markdown",
   "metadata": {},
   "source": [
    "#### Generating Barplot to show song listening tendencies over time"
   ]
  },
  {
   "cell_type": "code",
   "execution_count": 56,
   "metadata": {},
   "outputs": [
    {
     "data": {
      "text/plain": [
       "<AxesSubplot:xlabel='hour', ylabel='count'>"
      ]
     },
     "execution_count": 56,
     "metadata": {},
     "output_type": "execute_result"
    },
    {
     "data": {
      "image/png": "[encoded data removed]",
      "text/plain": [
       "<Figure size 1440x1440 with 1 Axes>"
      ]
     },
     "metadata": {
      "needs_background": "light"
     },
     "output_type": "display_data"
    }
   ],
   "source": [
    "plt.figure(figsize=[20,20])\n",
    "sns.barplot(data = songs_per_hour.toPandas(), x = \"hour\", y = \"count\", hue = \"churned\")"
   ]
  },
  {
   "cell_type": "markdown",
   "metadata": {},
   "source": [
    "#### Analyzing if the Membership duration has an effect on Churning rate"
   ]
  },
  {
   "cell_type": "code",
   "execution_count": 57,
   "metadata": {},
   "outputs": [],
   "source": [
    "df_membership = df.select(['userId', 'registration', 'ts', 'churned']).dropDuplicates().sort('userId')"
   ]
  },
  {
   "cell_type": "code",
   "execution_count": 58,
   "metadata": {},
   "outputs": [
    {
     "name": "stdout",
     "output_type": "stream",
     "text": [
      "+------+-------------+-------------+-------+\n",
      "|userId| registration|           ts|churned|\n",
      "+------+-------------+-------------+-------+\n",
      "|    10|1538159495000|1542630394000|      0|\n",
      "|    10|1538159495000|1542631090000|      0|\n",
      "|    10|1538159495000|1542630407000|      0|\n",
      "|    10|1538159495000|1542631690000|      0|\n",
      "|    10|1538159495000|1542631517000|      0|\n",
      "|    10|1538159495000|1542630866000|      0|\n",
      "|    10|1538159495000|1542630637000|      0|\n",
      "|    10|1538159495000|1542631788000|      0|\n",
      "|    10|1538159495000|1542631753000|      0|\n",
      "|    10|1538159495000|1542631518000|      0|\n",
      "+------+-------------+-------------+-------+\n",
      "only showing top 10 rows\n",
      "\n"
     ]
    }
   ],
   "source": [
    "df_membership.show(10)"
   ]
  },
  {
   "cell_type": "markdown",
   "metadata": {},
   "source": [
    "#### Calculate time difference between registration days and last ts of usage"
   ]
  },
  {
   "cell_type": "code",
   "execution_count": 59,
   "metadata": {},
   "outputs": [],
   "source": [
    "usage_win = Window.partitionBy(\"userId\").orderBy(desc(\"ts\"))"
   ]
  },
  {
   "cell_type": "code",
   "execution_count": 60,
   "metadata": {},
   "outputs": [],
   "source": [
    "df_membership = df_membership.withColumn(\"Rank\", dense_rank().over(usage_win))"
   ]
  },
  {
   "cell_type": "code",
   "execution_count": 61,
   "metadata": {},
   "outputs": [],
   "source": [
    "df_membership = df_membership.filter(df_membership.Rank == 1).drop(df_membership.Rank)"
   ]
  },
  {
   "cell_type": "code",
   "execution_count": 62,
   "metadata": {},
   "outputs": [],
   "source": [
    "df_membership = df_membership.withColumn(\"duration_days\", (df_membership['ts']) - (df_membership['registration']))"
   ]
  },
  {
   "cell_type": "code",
   "execution_count": 63,
   "metadata": {},
   "outputs": [],
   "source": [
    "df_membership = df_membership.withColumn('duration_days',(df_membership['duration_days']/1000/3600/24))"
   ]
  },
  {
   "cell_type": "code",
   "execution_count": 64,
   "metadata": {},
   "outputs": [
    {
     "name": "stdout",
     "output_type": "stream",
     "text": [
      "+------+-------------+-------------+-------+------------------+\n",
      "|userId| registration|           ts|churned|     duration_days|\n",
      "+------+-------------+-------------+-------+------------------+\n",
      "|    10|1538159495000|1542631788000|      0| 51.76265046296297|\n",
      "|   100|1537982255000|1543587349000|      0| 64.87377314814815|\n",
      "|100001|1534627466000|1538498205000|      1| 44.80021990740741|\n",
      "|100002|1529934689000|1543799476000|      0|160.47207175925925|\n",
      "|100003|1537309344000|1539274781000|      1|22.748113425925926|\n",
      "|100004|1528560242000|1543459065000|      0|172.44008101851853|\n",
      "|100005|1532610926000|1539971825000|      1| 85.19559027777778|\n",
      "|100006|1537964483000|1538753070000|      1| 9.127164351851851|\n",
      "|100007|1533522419000|1543491909000|      1|115.38761574074074|\n",
      "|100008|1537440271000|1543335219000|      0| 68.22856481481482|\n",
      "+------+-------------+-------------+-------+------------------+\n",
      "only showing top 10 rows\n",
      "\n"
     ]
    }
   ],
   "source": [
    "df_membership.show(10)"
   ]
  },
  {
   "cell_type": "code",
   "execution_count": 65,
   "metadata": {},
   "outputs": [
    {
     "data": {
      "text/plain": [
       "<AxesSubplot:xlabel='churned', ylabel='duration_days'>"
      ]
     },
     "execution_count": 65,
     "metadata": {},
     "output_type": "execute_result"
    },
    {
     "data": {
      "image/png": "[encoded data removed]",
      "text/plain": [
       "<Figure size 432x288 with 1 Axes>"
      ]
     },
     "metadata": {
      "needs_background": "light"
     },
     "output_type": "display_data"
    }
   ],
   "source": [
    "sns.boxplot(data = df_membership.toPandas(), x = 'churned', y ='duration_days')"
   ]
  },
  {
   "cell_type": "markdown",
   "metadata": {},
   "source": [
    "Not suprisingly user that have longer duration in using the product do not churn as often as lower usage user."
   ]
  },
  {
   "cell_type": "markdown",
   "metadata": {},
   "source": [
    "#### Finding the last time the user used the product"
   ]
  },
  {
   "cell_type": "code",
   "execution_count": 66,
   "metadata": {},
   "outputs": [],
   "source": [
    "last_use_window = Window.partitionBy(\"userId\").orderBy(desc(\"ts\"))"
   ]
  },
  {
   "cell_type": "code",
   "execution_count": 67,
   "metadata": {},
   "outputs": [],
   "source": [
    "df_membership = df_membership.withColumn(\"session_order\", rank().over(last_use_window))"
   ]
  },
  {
   "cell_type": "code",
   "execution_count": 68,
   "metadata": {},
   "outputs": [],
   "source": [
    "df_membership = df_membership.filter(df_membership.session_order == 1)"
   ]
  },
  {
   "cell_type": "code",
   "execution_count": 69,
   "metadata": {},
   "outputs": [
    {
     "name": "stdout",
     "output_type": "stream",
     "text": [
      "+------+-------------+-------------+-------+------------------+-------------+\n",
      "|userId| registration|           ts|churned|     duration_days|session_order|\n",
      "+------+-------------+-------------+-------+------------------+-------------+\n",
      "|    10|1538159495000|1542631788000|      0| 51.76265046296297|            1|\n",
      "|   100|1537982255000|1543587349000|      0| 64.87377314814815|            1|\n",
      "|100001|1534627466000|1538498205000|      1| 44.80021990740741|            1|\n",
      "|100002|1529934689000|1543799476000|      0|160.47207175925925|            1|\n",
      "|100003|1537309344000|1539274781000|      1|22.748113425925926|            1|\n",
      "|100004|1528560242000|1543459065000|      0|172.44008101851853|            1|\n",
      "|100005|1532610926000|1539971825000|      1| 85.19559027777778|            1|\n",
      "|100006|1537964483000|1538753070000|      1| 9.127164351851851|            1|\n",
      "|100007|1533522419000|1543491909000|      1|115.38761574074074|            1|\n",
      "|100008|1537440271000|1543335219000|      0| 68.22856481481482|            1|\n",
      "|100009|1537376437000|1540611104000|      1| 37.43827546296296|            1|\n",
      "|100010|1538016340000|1542823952000|      0|  55.6436574074074|            1|\n",
      "|100011|1537970819000|1538417085000|      1| 5.165115740740741|            1|\n",
      "|100012|1537381154000|1541100900000|      1| 43.05261574074074|            1|\n",
      "|100013|1537367773000|1541184816000|      1| 44.17873842592593|            1|\n",
      "|100014|1535389443000|1542740649000|      1| 85.08340277777778|            1|\n",
      "|100015|1537208989000|1543073753000|      1| 67.87921296296297|            1|\n",
      "|100016|1536854322000|1543335647000|      0| 75.01533564814815|            1|\n",
      "|100017|1533247234000|1540062847000|      1| 78.88440972222223|            1|\n",
      "|100018|1533812833000|1543378360000|      0|110.71211805555555|            1|\n",
      "+------+-------------+-------------+-------+------------------+-------------+\n",
      "only showing top 20 rows\n",
      "\n"
     ]
    }
   ],
   "source": [
    "df_membership.show()"
   ]
  },
  {
   "cell_type": "code",
   "execution_count": 70,
   "metadata": {},
   "outputs": [],
   "source": [
    "df_membership = df_membership.withColumn(\"membership_duration\", (df_membership['ts']) - (df_membership['registration']))"
   ]
  },
  {
   "cell_type": "code",
   "execution_count": 71,
   "metadata": {},
   "outputs": [],
   "source": [
    "df_membership = df_membership.withColumn('membership_duration',(df_membership['membership_duration']/1000/3600/24))"
   ]
  },
  {
   "cell_type": "code",
   "execution_count": 72,
   "metadata": {},
   "outputs": [
    {
     "name": "stdout",
     "output_type": "stream",
     "text": [
      "+------+-------------+-------------+-------+------------------+-------------+-------------------+\n",
      "|userId| registration|           ts|churned|     duration_days|session_order|membership_duration|\n",
      "+------+-------------+-------------+-------+------------------+-------------+-------------------+\n",
      "|    10|1538159495000|1542631788000|      0| 51.76265046296297|            1|  51.76265046296297|\n",
      "|   100|1537982255000|1543587349000|      0| 64.87377314814815|            1|  64.87377314814815|\n",
      "|100001|1534627466000|1538498205000|      1| 44.80021990740741|            1|  44.80021990740741|\n",
      "|100002|1529934689000|1543799476000|      0|160.47207175925925|            1| 160.47207175925925|\n",
      "|100003|1537309344000|1539274781000|      1|22.748113425925926|            1| 22.748113425925926|\n",
      "|100004|1528560242000|1543459065000|      0|172.44008101851853|            1| 172.44008101851853|\n",
      "|100005|1532610926000|1539971825000|      1| 85.19559027777778|            1|  85.19559027777778|\n",
      "|100006|1537964483000|1538753070000|      1| 9.127164351851851|            1|  9.127164351851851|\n",
      "|100007|1533522419000|1543491909000|      1|115.38761574074074|            1| 115.38761574074074|\n",
      "|100008|1537440271000|1543335219000|      0| 68.22856481481482|            1|  68.22856481481482|\n",
      "|100009|1537376437000|1540611104000|      1| 37.43827546296296|            1|  37.43827546296296|\n",
      "|100010|1538016340000|1542823952000|      0|  55.6436574074074|            1|   55.6436574074074|\n",
      "|100011|1537970819000|1538417085000|      1| 5.165115740740741|            1|  5.165115740740741|\n",
      "|100012|1537381154000|1541100900000|      1| 43.05261574074074|            1|  43.05261574074074|\n",
      "|100013|1537367773000|1541184816000|      1| 44.17873842592593|            1|  44.17873842592593|\n",
      "|100014|1535389443000|1542740649000|      1| 85.08340277777778|            1|  85.08340277777778|\n",
      "|100015|1537208989000|1543073753000|      1| 67.87921296296297|            1|  67.87921296296297|\n",
      "|100016|1536854322000|1543335647000|      0| 75.01533564814815|            1|  75.01533564814815|\n",
      "|100017|1533247234000|1540062847000|      1| 78.88440972222223|            1|  78.88440972222223|\n",
      "|100018|1533812833000|1543378360000|      0|110.71211805555555|            1| 110.71211805555555|\n",
      "+------+-------------+-------------+-------+------------------+-------------+-------------------+\n",
      "only showing top 20 rows\n",
      "\n"
     ]
    }
   ],
   "source": [
    "df_membership.show()"
   ]
  },
  {
   "cell_type": "markdown",
   "metadata": {},
   "source": [
    "#### Generating histogramms to compare the membership durations between users that churned and that did not"
   ]
  },
  {
   "cell_type": "code",
   "execution_count": 73,
   "metadata": {},
   "outputs": [
    {
     "data": {
      "text/plain": [
       "<seaborn.axisgrid.FacetGrid at 0x7fda36566780>"
      ]
     },
     "execution_count": 73,
     "metadata": {},
     "output_type": "execute_result"
    },
    {
     "data": {
      "image/png": "[encoded data removed]",
      "text/plain": [
       "<Figure size 409.125x360 with 1 Axes>"
      ]
     },
     "metadata": {
      "needs_background": "light"
     },
     "output_type": "display_data"
    }
   ],
   "source": [
    "sns.displot(df_membership.toPandas(), x=\"membership_duration\", hue=\"churned\", element=\"step\")"
   ]
  },
  {
   "cell_type": "markdown",
   "metadata": {},
   "source": [
    "Users that churned are slighlty have a less membership on average or churn on the beginning of ther membership. User that are locked in longer\n",
    "in the service are not churning that easily."
   ]
  },
  {
   "cell_type": "markdown",
   "metadata": {},
   "source": [
    "#### Analyzing if the Length of the sessions do have an affect on churning behavior"
   ]
  },
  {
   "cell_type": "code",
   "execution_count": 74,
   "metadata": {},
   "outputs": [
    {
     "data": {
      "text/plain": [
       "<seaborn.axisgrid.FacetGrid at 0x7fda35e8d048>"
      ]
     },
     "execution_count": 74,
     "metadata": {},
     "output_type": "execute_result"
    },
    {
     "data": {
      "image/png": "[encoded data removed]",
      "text/plain": [
       "<Figure size 409.125x360 with 1 Axes>"
      ]
     },
     "metadata": {
      "needs_background": "light"
     },
     "output_type": "display_data"
    }
   ],
   "source": [
    "sns.displot(df.toPandas(), x=\"length\", hue=\"churned\", element=\"step\")"
   ]
  },
  {
   "cell_type": "markdown",
   "metadata": {},
   "source": [
    "Almost no change in the distribution of lenght regarding churn. It looks like churned distribution is slightly more left orientated."
   ]
  },
  {
   "cell_type": "markdown",
   "metadata": {},
   "source": [
    "#### Analyzing the Intensity in usage by checking the average number of songs per session"
   ]
  },
  {
   "cell_type": "code",
   "execution_count": 75,
   "metadata": {},
   "outputs": [],
   "source": [
    "df_songs = df.filter(df.page == \"NextSong\").distinct().groupBy('sessionId','churned').count()"
   ]
  },
  {
   "cell_type": "code",
   "execution_count": 76,
   "metadata": {},
   "outputs": [],
   "source": [
    "df_songs = df_songs.groupby('churned').agg({\"count\":\"avg\"})"
   ]
  },
  {
   "cell_type": "markdown",
   "metadata": {},
   "source": [
    "#### Generating Barplot to compared both groups"
   ]
  },
  {
   "cell_type": "code",
   "execution_count": 77,
   "metadata": {},
   "outputs": [
    {
     "data": {
      "text/plain": [
       "<AxesSubplot:xlabel='churned', ylabel='avg(count)'>"
      ]
     },
     "execution_count": 77,
     "metadata": {},
     "output_type": "execute_result"
    },
    {
     "data": {
      "image/png": "[encoded data removed]",
      "text/plain": [
       "<Figure size 432x288 with 1 Axes>"
      ]
     },
     "metadata": {
      "needs_background": "light"
     },
     "output_type": "display_data"
    }
   ],
   "source": [
    "sns.barplot(data = df_songs.toPandas(), x = 'churned', y='avg(count)')"
   ]
  },
  {
   "cell_type": "markdown",
   "metadata": {},
   "source": [
    "#### Analyzing if there is a connection of  where the users live and the churn behavior"
   ]
  },
  {
   "cell_type": "code",
   "execution_count": 78,
   "metadata": {},
   "outputs": [
    {
     "name": "stdout",
     "output_type": "stream",
     "text": [
      "+--------------------+-----+\n",
      "|            location|count|\n",
      "+--------------------+-----+\n",
      "|Atlantic City-Ham...| 2176|\n",
      "|     Gainesville, FL| 1229|\n",
      "|Cleveland-Elyria, OH| 1392|\n",
      "|San Diego-Carlsba...|  754|\n",
      "|Deltona-Daytona B...|   73|\n",
      "|Kingsport-Bristol...| 1863|\n",
      "|New Haven-Milford...| 4007|\n",
      "|Birmingham-Hoover...|   75|\n",
      "|  Corpus Christi, TX|   11|\n",
      "|         Dubuque, IA|  651|\n",
      "|Las Vegas-Henders...| 2042|\n",
      "|Indianapolis-Carm...|  970|\n",
      "|Seattle-Tacoma-Be...|  246|\n",
      "|          Albany, OR|   23|\n",
      "|   Winston-Salem, NC|  819|\n",
      "|Los Angeles-Long ...|30131|\n",
      "|     Bakersfield, CA| 1775|\n",
      "|Minneapolis-St. P...| 2134|\n",
      "|San Francisco-Oak...| 2647|\n",
      "|Allentown-Bethleh...|  815|\n",
      "+--------------------+-----+\n",
      "only showing top 20 rows\n",
      "\n"
     ]
    }
   ],
   "source": [
    "df.select(\"location\", \"userId\", \"churned\").groupby(\"location\").count().show()"
   ]
  },
  {
   "cell_type": "markdown",
   "metadata": {},
   "source": [
    "There will probably be not much connection between the city and churn but the state might have a correlation. Therefore\n",
    "state information grouping is done."
   ]
  },
  {
   "cell_type": "code",
   "execution_count": 79,
   "metadata": {},
   "outputs": [],
   "source": [
    "extract_state = udf(lambda x: x[-2:], StringType())"
   ]
  },
  {
   "cell_type": "code",
   "execution_count": 80,
   "metadata": {},
   "outputs": [],
   "source": [
    "df_residence = df.withColumn(\"residence\", extract_state(df.location))"
   ]
  },
  {
   "cell_type": "code",
   "execution_count": 81,
   "metadata": {},
   "outputs": [
    {
     "name": "stdout",
     "output_type": "stream",
     "text": [
      "+------+---------+---------+------+-------------+---------+------+-----+--------------------+------+------+-------------+---------+----+------+-------------+--------------------+------+-------+----+---------+\n",
      "|artist|     auth|firstName|gender|itemInSession| lastName|length|level|            location|method|  page| registration|sessionId|song|status|           ts|           userAgent|userId|churned|hour|residence|\n",
      "+------+---------+---------+------+-------------+---------+------+-----+--------------------+------+------+-------------+---------+----+------+-------------+--------------------+------+-------+----+---------+\n",
      "|  null|Logged In| Darianna|     F|           34|Carpenter|  null| free|Bridgeport-Stamfo...|   PUT|Logout|1538016340000|      187|null|   307|1542823952000|\"Mozilla/5.0 (iPh...|100010|      0|  18|       CT|\n",
      "+------+---------+---------+------+-------------+---------+------+-----+--------------------+------+------+-------------+---------+----+------+-------------+--------------------+------+-------+----+---------+\n",
      "only showing top 1 row\n",
      "\n"
     ]
    }
   ],
   "source": [
    "df_residence.show(1)"
   ]
  },
  {
   "cell_type": "code",
   "execution_count": 82,
   "metadata": {},
   "outputs": [],
   "source": [
    "df_residence = df_residence.select([\"userId\", \"residence\", \"churned\"]).groupby([\"residence\", \"churned\"]).count()"
   ]
  },
  {
   "cell_type": "code",
   "execution_count": 83,
   "metadata": {},
   "outputs": [
    {
     "name": "stdout",
     "output_type": "stream",
     "text": [
      "+---------+-------+-----+\n",
      "|residence|churned|count|\n",
      "+---------+-------+-----+\n",
      "|       AL|      0| 3471|\n",
      "|       IL|      0| 6112|\n",
      "|       AZ|      1|  251|\n",
      "|       OH|      0|  259|\n",
      "|       AL|      1| 2102|\n",
      "|       PA|      0|23708|\n",
      "|       NV|      0| 2042|\n",
      "|       PA|      1| 2899|\n",
      "|       OH|      1| 3173|\n",
      "|       UT|      0| 1102|\n",
      "|       MO|      1| 1003|\n",
      "|       FL|      1| 1763|\n",
      "|       MT|      1|  254|\n",
      "|       NC|      0|10572|\n",
      "|       IN|      1|  918|\n",
      "|       TX|      1| 1294|\n",
      "|       MT|      0| 2132|\n",
      "|       KY|      0|  446|\n",
      "|       KS|      1|  513|\n",
      "|       MA|      0|  927|\n",
      "+---------+-------+-----+\n",
      "only showing top 20 rows\n",
      "\n"
     ]
    }
   ],
   "source": [
    "df_residence.show()"
   ]
  },
  {
   "cell_type": "markdown",
   "metadata": {},
   "source": [
    "#### Generating barplot to show churn behavior based on state"
   ]
  },
  {
   "cell_type": "code",
   "execution_count": 84,
   "metadata": {},
   "outputs": [
    {
     "data": {
      "text/plain": [
       "<AxesSubplot:xlabel='count', ylabel='residence'>"
      ]
     },
     "execution_count": 84,
     "metadata": {},
     "output_type": "execute_result"
    },
    {
     "data": {
      "image/png": "[encoded data removed]",
      "text/plain": [
       "<Figure size 1440x1440 with 1 Axes>"
      ]
     },
     "metadata": {
      "needs_background": "light"
     },
     "output_type": "display_data"
    }
   ],
   "source": [
    "plt.figure(figsize=[20,20])\n",
    "sns.barplot(data = df_residence.toPandas(), x = 'count', y = 'residence', hue = 'churned')"
   ]
  },
  {
   "cell_type": "markdown",
   "metadata": {},
   "source": [
    "Some states cleary stand out, like Colorado, Missouri or Washington. So this variable might be a good dependent variable for modelling."
   ]
  },
  {
   "cell_type": "markdown",
   "metadata": {},
   "source": [
    "#### Types of system used for accessing the service"
   ]
  },
  {
   "cell_type": "markdown",
   "metadata": {},
   "source": [
    "Windows vs Macintosh could give insights about user purchasing power and might also give other insights like\n",
    "different usability that could lead to different churn behavior based on the system used."
   ]
  },
  {
   "cell_type": "code",
   "execution_count": 85,
   "metadata": {},
   "outputs": [],
   "source": [
    "df_system = df.select(\"userId\", \"userAgent\", \"churned\").distinct()"
   ]
  },
  {
   "cell_type": "code",
   "execution_count": 86,
   "metadata": {},
   "outputs": [
    {
     "name": "stdout",
     "output_type": "stream",
     "text": [
      "+--------------------+-------+-----+\n",
      "|           userAgent|churned|count|\n",
      "+--------------------+-------+-----+\n",
      "|\"Mozilla/5.0 (Win...|      0|    9|\n",
      "|\"Mozilla/5.0 (Mac...|      0|    1|\n",
      "|\"Mozilla/5.0 (Win...|      1|    5|\n",
      "|Mozilla/5.0 (X11;...|      1|    1|\n",
      "|\"Mozilla/5.0 (Win...|      0|    1|\n",
      "|\"Mozilla/5.0 (Win...|      0|    2|\n",
      "|Mozilla/5.0 (Wind...|      1|    1|\n",
      "|\"Mozilla/5.0 (iPh...|      0|    4|\n",
      "|\"Mozilla/5.0 (Win...|      0|    3|\n",
      "|Mozilla/5.0 (Wind...|      1|    1|\n",
      "|\"Mozilla/5.0 (X11...|      0|    1|\n",
      "|Mozilla/5.0 (Wind...|      0|    3|\n",
      "|\"Mozilla/5.0 (Mac...|      0|    1|\n",
      "|Mozilla/5.0 (Wind...|      0|   14|\n",
      "|\"Mozilla/5.0 (Mac...|      1|    3|\n",
      "|\"Mozilla/5.0 (Win...|      1|    1|\n",
      "|\"Mozilla/5.0 (Mac...|      1|    5|\n",
      "|\"Mozilla/5.0 (Win...|      1|    1|\n",
      "|\"Mozilla/5.0 (Mac...|      0|    1|\n",
      "|\"Mozilla/5.0 (iPa...|      0|    1|\n",
      "+--------------------+-------+-----+\n",
      "only showing top 20 rows\n",
      "\n"
     ]
    }
   ],
   "source": [
    "df_system.groupby([\"userAgent\", \"churned\"]).count().show()"
   ]
  },
  {
   "cell_type": "markdown",
   "metadata": {},
   "source": [
    "#### Show all unique values in the column userAgent"
   ]
  },
  {
   "cell_type": "code",
   "execution_count": 87,
   "metadata": {},
   "outputs": [
    {
     "data": {
      "text/plain": [
       "[Row(userAgent='\"Mozilla/5.0 (Macintosh; Intel Mac OS X 10_8_5) AppleWebKit/537.36 (KHTML, like Gecko) Chrome/36.0.1985.143 Safari/537.36\"'),\n",
       " Row(userAgent='\"Mozilla/5.0 (Windows NT 5.1) AppleWebKit/537.36 (KHTML, like Gecko) Chrome/36.0.1985.143 Safari/537.36\"'),\n",
       " Row(userAgent='Mozilla/5.0 (X11; Ubuntu; Linux i686; rv:31.0) Gecko/20100101 Firefox/31.0'),\n",
       " Row(userAgent='\"Mozilla/5.0 (Macintosh; Intel Mac OS X 10_9_4) AppleWebKit/537.36 (KHTML, like Gecko) Chrome/36.0.1985.125 Safari/537.36\"'),\n",
       " Row(userAgent='\"Mozilla/5.0 (Macintosh; Intel Mac OS X 10_9_4) AppleWebKit/537.36 (KHTML, like Gecko) Chrome/35.0.1916.153 Safari/537.36\"'),\n",
       " Row(userAgent='Mozilla/5.0 (Macintosh; Intel Mac OS X 10.7; rv:31.0) Gecko/20100101 Firefox/31.0'),\n",
       " Row(userAgent='Mozilla/5.0 (Windows NT 6.1; WOW64; rv:30.0) Gecko/20100101 Firefox/30.0'),\n",
       " Row(userAgent='Mozilla/5.0 (Windows NT 6.3; WOW64; rv:31.0) Gecko/20100101 Firefox/31.0'),\n",
       " Row(userAgent='Mozilla/5.0 (compatible; MSIE 9.0; Windows NT 6.1; WOW64; Trident/5.0)'),\n",
       " Row(userAgent='\"Mozilla/5.0 (Windows NT 6.3; WOW64) AppleWebKit/537.36 (KHTML, like Gecko) Chrome/36.0.1985.143 Safari/537.36\"'),\n",
       " Row(userAgent='Mozilla/5.0 (Macintosh; Intel Mac OS X 10.9; rv:31.0) Gecko/20100101 Firefox/31.0'),\n",
       " Row(userAgent='\"Mozilla/5.0 (Windows NT 5.1) AppleWebKit/537.36 (KHTML, like Gecko) Chrome/36.0.1985.125 Safari/537.36\"'),\n",
       " Row(userAgent='\"Mozilla/5.0 (iPhone; CPU iPhone OS 7_1_1 like Mac OS X) AppleWebKit/537.51.2 (KHTML, like Gecko) Version/7.0 Mobile/11D201 Safari/9537.53\"'),\n",
       " Row(userAgent='\"Mozilla/5.0 (Windows NT 6.1; WOW64) AppleWebKit/537.36 (KHTML, like Gecko) Chrome/36.0.1985.125 Safari/537.36\"'),\n",
       " Row(userAgent='Mozilla/5.0 (Windows NT 6.1; WOW64; rv:31.0) Gecko/20100101 Firefox/31.0'),\n",
       " Row(userAgent='Mozilla/5.0 (compatible; MSIE 9.0; Windows NT 6.1; Trident/5.0)'),\n",
       " Row(userAgent='Mozilla/5.0 (compatible; MSIE 10.0; Windows NT 6.1; WOW64; Trident/6.0)'),\n",
       " Row(userAgent='\"Mozilla/5.0 (Macintosh; Intel Mac OS X 10_8_5) AppleWebKit/537.36 (KHTML, like Gecko) Chrome/37.0.2062.94 Safari/537.36\"'),\n",
       " Row(userAgent='\"Mozilla/5.0 (Macintosh; Intel Mac OS X 10_9_2) AppleWebKit/537.75.14 (KHTML, like Gecko) Version/7.0.3 Safari/537.75.14\"'),\n",
       " Row(userAgent='\"Mozilla/5.0 (Windows NT 6.1; WOW64) AppleWebKit/537.36 (KHTML, like Gecko) Chrome/37.0.2062.103 Safari/537.36\"'),\n",
       " Row(userAgent='\"Mozilla/5.0 (Windows NT 6.2; WOW64) AppleWebKit/537.36 (KHTML, like Gecko) Chrome/36.0.1985.125 Safari/537.36\"'),\n",
       " Row(userAgent='\"Mozilla/5.0 (iPad; CPU OS 7_1_2 like Mac OS X) AppleWebKit/537.51.2 (KHTML, like Gecko) Version/7.0 Mobile/11D257 Safari/9537.53\"'),\n",
       " Row(userAgent='\"Mozilla/5.0 (Macintosh; Intel Mac OS X 10_6_8) AppleWebKit/537.36 (KHTML, like Gecko) Chrome/36.0.1985.143 Safari/537.36\"'),\n",
       " Row(userAgent='\"Mozilla/5.0 (Macintosh; Intel Mac OS X 10_9_4) AppleWebKit/537.36 (KHTML, like Gecko) Chrome/36.0.1985.143 Safari/537.36\"'),\n",
       " Row(userAgent='Mozilla/5.0 (Windows NT 6.0; rv:31.0) Gecko/20100101 Firefox/31.0'),\n",
       " Row(userAgent='\"Mozilla/5.0 (Macintosh; Intel Mac OS X 10_7_5) AppleWebKit/537.36 (KHTML, like Gecko) Chrome/36.0.1985.125 Safari/537.36\"'),\n",
       " Row(userAgent='\"Mozilla/5.0 (Windows NT 6.1) AppleWebKit/537.36 (KHTML, like Gecko) Chrome/36.0.1985.125 Safari/537.36\"'),\n",
       " Row(userAgent='\"Mozilla/5.0 (Windows NT 6.2; WOW64) AppleWebKit/537.36 (KHTML, like Gecko) Chrome/36.0.1985.143 Safari/537.36\"'),\n",
       " Row(userAgent='Mozilla/5.0 (Macintosh; Intel Mac OS X 10.6; rv:31.0) Gecko/20100101 Firefox/31.0'),\n",
       " Row(userAgent='\"Mozilla/5.0 (Macintosh; Intel Mac OS X 10_9_3) AppleWebKit/537.76.4 (KHTML, like Gecko) Version/7.0.4 Safari/537.76.4\"'),\n",
       " Row(userAgent='Mozilla/5.0 (X11; Linux x86_64; rv:31.0) Gecko/20100101 Firefox/31.0'),\n",
       " Row(userAgent='\"Mozilla/5.0 (Macintosh; Intel Mac OS X 10_9_4) AppleWebKit/537.78.2 (KHTML, like Gecko) Version/7.0.6 Safari/537.78.2\"'),\n",
       " Row(userAgent='\"Mozilla/5.0 (Macintosh; Intel Mac OS X 10_7_5) AppleWebKit/537.77.4 (KHTML, like Gecko) Version/6.1.5 Safari/537.77.4\"'),\n",
       " Row(userAgent='\"Mozilla/5.0 (Macintosh; Intel Mac OS X 10_10) AppleWebKit/600.1.8 (KHTML, like Gecko) Version/8.0 Safari/600.1.8\"'),\n",
       " Row(userAgent='\"Mozilla/5.0 (Windows NT 6.1; WOW64) AppleWebKit/537.36 (KHTML, like Gecko) Chrome/35.0.1916.153 Safari/537.36\"'),\n",
       " Row(userAgent='\"Mozilla/5.0 (X11; Linux x86_64) AppleWebKit/537.36 (KHTML, like Gecko) Chrome/36.0.1985.143 Safari/537.36\"'),\n",
       " Row(userAgent='\"Mozilla/5.0 (Windows NT 6.1) AppleWebKit/537.36 (KHTML, like Gecko) Chrome/36.0.1985.143 Safari/537.36\"'),\n",
       " Row(userAgent='Mozilla/5.0 (X11; Ubuntu; Linux x86_64; rv:31.0) Gecko/20100101 Firefox/31.0'),\n",
       " Row(userAgent='\"Mozilla/5.0 (iPad; CPU OS 7_1_1 like Mac OS X) AppleWebKit/537.51.2 (KHTML, like Gecko) Version/7.0 Mobile/11D201 Safari/9537.53\"'),\n",
       " Row(userAgent='\"Mozilla/5.0 (Macintosh; Intel Mac OS X 10_10) AppleWebKit/600.1.3 (KHTML, like Gecko) Version/8.0 Safari/600.1.3\"'),\n",
       " Row(userAgent='\"Mozilla/5.0 (Macintosh; Intel Mac OS X 10_9_4) AppleWebKit/537.77.4 (KHTML, like Gecko) Version/7.0.5 Safari/537.77.4\"'),\n",
       " Row(userAgent='Mozilla/5.0 (Windows NT 6.2; WOW64; rv:31.0) Gecko/20100101 Firefox/31.0'),\n",
       " Row(userAgent='\"Mozilla/5.0 (Windows NT 6.3; WOW64) AppleWebKit/537.36 (KHTML, like Gecko) Chrome/36.0.1985.125 Safari/537.36\"'),\n",
       " Row(userAgent='Mozilla/5.0 (Windows NT 6.1; WOW64; rv:24.0) Gecko/20100101 Firefox/24.0'),\n",
       " Row(userAgent='Mozilla/5.0 (Windows NT 6.1; WOW64; rv:32.0) Gecko/20100101 Firefox/32.0'),\n",
       " Row(userAgent='\"Mozilla/5.0 (Macintosh; Intel Mac OS X 10_9_2) AppleWebKit/537.74.9 (KHTML, like Gecko) Version/7.0.2 Safari/537.74.9\"'),\n",
       " Row(userAgent='\"Mozilla/5.0 (iPhone; CPU iPhone OS 7_1_2 like Mac OS X) AppleWebKit/537.51.2 (KHTML, like Gecko) Version/7.0 Mobile/11D257 Safari/9537.53\"'),\n",
       " Row(userAgent='\"Mozilla/5.0 (X11; Linux x86_64) AppleWebKit/537.36 (KHTML, like Gecko) Chrome/36.0.1985.125 Safari/537.36\"'),\n",
       " Row(userAgent='\"Mozilla/5.0 (Macintosh; Intel Mac OS X 10_9_2) AppleWebKit/537.36 (KHTML, like Gecko) Chrome/36.0.1985.125 Safari/537.36\"'),\n",
       " Row(userAgent='\"Mozilla/5.0 (Windows NT 6.1; WOW64) AppleWebKit/537.36 (KHTML, like Gecko) Chrome/37.0.2062.94 Safari/537.36\"'),\n",
       " Row(userAgent='\"Mozilla/5.0 (Macintosh; Intel Mac OS X 10_9_4) AppleWebKit/537.36 (KHTML, like Gecko) Chrome/37.0.2062.94 Safari/537.36\"'),\n",
       " Row(userAgent='\"Mozilla/5.0 (iPhone; CPU iPhone OS 7_1 like Mac OS X) AppleWebKit/537.51.2 (KHTML, like Gecko) Version/7.0 Mobile/11D167 Safari/9537.53\"'),\n",
       " Row(userAgent='\"Mozilla/5.0 (Windows NT 6.1; WOW64) AppleWebKit/537.36 (KHTML, like Gecko) Chrome/36.0.1985.143 Safari/537.36\"'),\n",
       " Row(userAgent='Mozilla/5.0 (Macintosh; Intel Mac OS X 10.8; rv:31.0) Gecko/20100101 Firefox/31.0'),\n",
       " Row(userAgent='Mozilla/5.0 (Windows NT 6.1; WOW64; Trident/7.0; rv:11.0) like Gecko'),\n",
       " Row(userAgent='Mozilla/5.0 (Windows NT 6.1; rv:31.0) Gecko/20100101 Firefox/31.0')]"
      ]
     },
     "execution_count": 87,
     "metadata": {},
     "output_type": "execute_result"
    }
   ],
   "source": [
    "df_system.select(\"userAgent\").distinct().collect()"
   ]
  },
  {
   "cell_type": "markdown",
   "metadata": {},
   "source": [
    "Cardinality is to high. It needs to be brought down to more common values."
   ]
  },
  {
   "cell_type": "markdown",
   "metadata": {},
   "source": [
    "#### Collecting only rows where Windows is present"
   ]
  },
  {
   "cell_type": "code",
   "execution_count": 88,
   "metadata": {},
   "outputs": [
    {
     "data": {
      "text/plain": [
       "[Row(userAgent='\"Mozilla/5.0 (Windows NT 5.1) AppleWebKit/537.36 (KHTML, like Gecko) Chrome/36.0.1985.143 Safari/537.36\"'),\n",
       " Row(userAgent='Mozilla/5.0 (Windows NT 6.1; WOW64; rv:30.0) Gecko/20100101 Firefox/30.0'),\n",
       " Row(userAgent='Mozilla/5.0 (Windows NT 6.3; WOW64; rv:31.0) Gecko/20100101 Firefox/31.0'),\n",
       " Row(userAgent='Mozilla/5.0 (compatible; MSIE 9.0; Windows NT 6.1; WOW64; Trident/5.0)'),\n",
       " Row(userAgent='\"Mozilla/5.0 (Windows NT 6.3; WOW64) AppleWebKit/537.36 (KHTML, like Gecko) Chrome/36.0.1985.143 Safari/537.36\"'),\n",
       " Row(userAgent='\"Mozilla/5.0 (Windows NT 5.1) AppleWebKit/537.36 (KHTML, like Gecko) Chrome/36.0.1985.125 Safari/537.36\"'),\n",
       " Row(userAgent='\"Mozilla/5.0 (Windows NT 6.1; WOW64) AppleWebKit/537.36 (KHTML, like Gecko) Chrome/36.0.1985.125 Safari/537.36\"'),\n",
       " Row(userAgent='Mozilla/5.0 (Windows NT 6.1; WOW64; rv:31.0) Gecko/20100101 Firefox/31.0'),\n",
       " Row(userAgent='Mozilla/5.0 (compatible; MSIE 9.0; Windows NT 6.1; Trident/5.0)'),\n",
       " Row(userAgent='Mozilla/5.0 (compatible; MSIE 10.0; Windows NT 6.1; WOW64; Trident/6.0)'),\n",
       " Row(userAgent='\"Mozilla/5.0 (Windows NT 6.1; WOW64) AppleWebKit/537.36 (KHTML, like Gecko) Chrome/37.0.2062.103 Safari/537.36\"'),\n",
       " Row(userAgent='\"Mozilla/5.0 (Windows NT 6.2; WOW64) AppleWebKit/537.36 (KHTML, like Gecko) Chrome/36.0.1985.125 Safari/537.36\"'),\n",
       " Row(userAgent='Mozilla/5.0 (Windows NT 6.0; rv:31.0) Gecko/20100101 Firefox/31.0'),\n",
       " Row(userAgent='\"Mozilla/5.0 (Windows NT 6.1) AppleWebKit/537.36 (KHTML, like Gecko) Chrome/36.0.1985.125 Safari/537.36\"'),\n",
       " Row(userAgent='\"Mozilla/5.0 (Windows NT 6.2; WOW64) AppleWebKit/537.36 (KHTML, like Gecko) Chrome/36.0.1985.143 Safari/537.36\"'),\n",
       " Row(userAgent='\"Mozilla/5.0 (Windows NT 6.1; WOW64) AppleWebKit/537.36 (KHTML, like Gecko) Chrome/35.0.1916.153 Safari/537.36\"'),\n",
       " Row(userAgent='\"Mozilla/5.0 (Windows NT 6.1) AppleWebKit/537.36 (KHTML, like Gecko) Chrome/36.0.1985.143 Safari/537.36\"'),\n",
       " Row(userAgent='Mozilla/5.0 (Windows NT 6.2; WOW64; rv:31.0) Gecko/20100101 Firefox/31.0'),\n",
       " Row(userAgent='\"Mozilla/5.0 (Windows NT 6.3; WOW64) AppleWebKit/537.36 (KHTML, like Gecko) Chrome/36.0.1985.125 Safari/537.36\"'),\n",
       " Row(userAgent='Mozilla/5.0 (Windows NT 6.1; WOW64; rv:24.0) Gecko/20100101 Firefox/24.0'),\n",
       " Row(userAgent='Mozilla/5.0 (Windows NT 6.1; WOW64; rv:32.0) Gecko/20100101 Firefox/32.0'),\n",
       " Row(userAgent='\"Mozilla/5.0 (Windows NT 6.1; WOW64) AppleWebKit/537.36 (KHTML, like Gecko) Chrome/37.0.2062.94 Safari/537.36\"'),\n",
       " Row(userAgent='\"Mozilla/5.0 (Windows NT 6.1; WOW64) AppleWebKit/537.36 (KHTML, like Gecko) Chrome/36.0.1985.143 Safari/537.36\"'),\n",
       " Row(userAgent='Mozilla/5.0 (Windows NT 6.1; WOW64; Trident/7.0; rv:11.0) like Gecko'),\n",
       " Row(userAgent='Mozilla/5.0 (Windows NT 6.1; rv:31.0) Gecko/20100101 Firefox/31.0')]"
      ]
     },
     "execution_count": 88,
     "metadata": {},
     "output_type": "execute_result"
    }
   ],
   "source": [
    "df.filter(df.userAgent.like(\"%Windows%\")).select(\"userAgent\").distinct().collect()"
   ]
  },
  {
   "cell_type": "markdown",
   "metadata": {},
   "source": [
    "#### Creating new Column with possible values Windows, Macintosh and I_System"
   ]
  },
  {
   "cell_type": "code",
   "execution_count": 89,
   "metadata": {},
   "outputs": [],
   "source": [
    "df_system = df_system.withColumn(\n",
    "    'System',\n",
    "     when(col(\"userAgent\").contains(\"Windows\"), \"Windows\")\\\n",
    "    .when(col(\"userAgent\").contains(\"Macintosh\"), \"Mac\")\\\n",
    "    .when(col(\"userAgent\").contains(\"iPhone\"), \"I_System\")\\\n",
    "    .when(col(\"userAgent\").contains(\"iPad\"), \"I_System\")\\\n",
    "    .otherwise(\"Other\")\n",
    ")"
   ]
  },
  {
   "cell_type": "code",
   "execution_count": 90,
   "metadata": {},
   "outputs": [
    {
     "name": "stdout",
     "output_type": "stream",
     "text": [
      "+------+--------------------+-------+--------+\n",
      "|userId|           userAgent|churned|  System|\n",
      "+------+--------------------+-------+--------+\n",
      "|100010|\"Mozilla/5.0 (iPh...|      0|I_System|\n",
      "|200002|\"Mozilla/5.0 (iPh...|      0|I_System|\n",
      "|   125|\"Mozilla/5.0 (Mac...|      1|     Mac|\n",
      "|   124|\"Mozilla/5.0 (Mac...|      0|     Mac|\n",
      "|    51|\"Mozilla/5.0 (Win...|      1| Windows|\n",
      "|     7|Mozilla/5.0 (Wind...|      0| Windows|\n",
      "|    15|\"Mozilla/5.0 (Win...|      0| Windows|\n",
      "|    54|Mozilla/5.0 (Wind...|      1| Windows|\n",
      "|   155|\"Mozilla/5.0 (Win...|      0| Windows|\n",
      "|100014|\"Mozilla/5.0 (Win...|      1| Windows|\n",
      "|   132|\"Mozilla/5.0 (Mac...|      0|     Mac|\n",
      "|   154|\"Mozilla/5.0 (Win...|      0| Windows|\n",
      "|   101|Mozilla/5.0 (Wind...|      1| Windows|\n",
      "|    11|Mozilla/5.0 (Wind...|      0| Windows|\n",
      "|   138|\"Mozilla/5.0 (iPa...|      0|I_System|\n",
      "|300017|\"Mozilla/5.0 (Mac...|      0|     Mac|\n",
      "|100021|\"Mozilla/5.0 (Mac...|      1|     Mac|\n",
      "|    29|\"Mozilla/5.0 (Mac...|      1|     Mac|\n",
      "|    69|\"Mozilla/5.0 (Win...|      0| Windows|\n",
      "|   112|Mozilla/5.0 (Wind...|      0| Windows|\n",
      "+------+--------------------+-------+--------+\n",
      "only showing top 20 rows\n",
      "\n"
     ]
    }
   ],
   "source": [
    "df_system.show()"
   ]
  },
  {
   "cell_type": "code",
   "execution_count": 91,
   "metadata": {},
   "outputs": [
    {
     "name": "stdout",
     "output_type": "stream",
     "text": [
      "+--------+-------+-----+\n",
      "|  System|churned|count|\n",
      "+--------+-------+-----+\n",
      "|   Other|      1|    5|\n",
      "|I_System|      0|   12|\n",
      "|     Mac|      1|   19|\n",
      "|I_System|      1|    4|\n",
      "|     Mac|      0|   67|\n",
      "|   Other|      0|    7|\n",
      "| Windows|      0|   87|\n",
      "| Windows|      1|   24|\n",
      "+--------+-------+-----+\n",
      "\n"
     ]
    }
   ],
   "source": [
    "df_system = df_system.groupby([\"System\", \"churned\"]).count()\n",
    "df_system.show()"
   ]
  },
  {
   "cell_type": "markdown",
   "metadata": {},
   "source": [
    "#### Generating Barplot to compare newly created variables with Churn behavior"
   ]
  },
  {
   "cell_type": "code",
   "execution_count": 92,
   "metadata": {},
   "outputs": [
    {
     "data": {
      "text/plain": [
       "<AxesSubplot:xlabel='System', ylabel='count'>"
      ]
     },
     "execution_count": 92,
     "metadata": {},
     "output_type": "execute_result"
    },
    {
     "data": {
      "image/png": "[encoded data removed]",
      "text/plain": [
       "<Figure size 432x288 with 1 Axes>"
      ]
     },
     "metadata": {
      "needs_background": "light"
     },
     "output_type": "display_data"
    }
   ],
   "source": [
    "sns.barplot(data = df_system.toPandas(), y = \"count\", x = \"System\", hue = \"churned\")"
   ]
  },
  {
   "cell_type": "markdown",
   "metadata": {},
   "source": [
    "# Feature Engineering\n",
    "Once you've familiarized yourself with the data, build out the features you find promising to train your model on. To work with the full dataset, you can follow the following steps.\n",
    "- Write a script to extract the necessary features from the smaller subset of data\n",
    "- Ensure that your script is scalable, using the best practices discussed in Lesson 3\n",
    "- Try your script on the full data set, debugging your script if necessary\n",
    "\n",
    "If you are working in the classroom workspace, you can just extract features based on the small subset of data contained here. Be sure to transfer over this work to the larger dataset when you work on your Spark cluster."
   ]
  },
  {
   "cell_type": "markdown",
   "metadata": {},
   "source": [
    "#### Print Schema for overview"
   ]
  },
  {
   "cell_type": "code",
   "execution_count": 93,
   "metadata": {},
   "outputs": [
    {
     "name": "stdout",
     "output_type": "stream",
     "text": [
      "root\n",
      " |-- artist: string (nullable = true)\n",
      " |-- auth: string (nullable = true)\n",
      " |-- firstName: string (nullable = true)\n",
      " |-- gender: string (nullable = true)\n",
      " |-- itemInSession: long (nullable = true)\n",
      " |-- lastName: string (nullable = true)\n",
      " |-- length: double (nullable = true)\n",
      " |-- level: string (nullable = true)\n",
      " |-- location: string (nullable = true)\n",
      " |-- method: string (nullable = true)\n",
      " |-- page: string (nullable = true)\n",
      " |-- registration: long (nullable = true)\n",
      " |-- sessionId: long (nullable = true)\n",
      " |-- song: string (nullable = true)\n",
      " |-- status: long (nullable = true)\n",
      " |-- ts: long (nullable = true)\n",
      " |-- userAgent: string (nullable = true)\n",
      " |-- userId: string (nullable = true)\n",
      " |-- churned: long (nullable = true)\n",
      " |-- hour: string (nullable = true)\n",
      "\n"
     ]
    }
   ],
   "source": [
    "df.printSchema()"
   ]
  },
  {
   "cell_type": "markdown",
   "metadata": {},
   "source": [
    "### Generating Gender Variable"
   ]
  },
  {
   "cell_type": "code",
   "execution_count": 94,
   "metadata": {},
   "outputs": [],
   "source": [
    "gender_df = df.select([\"userId\", \"gender\"]).distinct()\n",
    "gender_df = gender_df.withColumn(\"gender\", when(col(\"gender\") == \"M\", 1)\\\n",
    "                                 .when(col(\"gender\") == \"F\", 0))"
   ]
  },
  {
   "cell_type": "code",
   "execution_count": 95,
   "metadata": {},
   "outputs": [
    {
     "name": "stdout",
     "output_type": "stream",
     "text": [
      "+------+------+\n",
      "|userId|gender|\n",
      "+------+------+\n",
      "|    44|     0|\n",
      "|    46|     0|\n",
      "|    41|     0|\n",
      "|    72|     0|\n",
      "|300023|     0|\n",
      "|    39|     0|\n",
      "|100010|     0|\n",
      "|    35|     0|\n",
      "|    40|     0|\n",
      "|    75|     0|\n",
      "+------+------+\n",
      "only showing top 10 rows\n",
      "\n"
     ]
    }
   ],
   "source": [
    "gender_df.show(10)"
   ]
  },
  {
   "cell_type": "markdown",
   "metadata": {},
   "source": [
    "#### Showing the size of the new aggregated data set"
   ]
  },
  {
   "cell_type": "code",
   "execution_count": 96,
   "metadata": {},
   "outputs": [
    {
     "data": {
      "text/plain": [
       "225"
      ]
     },
     "execution_count": 96,
     "metadata": {},
     "output_type": "execute_result"
    }
   ],
   "source": [
    "gender_df.count()"
   ]
  },
  {
   "cell_type": "markdown",
   "metadata": {},
   "source": [
    "In total 225 users are in the dataset. This aggregation number has to be counted for every new created dataset"
   ]
  },
  {
   "cell_type": "markdown",
   "metadata": {},
   "source": [
    "### Generating Variable of Mean amount of Songs listen per hour"
   ]
  },
  {
   "cell_type": "code",
   "execution_count": 97,
   "metadata": {},
   "outputs": [],
   "source": [
    "songs_df = df.filter(df.page == \"NextSong\").groupBy('userId','sessionId').count().groupby('userId').agg({\"count\":\"avg\"})\n",
    "songs_df = songs_df.withColumnRenamed(\"avg(count)\", \"mean_song\")"
   ]
  },
  {
   "cell_type": "code",
   "execution_count": 98,
   "metadata": {},
   "outputs": [
    {
     "name": "stdout",
     "output_type": "stream",
     "text": [
      "+------+------------------+\n",
      "|userId|         mean_song|\n",
      "+------+------------------+\n",
      "|100010|39.285714285714285|\n",
      "|200002|              64.5|\n",
      "|   125|               8.0|\n",
      "|    51|             211.1|\n",
      "|   124|145.67857142857142|\n",
      "+------+------------------+\n",
      "only showing top 5 rows\n",
      "\n"
     ]
    }
   ],
   "source": [
    "songs_df.show(5)"
   ]
  },
  {
   "cell_type": "markdown",
   "metadata": {},
   "source": [
    "### Generating Variable of Number of unique Singer listened"
   ]
  },
  {
   "cell_type": "code",
   "execution_count": 99,
   "metadata": {},
   "outputs": [],
   "source": [
    "singer_df = df.select(\"userId\", \"artist\").distinct().groupby(\"userId\").count()"
   ]
  },
  {
   "cell_type": "code",
   "execution_count": 100,
   "metadata": {},
   "outputs": [],
   "source": [
    "singer_df = singer_df.withColumnRenamed(\"count\", \"nr_singer\")"
   ]
  },
  {
   "cell_type": "code",
   "execution_count": 101,
   "metadata": {},
   "outputs": [
    {
     "name": "stdout",
     "output_type": "stream",
     "text": [
      "+------+---------+\n",
      "|userId|nr_singer|\n",
      "+------+---------+\n",
      "|100010|      253|\n",
      "|200002|      340|\n",
      "|   125|        9|\n",
      "|   124|     2233|\n",
      "|    51|     1386|\n",
      "+------+---------+\n",
      "only showing top 5 rows\n",
      "\n"
     ]
    }
   ],
   "source": [
    "singer_df.show(5)"
   ]
  },
  {
   "cell_type": "code",
   "execution_count": 102,
   "metadata": {},
   "outputs": [
    {
     "data": {
      "text/plain": [
       "225"
      ]
     },
     "execution_count": 102,
     "metadata": {},
     "output_type": "execute_result"
    }
   ],
   "source": [
    "singer_df.count()"
   ]
  },
  {
   "cell_type": "markdown",
   "metadata": {},
   "source": [
    "### Generating Variable of Days using the product/service"
   ]
  },
  {
   "cell_type": "code",
   "execution_count": 103,
   "metadata": {},
   "outputs": [],
   "source": [
    "df_membership = df_membership.drop('registration', 'ts', 'churned', 'duration_days')"
   ]
  },
  {
   "cell_type": "code",
   "execution_count": 104,
   "metadata": {},
   "outputs": [],
   "source": [
    "df_membership = df_membership.drop(\"session_order\")"
   ]
  },
  {
   "cell_type": "code",
   "execution_count": 105,
   "metadata": {},
   "outputs": [
    {
     "name": "stdout",
     "output_type": "stream",
     "text": [
      "+------+-------------------+\n",
      "|userId|membership_duration|\n",
      "+------+-------------------+\n",
      "|    10|  51.76265046296297|\n",
      "|   100|  64.87377314814815|\n",
      "|100001|  44.80021990740741|\n",
      "|100002| 160.47207175925925|\n",
      "|100003| 22.748113425925926|\n",
      "|100004| 172.44008101851853|\n",
      "|100005|  85.19559027777778|\n",
      "|100006|  9.127164351851851|\n",
      "|100007| 115.38761574074074|\n",
      "|100008|  68.22856481481482|\n",
      "+------+-------------------+\n",
      "only showing top 10 rows\n",
      "\n"
     ]
    }
   ],
   "source": [
    "df_membership.show(10)"
   ]
  },
  {
   "cell_type": "code",
   "execution_count": 106,
   "metadata": {},
   "outputs": [
    {
     "data": {
      "text/plain": [
       "225"
      ]
     },
     "execution_count": 106,
     "metadata": {},
     "output_type": "execute_result"
    }
   ],
   "source": [
    "df_membership.count()"
   ]
  },
  {
   "cell_type": "markdown",
   "metadata": {},
   "source": [
    "### Generating Variable of Songs in Playlist"
   ]
  },
  {
   "cell_type": "code",
   "execution_count": 107,
   "metadata": {},
   "outputs": [],
   "source": [
    "nr_songs_df = df.select([\"userId\", \"page\"])"
   ]
  },
  {
   "cell_type": "code",
   "execution_count": 108,
   "metadata": {},
   "outputs": [],
   "source": [
    "count_songs = udf(lambda x: 1 if x == \"Add to Playlist\" else 0, IntegerType())"
   ]
  },
  {
   "cell_type": "code",
   "execution_count": 109,
   "metadata": {},
   "outputs": [],
   "source": [
    "nr_songs_df = nr_songs_df.withColumn(\"Songs in Playlist\", count_songs(\"page\"))"
   ]
  },
  {
   "cell_type": "code",
   "execution_count": 110,
   "metadata": {},
   "outputs": [],
   "source": [
    "nr_songs_df = nr_songs_df.groupby(\"userId\").sum(\"Songs in Playlist\")"
   ]
  },
  {
   "cell_type": "code",
   "execution_count": 111,
   "metadata": {},
   "outputs": [
    {
     "name": "stdout",
     "output_type": "stream",
     "text": [
      "+------+----------------------+\n",
      "|userId|sum(Songs in Playlist)|\n",
      "+------+----------------------+\n",
      "|100010|                     7|\n",
      "|200002|                     8|\n",
      "|   125|                     0|\n",
      "|    51|                    52|\n",
      "|   124|                   118|\n",
      "|     7|                     5|\n",
      "|    15|                    59|\n",
      "|    54|                    72|\n",
      "|   155|                    24|\n",
      "|   132|                    38|\n",
      "+------+----------------------+\n",
      "only showing top 10 rows\n",
      "\n"
     ]
    }
   ],
   "source": [
    "nr_songs_df.show(10)"
   ]
  },
  {
   "cell_type": "code",
   "execution_count": 112,
   "metadata": {},
   "outputs": [
    {
     "data": {
      "text/plain": [
       "225"
      ]
     },
     "execution_count": 112,
     "metadata": {},
     "output_type": "execute_result"
    }
   ],
   "source": [
    "nr_songs_df.count()"
   ]
  },
  {
   "cell_type": "code",
   "execution_count": 113,
   "metadata": {},
   "outputs": [],
   "source": [
    "nr_songs_df = nr_songs_df.withColumnRenamed(\"sum(Songs in Playlist)\", \"Songs_in_Playlist\")"
   ]
  },
  {
   "cell_type": "markdown",
   "metadata": {},
   "source": [
    "### Generating Variable of Mean amount of Songs per session listened to "
   ]
  },
  {
   "cell_type": "code",
   "execution_count": 114,
   "metadata": {},
   "outputs": [],
   "source": [
    "song_per_session_df = df.filter(df.page == \"NextSong\").groupBy('userId','sessionId').count().groupby('userId').agg({\"count\":\"avg\"})"
   ]
  },
  {
   "cell_type": "code",
   "execution_count": 115,
   "metadata": {},
   "outputs": [],
   "source": [
    "song_per_session_df = song_per_session_df.withColumnRenamed(\"avg(count)\", \"avg_song\")"
   ]
  },
  {
   "cell_type": "code",
   "execution_count": 116,
   "metadata": {},
   "outputs": [
    {
     "data": {
      "text/plain": [
       "225"
      ]
     },
     "execution_count": 116,
     "metadata": {},
     "output_type": "execute_result"
    }
   ],
   "source": [
    "song_per_session_df.count()"
   ]
  },
  {
   "cell_type": "markdown",
   "metadata": {},
   "source": [
    "### Generating Variable of Level/Type of subscription"
   ]
  },
  {
   "cell_type": "code",
   "execution_count": 117,
   "metadata": {},
   "outputs": [],
   "source": [
    "level_df = df.select(['userId', 'level', 'ts']).distinct().sort('userId')"
   ]
  },
  {
   "cell_type": "code",
   "execution_count": 118,
   "metadata": {},
   "outputs": [],
   "source": [
    "level_window = Window.partitionBy(\"userId\").orderBy(desc(\"ts\"))"
   ]
  },
  {
   "cell_type": "code",
   "execution_count": 119,
   "metadata": {},
   "outputs": [],
   "source": [
    "level_df = level_df.withColumn(\"Rank\", dense_rank().over(level_window))"
   ]
  },
  {
   "cell_type": "code",
   "execution_count": 120,
   "metadata": {},
   "outputs": [],
   "source": [
    "level_df = level_df.filter(col(\"Rank\") == 1).drop(col(\"Rank\"))"
   ]
  },
  {
   "cell_type": "code",
   "execution_count": 121,
   "metadata": {},
   "outputs": [],
   "source": [
    "level_df = level_df.drop(col(\"ts\"))"
   ]
  },
  {
   "cell_type": "code",
   "execution_count": 122,
   "metadata": {},
   "outputs": [],
   "source": [
    "level_df = level_df.withColumn('level', when(col('level') == 'free', 1).otherwise(0))"
   ]
  },
  {
   "cell_type": "code",
   "execution_count": 123,
   "metadata": {},
   "outputs": [
    {
     "name": "stdout",
     "output_type": "stream",
     "text": [
      "+------+-----+\n",
      "|userId|level|\n",
      "+------+-----+\n",
      "|    10|    0|\n",
      "|   100|    0|\n",
      "|100001|    1|\n",
      "|100002|    0|\n",
      "|100003|    1|\n",
      "|100004|    0|\n",
      "|100005|    1|\n",
      "|100006|    1|\n",
      "|100007|    0|\n",
      "|100008|    1|\n",
      "+------+-----+\n",
      "only showing top 10 rows\n",
      "\n"
     ]
    }
   ],
   "source": [
    "level_df.show(10)"
   ]
  },
  {
   "cell_type": "code",
   "execution_count": 124,
   "metadata": {},
   "outputs": [
    {
     "data": {
      "text/plain": [
       "225"
      ]
     },
     "execution_count": 124,
     "metadata": {},
     "output_type": "execute_result"
    }
   ],
   "source": [
    "level_df.count()"
   ]
  },
  {
   "cell_type": "markdown",
   "metadata": {},
   "source": [
    "### Generating Variable that shows number of Friends Invitation"
   ]
  },
  {
   "cell_type": "code",
   "execution_count": 125,
   "metadata": {},
   "outputs": [],
   "source": [
    "invite_df = df.select([\"userId\", \"page\"])"
   ]
  },
  {
   "cell_type": "code",
   "execution_count": 126,
   "metadata": {},
   "outputs": [],
   "source": [
    "count_invitation = udf(lambda x: 1 if x == \"Add Friend\" else 0, IntegerType())"
   ]
  },
  {
   "cell_type": "code",
   "execution_count": 127,
   "metadata": {},
   "outputs": [],
   "source": [
    "invite_df = invite_df.withColumn(\"invitations\", count_invitation(\"page\")).groupby('userId').sum(\"invitations\")"
   ]
  },
  {
   "cell_type": "code",
   "execution_count": 128,
   "metadata": {},
   "outputs": [],
   "source": [
    "invite_df = invite_df.withColumnRenamed(\"sum(invitations)\", \"invitations\")"
   ]
  },
  {
   "cell_type": "code",
   "execution_count": 129,
   "metadata": {},
   "outputs": [
    {
     "name": "stdout",
     "output_type": "stream",
     "text": [
      "+------+-----------+\n",
      "|userId|invitations|\n",
      "+------+-----------+\n",
      "|100010|          4|\n",
      "|200002|          4|\n",
      "|   125|          0|\n",
      "|    51|         28|\n",
      "|   124|         74|\n",
      "|     7|          1|\n",
      "|    15|         31|\n",
      "|    54|         33|\n",
      "|   155|         11|\n",
      "|   132|         41|\n",
      "+------+-----------+\n",
      "only showing top 10 rows\n",
      "\n"
     ]
    }
   ],
   "source": [
    "invite_df.show(10)"
   ]
  },
  {
   "cell_type": "code",
   "execution_count": 130,
   "metadata": {},
   "outputs": [
    {
     "data": {
      "text/plain": [
       "225"
      ]
     },
     "execution_count": 130,
     "metadata": {},
     "output_type": "execute_result"
    }
   ],
   "source": [
    "invite_df.count()"
   ]
  },
  {
   "cell_type": "markdown",
   "metadata": {},
   "source": [
    "### Generating Variable of Number of Likes given"
   ]
  },
  {
   "cell_type": "code",
   "execution_count": 131,
   "metadata": {},
   "outputs": [],
   "source": [
    "likes_df = df.select([\"userId\", \"page\"])"
   ]
  },
  {
   "cell_type": "code",
   "execution_count": 132,
   "metadata": {},
   "outputs": [],
   "source": [
    "like_count = udf(lambda x: 1 if x == \"Thumbs Up\" else 0, IntegerType())"
   ]
  },
  {
   "cell_type": "code",
   "execution_count": 133,
   "metadata": {},
   "outputs": [],
   "source": [
    "likes_df = likes_df.withColumn(\"Thumbs Up\", like_count(\"page\"))"
   ]
  },
  {
   "cell_type": "code",
   "execution_count": 134,
   "metadata": {},
   "outputs": [],
   "source": [
    "likes_df = likes_df.groupby('userId').sum(\"Thumbs Up\")"
   ]
  },
  {
   "cell_type": "code",
   "execution_count": 135,
   "metadata": {},
   "outputs": [],
   "source": [
    "likes_df = likes_df.withColumnRenamed(\"sum(Thumbs Up)\", \"likes\")"
   ]
  },
  {
   "cell_type": "code",
   "execution_count": 136,
   "metadata": {},
   "outputs": [
    {
     "data": {
      "text/plain": [
       "225"
      ]
     },
     "execution_count": 136,
     "metadata": {},
     "output_type": "execute_result"
    }
   ],
   "source": [
    "likes_df.count()"
   ]
  },
  {
   "cell_type": "code",
   "execution_count": 137,
   "metadata": {},
   "outputs": [
    {
     "name": "stdout",
     "output_type": "stream",
     "text": [
      "+------+-----+\n",
      "|userId|likes|\n",
      "+------+-----+\n",
      "|100010|   17|\n",
      "|200002|   21|\n",
      "|   125|    0|\n",
      "|    51|  100|\n",
      "|   124|  171|\n",
      "|     7|    7|\n",
      "|    15|   81|\n",
      "|    54|  163|\n",
      "|   155|   58|\n",
      "|   132|   96|\n",
      "+------+-----+\n",
      "only showing top 10 rows\n",
      "\n"
     ]
    }
   ],
   "source": [
    "likes_df.show(10)"
   ]
  },
  {
   "cell_type": "markdown",
   "metadata": {},
   "source": [
    "### Generating Variable that shows the Number of DissLikes given for songs"
   ]
  },
  {
   "cell_type": "code",
   "execution_count": 138,
   "metadata": {},
   "outputs": [],
   "source": [
    "disslikes_df = df.select([\"userId\", \"page\"])"
   ]
  },
  {
   "cell_type": "code",
   "execution_count": 139,
   "metadata": {},
   "outputs": [],
   "source": [
    "disslike_count = udf(lambda x: 1 if x == \"Thumbs Down\" else 0, IntegerType())"
   ]
  },
  {
   "cell_type": "code",
   "execution_count": 140,
   "metadata": {},
   "outputs": [],
   "source": [
    "disslikes_df = disslikes_df.withColumn(\"Thumbs Down\", disslike_count(\"page\"))"
   ]
  },
  {
   "cell_type": "code",
   "execution_count": 141,
   "metadata": {},
   "outputs": [],
   "source": [
    "disslikes_df = disslikes_df.groupby('userId').sum(\"Thumbs Down\")"
   ]
  },
  {
   "cell_type": "code",
   "execution_count": 142,
   "metadata": {},
   "outputs": [],
   "source": [
    "disslikes_df = disslikes_df.withColumnRenamed(\"sum(Thumbs Down)\", \"disslikes\")"
   ]
  },
  {
   "cell_type": "code",
   "execution_count": 143,
   "metadata": {},
   "outputs": [
    {
     "data": {
      "text/plain": [
       "225"
      ]
     },
     "execution_count": 143,
     "metadata": {},
     "output_type": "execute_result"
    }
   ],
   "source": [
    "disslikes_df.count()"
   ]
  },
  {
   "cell_type": "code",
   "execution_count": 144,
   "metadata": {},
   "outputs": [
    {
     "name": "stdout",
     "output_type": "stream",
     "text": [
      "+------+---------+\n",
      "|userId|disslikes|\n",
      "+------+---------+\n",
      "|100010|        5|\n",
      "|200002|        6|\n",
      "|   125|        0|\n",
      "|    51|       21|\n",
      "|   124|       41|\n",
      "|     7|        1|\n",
      "|    15|       14|\n",
      "|    54|       29|\n",
      "|   155|        3|\n",
      "|   132|       17|\n",
      "+------+---------+\n",
      "only showing top 10 rows\n",
      "\n"
     ]
    }
   ],
   "source": [
    "disslikes_df.show(10)"
   ]
  },
  {
   "cell_type": "markdown",
   "metadata": {},
   "source": [
    "### Generating Variable that shows Times Adds were Skipped"
   ]
  },
  {
   "cell_type": "code",
   "execution_count": 145,
   "metadata": {},
   "outputs": [],
   "source": [
    "skip_add_df = df.select([\"userId\", \"page\"])"
   ]
  },
  {
   "cell_type": "code",
   "execution_count": 146,
   "metadata": {},
   "outputs": [],
   "source": [
    "skip_event_win = udf(lambda x: 1 if x == \"Roll Advert\" else 0, IntegerType())"
   ]
  },
  {
   "cell_type": "code",
   "execution_count": 147,
   "metadata": {},
   "outputs": [],
   "source": [
    "skip_add_df = skip_add_df.withColumn(\"rollad\", skip_event_win(\"page\"))"
   ]
  },
  {
   "cell_type": "code",
   "execution_count": 148,
   "metadata": {},
   "outputs": [],
   "source": [
    "skip_add_df = skip_add_df.groupby('userId').sum(\"rollad\")"
   ]
  },
  {
   "cell_type": "code",
   "execution_count": 149,
   "metadata": {},
   "outputs": [],
   "source": [
    "skip_add_df = skip_add_df.withColumnRenamed(\"sum(rollad)\", \"skip_add\")"
   ]
  },
  {
   "cell_type": "code",
   "execution_count": 150,
   "metadata": {},
   "outputs": [
    {
     "name": "stdout",
     "output_type": "stream",
     "text": [
      "+------+--------+\n",
      "|userId|skip_add|\n",
      "+------+--------+\n",
      "|100010|      52|\n",
      "|200002|       7|\n",
      "|   125|       1|\n",
      "|    51|       0|\n",
      "|   124|       4|\n",
      "|     7|      16|\n",
      "|    15|       1|\n",
      "|    54|      47|\n",
      "|   155|       8|\n",
      "|   132|       2|\n",
      "+------+--------+\n",
      "only showing top 10 rows\n",
      "\n"
     ]
    }
   ],
   "source": [
    "skip_add_df.show(10)"
   ]
  },
  {
   "cell_type": "code",
   "execution_count": 151,
   "metadata": {},
   "outputs": [
    {
     "data": {
      "text/plain": [
       "225"
      ]
     },
     "execution_count": 151,
     "metadata": {},
     "output_type": "execute_result"
    }
   ],
   "source": [
    "skip_add_df.count()"
   ]
  },
  {
   "cell_type": "markdown",
   "metadata": {},
   "source": [
    "### Generating Variable that shows what kind of system the user used "
   ]
  },
  {
   "cell_type": "code",
   "execution_count": 152,
   "metadata": {},
   "outputs": [],
   "source": [
    "df_system = df.select(\"userId\", \"userAgent\").dropDuplicates().withColumn(\n",
    "    'System',\n",
    "     when(col(\"userAgent\").contains(\"Windows\"), \"Windows\")\\\n",
    "    .when(col(\"userAgent\").contains(\"Macintosh\"), \"Mac\")\\\n",
    "    .when(col(\"userAgent\").contains(\"iPhone\"), \"I_System\")\\\n",
    "    .when(col(\"userAgent\").contains(\"iPad\"), \"I_System\")\\\n",
    "    .otherwise(\"Other\")\n",
    ")"
   ]
  },
  {
   "cell_type": "code",
   "execution_count": 153,
   "metadata": {},
   "outputs": [],
   "source": [
    "df_system = df_system.drop(\"userAgent\")"
   ]
  },
  {
   "cell_type": "code",
   "execution_count": 154,
   "metadata": {},
   "outputs": [
    {
     "name": "stdout",
     "output_type": "stream",
     "text": [
      "+------+--------+\n",
      "|userId|  System|\n",
      "+------+--------+\n",
      "|200021|     Mac|\n",
      "|100010|I_System|\n",
      "|   156| Windows|\n",
      "+------+--------+\n",
      "only showing top 3 rows\n",
      "\n"
     ]
    }
   ],
   "source": [
    "df_system.show(3)"
   ]
  },
  {
   "cell_type": "code",
   "execution_count": 155,
   "metadata": {},
   "outputs": [
    {
     "data": {
      "text/plain": [
       "225"
      ]
     },
     "execution_count": 155,
     "metadata": {},
     "output_type": "execute_result"
    }
   ],
   "source": [
    "df_system.count()"
   ]
  },
  {
   "cell_type": "markdown",
   "metadata": {},
   "source": [
    "### Target Variable"
   ]
  },
  {
   "cell_type": "code",
   "execution_count": 156,
   "metadata": {},
   "outputs": [],
   "source": [
    "target = df.select(\"userId\", \"churned\").dropDuplicates().groupby(\"userId\", \"churned\").count()"
   ]
  },
  {
   "cell_type": "code",
   "execution_count": 157,
   "metadata": {},
   "outputs": [
    {
     "name": "stdout",
     "output_type": "stream",
     "text": [
      "+------+-------+-----+\n",
      "|userId|churned|count|\n",
      "+------+-------+-----+\n",
      "|100010|      0|    1|\n",
      "|200002|      0|    1|\n",
      "|   125|      1|    1|\n",
      "|   124|      0|    1|\n",
      "|    51|      1|    1|\n",
      "|     7|      0|    1|\n",
      "|    15|      0|    1|\n",
      "|    54|      1|    1|\n",
      "|   155|      0|    1|\n",
      "|100014|      1|    1|\n",
      "+------+-------+-----+\n",
      "only showing top 10 rows\n",
      "\n"
     ]
    }
   ],
   "source": [
    "target.show(10)"
   ]
  },
  {
   "cell_type": "code",
   "execution_count": 158,
   "metadata": {},
   "outputs": [],
   "source": [
    "target = target.drop('count')"
   ]
  },
  {
   "cell_type": "markdown",
   "metadata": {},
   "source": [
    "### Binding all new features together as a new aggregated data frame that will be used for training together"
   ]
  },
  {
   "cell_type": "code",
   "execution_count": 159,
   "metadata": {},
   "outputs": [
    {
     "data": {
      "text/plain": [
       "'target'"
      ]
     },
     "execution_count": 159,
     "metadata": {},
     "output_type": "execute_result"
    }
   ],
   "source": [
    "\"gender_df\"\n",
    "\"songs_df\"\n",
    "\"singer_df\"\n",
    "\"df_membership\"\n",
    "\"nr_songs_df\"\n",
    "\"song_per_session_df\"\n",
    "\"invite_df\"\n",
    "\"likes_df\"\n",
    "\"disslikes_df\"\n",
    "\"skip_add_df\"\n",
    "\"df_system\"\n",
    "\"target\""
   ]
  },
  {
   "cell_type": "markdown",
   "metadata": {},
   "source": [
    "Joining data frames based on userID"
   ]
  },
  {
   "cell_type": "code",
   "execution_count": 160,
   "metadata": {},
   "outputs": [],
   "source": [
    "model_df = target.join(gender_df, [\"userId\"]) \\\n",
    "                   .join(songs_df, [\"userId\"]) \\\n",
    "                   .join(singer_df, [\"userId\"]) \\\n",
    "                   .join(df_membership, [\"userId\"]) \\\n",
    "                   .join(nr_songs_df, [\"userId\"]) \\\n",
    "                   .join(song_per_session_df, [\"userId\"]) \\\n",
    "                   .join(invite_df, [\"userId\"]) \\\n",
    "                   .join(likes_df, [\"userId\"]) \\\n",
    "                   .join(disslikes_df, [\"userId\"]) \\\n",
    "                   .join(skip_add_df, [\"userId\"]) \\\n",
    "                   .join(df_system, [\"userId\"]) \\\n",
    "                   .join(level_df, [\"userId\"]) \\\n"
   ]
  },
  {
   "cell_type": "code",
   "execution_count": 161,
   "metadata": {},
   "outputs": [
    {
     "data": {
      "text/plain": [
       "225"
      ]
     },
     "execution_count": 161,
     "metadata": {},
     "output_type": "execute_result"
    }
   ],
   "source": [
    "model_df.count()"
   ]
  },
  {
   "cell_type": "code",
   "execution_count": 162,
   "metadata": {},
   "outputs": [
    {
     "name": "stdout",
     "output_type": "stream",
     "text": [
      "+------+-------+------+------------------+---------+-------------------+-----------------+------------------+-----------+-----+---------+--------+--------+-----+\n",
      "|userId|churned|gender|         mean_song|nr_singer|membership_duration|Songs_in_Playlist|          avg_song|invitations|likes|disslikes|skip_add|  System|level|\n",
      "+------+-------+------+------------------+---------+-------------------+-----------------+------------------+-----------+-----+---------+--------+--------+-----+\n",
      "|100010|      0|     0|39.285714285714285|      253|   55.6436574074074|                7|39.285714285714285|          4|   17|        5|      52|I_System|    1|\n",
      "|200002|      0|     1|              64.5|      340|  70.07462962962963|                8|              64.5|          4|   21|        6|       7|I_System|    0|\n",
      "|   125|      1|     1|               8.0|        9|  71.31688657407408|                0|               8.0|          0|    0|        0|       1|     Mac|    1|\n",
      "|   124|      0|     0|145.67857142857142|     2233| 131.55591435185184|              118|145.67857142857142|         74|  171|       41|       4|     Mac|    0|\n",
      "|    51|      1|     1|             211.1|     1386| 19.455844907407407|               52|             211.1|         28|  100|       21|       0| Windows|    0|\n",
      "|     7|      0|     1|21.428571428571427|      143|  72.77818287037037|                5|21.428571428571427|          1|    7|        1|      16| Windows|    1|\n",
      "|    15|      0|     1|136.71428571428572|     1303| 56.513576388888886|               59|136.71428571428572|         31|   81|       14|       1| Windows|    0|\n",
      "|    54|      1|     0| 81.17142857142858|     1745| 110.75168981481481|               72| 81.17142857142858|         33|  163|       29|      47| Windows|    0|\n",
      "|   155|      0|     0|136.66666666666666|      644| 23.556018518518517|               24|136.66666666666666|         11|   58|        3|       8| Windows|    0|\n",
      "|100014|      1|     1|42.833333333333336|      234|  85.08340277777778|                7|42.833333333333336|          6|   17|        3|       2| Windows|    0|\n",
      "+------+-------+------+------------------+---------+-------------------+-----------------+------------------+-----------+-----+---------+--------+--------+-----+\n",
      "only showing top 10 rows\n",
      "\n"
     ]
    }
   ],
   "source": [
    "model_df.show(10)"
   ]
  },
  {
   "cell_type": "markdown",
   "metadata": {},
   "source": [
    "# Modeling\n",
    "Split the full dataset into train, test, and validation sets. Test out several of the machine learning methods you learned. Evaluate the accuracy of the various models, tuning parameters as necessary. Determine your winning model based on test accuracy and report results on the validation set. Since the churned users are a fairly small subset, I suggest using F1 score as the metric to optimize."
   ]
  },
  {
   "cell_type": "markdown",
   "metadata": {},
   "source": [
    "Generating customre transformer that can be used within the pipeline"
   ]
  },
  {
   "cell_type": "code",
   "execution_count": 163,
   "metadata": {},
   "outputs": [],
   "source": [
    "class FloatCaster(Transformer):\n",
    "    \"\"\"\n",
    "    A simple custom Transformer which cast column that given to float.\n",
    "    \"\"\"\n",
    "\n",
    "    def __init__(self, to_cast_list):\n",
    "        super(FloatCaster, self).__init__()\n",
    "        self.columns = to_cast_list\n",
    "\n",
    "    def _transform(self, df):\n",
    "        for col in self.columns:\n",
    "            df = df.withColumn(col, df[col].cast('float'))\n",
    "        return df\n"
   ]
  },
  {
   "cell_type": "code",
   "execution_count": 164,
   "metadata": {},
   "outputs": [],
   "source": [
    "model_df = model_df.withColumnRenamed(\"churned\", \"label\") \n"
   ]
  },
  {
   "cell_type": "code",
   "execution_count": 165,
   "metadata": {},
   "outputs": [
    {
     "name": "stdout",
     "output_type": "stream",
     "text": [
      "root\n",
      " |-- userId: string (nullable = true)\n",
      " |-- label: long (nullable = true)\n",
      " |-- gender: integer (nullable = true)\n",
      " |-- mean_song: double (nullable = true)\n",
      " |-- nr_singer: long (nullable = false)\n",
      " |-- membership_duration: double (nullable = true)\n",
      " |-- Songs_in_Playlist: long (nullable = true)\n",
      " |-- avg_song: double (nullable = true)\n",
      " |-- invitations: long (nullable = true)\n",
      " |-- likes: long (nullable = true)\n",
      " |-- disslikes: long (nullable = true)\n",
      " |-- skip_add: long (nullable = true)\n",
      " |-- System: string (nullable = false)\n",
      " |-- level: integer (nullable = false)\n",
      "\n"
     ]
    }
   ],
   "source": [
    "model_df.printSchema()"
   ]
  },
  {
   "cell_type": "code",
   "execution_count": 166,
   "metadata": {},
   "outputs": [
    {
     "data": {
      "text/html": [
       "<div>\n",
       "<style scoped>\n",
       "    .dataframe tbody tr th:only-of-type {\n",
       "        vertical-align: middle;\n",
       "    }\n",
       "\n",
       "    .dataframe tbody tr th {\n",
       "        vertical-align: top;\n",
       "    }\n",
       "\n",
       "    .dataframe thead th {\n",
       "        text-align: right;\n",
       "    }\n",
       "</style>\n",
       "<table border=\"1\" class=\"dataframe\">\n",
       "  <thead>\n",
       "    <tr style=\"text-align: right;\">\n",
       "      <th></th>\n",
       "      <th>userId</th>\n",
       "      <th>label</th>\n",
       "      <th>gender</th>\n",
       "      <th>mean_song</th>\n",
       "      <th>nr_singer</th>\n",
       "      <th>membership_duration</th>\n",
       "      <th>Songs_in_Playlist</th>\n",
       "      <th>avg_song</th>\n",
       "      <th>invitations</th>\n",
       "      <th>likes</th>\n",
       "      <th>disslikes</th>\n",
       "      <th>skip_add</th>\n",
       "      <th>System</th>\n",
       "      <th>level</th>\n",
       "    </tr>\n",
       "  </thead>\n",
       "  <tbody>\n",
       "    <tr>\n",
       "      <th>0</th>\n",
       "      <td>100010</td>\n",
       "      <td>0</td>\n",
       "      <td>0</td>\n",
       "      <td>39.285714</td>\n",
       "      <td>253</td>\n",
       "      <td>55.643657</td>\n",
       "      <td>7</td>\n",
       "      <td>39.285714</td>\n",
       "      <td>4</td>\n",
       "      <td>17</td>\n",
       "      <td>5</td>\n",
       "      <td>52</td>\n",
       "      <td>I_System</td>\n",
       "      <td>1</td>\n",
       "    </tr>\n",
       "    <tr>\n",
       "      <th>1</th>\n",
       "      <td>200002</td>\n",
       "      <td>0</td>\n",
       "      <td>1</td>\n",
       "      <td>64.500000</td>\n",
       "      <td>340</td>\n",
       "      <td>70.074630</td>\n",
       "      <td>8</td>\n",
       "      <td>64.500000</td>\n",
       "      <td>4</td>\n",
       "      <td>21</td>\n",
       "      <td>6</td>\n",
       "      <td>7</td>\n",
       "      <td>I_System</td>\n",
       "      <td>0</td>\n",
       "    </tr>\n",
       "    <tr>\n",
       "      <th>2</th>\n",
       "      <td>125</td>\n",
       "      <td>1</td>\n",
       "      <td>1</td>\n",
       "      <td>8.000000</td>\n",
       "      <td>9</td>\n",
       "      <td>71.316887</td>\n",
       "      <td>0</td>\n",
       "      <td>8.000000</td>\n",
       "      <td>0</td>\n",
       "      <td>0</td>\n",
       "      <td>0</td>\n",
       "      <td>1</td>\n",
       "      <td>Mac</td>\n",
       "      <td>1</td>\n",
       "    </tr>\n",
       "    <tr>\n",
       "      <th>3</th>\n",
       "      <td>124</td>\n",
       "      <td>0</td>\n",
       "      <td>0</td>\n",
       "      <td>145.678571</td>\n",
       "      <td>2233</td>\n",
       "      <td>131.555914</td>\n",
       "      <td>118</td>\n",
       "      <td>145.678571</td>\n",
       "      <td>74</td>\n",
       "      <td>171</td>\n",
       "      <td>41</td>\n",
       "      <td>4</td>\n",
       "      <td>Mac</td>\n",
       "      <td>0</td>\n",
       "    </tr>\n",
       "    <tr>\n",
       "      <th>4</th>\n",
       "      <td>51</td>\n",
       "      <td>1</td>\n",
       "      <td>1</td>\n",
       "      <td>211.100000</td>\n",
       "      <td>1386</td>\n",
       "      <td>19.455845</td>\n",
       "      <td>52</td>\n",
       "      <td>211.100000</td>\n",
       "      <td>28</td>\n",
       "      <td>100</td>\n",
       "      <td>21</td>\n",
       "      <td>0</td>\n",
       "      <td>Windows</td>\n",
       "      <td>0</td>\n",
       "    </tr>\n",
       "    <tr>\n",
       "      <th>5</th>\n",
       "      <td>7</td>\n",
       "      <td>0</td>\n",
       "      <td>1</td>\n",
       "      <td>21.428571</td>\n",
       "      <td>143</td>\n",
       "      <td>72.778183</td>\n",
       "      <td>5</td>\n",
       "      <td>21.428571</td>\n",
       "      <td>1</td>\n",
       "      <td>7</td>\n",
       "      <td>1</td>\n",
       "      <td>16</td>\n",
       "      <td>Windows</td>\n",
       "      <td>1</td>\n",
       "    </tr>\n",
       "    <tr>\n",
       "      <th>6</th>\n",
       "      <td>15</td>\n",
       "      <td>0</td>\n",
       "      <td>1</td>\n",
       "      <td>136.714286</td>\n",
       "      <td>1303</td>\n",
       "      <td>56.513576</td>\n",
       "      <td>59</td>\n",
       "      <td>136.714286</td>\n",
       "      <td>31</td>\n",
       "      <td>81</td>\n",
       "      <td>14</td>\n",
       "      <td>1</td>\n",
       "      <td>Windows</td>\n",
       "      <td>0</td>\n",
       "    </tr>\n",
       "    <tr>\n",
       "      <th>7</th>\n",
       "      <td>54</td>\n",
       "      <td>1</td>\n",
       "      <td>0</td>\n",
       "      <td>81.171429</td>\n",
       "      <td>1745</td>\n",
       "      <td>110.751690</td>\n",
       "      <td>72</td>\n",
       "      <td>81.171429</td>\n",
       "      <td>33</td>\n",
       "      <td>163</td>\n",
       "      <td>29</td>\n",
       "      <td>47</td>\n",
       "      <td>Windows</td>\n",
       "      <td>0</td>\n",
       "    </tr>\n",
       "    <tr>\n",
       "      <th>8</th>\n",
       "      <td>155</td>\n",
       "      <td>0</td>\n",
       "      <td>0</td>\n",
       "      <td>136.666667</td>\n",
       "      <td>644</td>\n",
       "      <td>23.556019</td>\n",
       "      <td>24</td>\n",
       "      <td>136.666667</td>\n",
       "      <td>11</td>\n",
       "      <td>58</td>\n",
       "      <td>3</td>\n",
       "      <td>8</td>\n",
       "      <td>Windows</td>\n",
       "      <td>0</td>\n",
       "    </tr>\n",
       "    <tr>\n",
       "      <th>9</th>\n",
       "      <td>100014</td>\n",
       "      <td>1</td>\n",
       "      <td>1</td>\n",
       "      <td>42.833333</td>\n",
       "      <td>234</td>\n",
       "      <td>85.083403</td>\n",
       "      <td>7</td>\n",
       "      <td>42.833333</td>\n",
       "      <td>6</td>\n",
       "      <td>17</td>\n",
       "      <td>3</td>\n",
       "      <td>2</td>\n",
       "      <td>Windows</td>\n",
       "      <td>0</td>\n",
       "    </tr>\n",
       "  </tbody>\n",
       "</table>\n",
       "</div>"
      ],
      "text/plain": [
       "   userId  label  gender   mean_song  nr_singer  membership_duration  \\\n",
       "0  100010      0       0   39.285714        253            55.643657   \n",
       "1  200002      0       1   64.500000        340            70.074630   \n",
       "2     125      1       1    8.000000          9            71.316887   \n",
       "3     124      0       0  145.678571       2233           131.555914   \n",
       "4      51      1       1  211.100000       1386            19.455845   \n",
       "5       7      0       1   21.428571        143            72.778183   \n",
       "6      15      0       1  136.714286       1303            56.513576   \n",
       "7      54      1       0   81.171429       1745           110.751690   \n",
       "8     155      0       0  136.666667        644            23.556019   \n",
       "9  100014      1       1   42.833333        234            85.083403   \n",
       "\n",
       "   Songs_in_Playlist    avg_song  invitations  likes  disslikes  skip_add  \\\n",
       "0                  7   39.285714            4     17          5        52   \n",
       "1                  8   64.500000            4     21          6         7   \n",
       "2                  0    8.000000            0      0          0         1   \n",
       "3                118  145.678571           74    171         41         4   \n",
       "4                 52  211.100000           28    100         21         0   \n",
       "5                  5   21.428571            1      7          1        16   \n",
       "6                 59  136.714286           31     81         14         1   \n",
       "7                 72   81.171429           33    163         29        47   \n",
       "8                 24  136.666667           11     58          3         8   \n",
       "9                  7   42.833333            6     17          3         2   \n",
       "\n",
       "     System  level  \n",
       "0  I_System      1  \n",
       "1  I_System      0  \n",
       "2       Mac      1  \n",
       "3       Mac      0  \n",
       "4   Windows      0  \n",
       "5   Windows      1  \n",
       "6   Windows      0  \n",
       "7   Windows      0  \n",
       "8   Windows      0  \n",
       "9   Windows      0  "
      ]
     },
     "execution_count": 166,
     "metadata": {},
     "output_type": "execute_result"
    }
   ],
   "source": [
    "model_df.toPandas().head(10)"
   ]
  },
  {
   "cell_type": "markdown",
   "metadata": {},
   "source": [
    "### Algorithms Used for training"
   ]
  },
  {
   "cell_type": "markdown",
   "metadata": {},
   "source": [
    "For training two models are used that differ between the degrees of freedom they have and the principles of their underlying algorithms. This models are:\n",
    "* Random Forest\n",
    "* Logistic Regression\n",
    "    \n",
    "These two models also do have the benefit that they are not to extreme calculation intenisve and therefore fast results and a good tradeoff to prediction quality can be expected."
   ]
  },
  {
   "cell_type": "markdown",
   "metadata": {},
   "source": [
    "### Types of Training"
   ]
  },
  {
   "cell_type": "markdown",
   "metadata": {},
   "source": [
    "Below two types of training methods are used. Firstly a simple version is used, where data is processed before training with its single required\n",
    "steps. The next training version includes the processing and learning steps in pipelines. The pipeline approach is used firstly due to the fact that\n",
    "it is the general approach that should be followed for code readibility and an overall shorter code. Secondly data leakage can be reduced by using\n",
    "pipelines in the model training process."
   ]
  },
  {
   "cell_type": "markdown",
   "metadata": {},
   "source": [
    "### Metrics Used for Algorithm Evluation"
   ]
  },
  {
   "cell_type": "markdown",
   "metadata": {},
   "source": [
    "Three Metrics are used for evaluating the prediction quality. The first is the simplest possible approach namely using accuracy as an \n",
    "evaluation metric. It is mostly not the best choice due to normally imbalance data, and a high accuracy could actually missguide a good performance\n",
    "even though an algorithm could get a high accuracy by always predicting the majority class in stron imbalanced data. \n",
    "\n",
    "Therefore two more common and suitable metrics are also used to evaluate the quality of the algorithms namely, F1 Score and the ROC. Both of these metrics can be used for this scenario. F1 Score is more suitable for strong imbalanced data whereas ROC curve gives also information about the performance if other threshold then 0.5 for class assignemt is used. "
   ]
  },
  {
   "cell_type": "markdown",
   "metadata": {},
   "source": [
    "<img align=\"center\" width=\"40%\" height=\"40%\" src=\"f1_score.PNG\">"
   ]
  },
  {
   "cell_type": "markdown",
   "metadata": {},
   "source": [
    "<img align=\"center\" width=\"40%\" height=\"40%\" src=\"ROC_score.PNG\">"
   ]
  },
  {
   "cell_type": "markdown",
   "metadata": {},
   "source": [
    "### Simple approach training approach without Pipeline usage"
   ]
  },
  {
   "cell_type": "code",
   "execution_count": 167,
   "metadata": {},
   "outputs": [],
   "source": [
    "categoricalCol = \"System\""
   ]
  },
  {
   "cell_type": "code",
   "execution_count": 168,
   "metadata": {},
   "outputs": [],
   "source": [
    "stringIndexer = StringIndexer(inputCol=categoricalCol, outputCol=categoricalCol + \"Index\")"
   ]
  },
  {
   "cell_type": "code",
   "execution_count": 169,
   "metadata": {},
   "outputs": [],
   "source": [
    "model_df = stringIndexer.fit(model_df).transform(model_df)"
   ]
  },
  {
   "cell_type": "code",
   "execution_count": 170,
   "metadata": {},
   "outputs": [
    {
     "name": "stdout",
     "output_type": "stream",
     "text": [
      "root\n",
      " |-- userId: string (nullable = true)\n",
      " |-- label: long (nullable = true)\n",
      " |-- gender: integer (nullable = true)\n",
      " |-- mean_song: double (nullable = true)\n",
      " |-- nr_singer: long (nullable = false)\n",
      " |-- membership_duration: double (nullable = true)\n",
      " |-- Songs_in_Playlist: long (nullable = true)\n",
      " |-- avg_song: double (nullable = true)\n",
      " |-- invitations: long (nullable = true)\n",
      " |-- likes: long (nullable = true)\n",
      " |-- disslikes: long (nullable = true)\n",
      " |-- skip_add: long (nullable = true)\n",
      " |-- System: string (nullable = false)\n",
      " |-- level: integer (nullable = false)\n",
      " |-- SystemIndex: double (nullable = false)\n",
      "\n"
     ]
    }
   ],
   "source": [
    "model_df.printSchema()"
   ]
  },
  {
   "cell_type": "code",
   "execution_count": 171,
   "metadata": {},
   "outputs": [],
   "source": [
    "encoder = OneHotEncoderEstimator(inputCols=[stringIndexer.getOutputCol()], outputCols=[categoricalCol + \"classVec\"])"
   ]
  },
  {
   "cell_type": "code",
   "execution_count": 172,
   "metadata": {},
   "outputs": [],
   "source": [
    "model_df = encoder.fit(model_df).transform(model_df)"
   ]
  },
  {
   "cell_type": "markdown",
   "metadata": {},
   "source": [
    "#### Changing all features to float"
   ]
  },
  {
   "cell_type": "code",
   "execution_count": 173,
   "metadata": {},
   "outputs": [],
   "source": [
    "for feature in model_df.columns:\n",
    "    if feature not in [\"System\", \"SystemIndex\", \"SystemclassVec\"]:\n",
    "        model_df = model_df.withColumn(feature, model_df[feature].cast('float'))"
   ]
  },
  {
   "cell_type": "markdown",
   "metadata": {},
   "source": [
    "#### Defining which Variables have to be used in the later assembler stage"
   ]
  },
  {
   "cell_type": "code",
   "execution_count": 174,
   "metadata": {},
   "outputs": [],
   "source": [
    "assemblerInputs = model_df.select([cols for cols in model_df.columns if cols not in ['label',\"userId\", \"System\", \"SystemIndex\"]]).columns"
   ]
  },
  {
   "cell_type": "code",
   "execution_count": 175,
   "metadata": {},
   "outputs": [
    {
     "data": {
      "text/plain": [
       "['gender',\n",
       " 'mean_song',\n",
       " 'nr_singer',\n",
       " 'membership_duration',\n",
       " 'Songs_in_Playlist',\n",
       " 'avg_song',\n",
       " 'invitations',\n",
       " 'likes',\n",
       " 'disslikes',\n",
       " 'skip_add',\n",
       " 'level',\n",
       " 'SystemclassVec']"
      ]
     },
     "execution_count": 175,
     "metadata": {},
     "output_type": "execute_result"
    }
   ],
   "source": [
    "assemblerInputs"
   ]
  },
  {
   "cell_type": "code",
   "execution_count": 176,
   "metadata": {},
   "outputs": [],
   "source": [
    "assembler = VectorAssembler(inputCols=assemblerInputs, outputCol=\"vec_features\")"
   ]
  },
  {
   "cell_type": "code",
   "execution_count": 177,
   "metadata": {},
   "outputs": [],
   "source": [
    "feature_df = assembler.transform(model_df)"
   ]
  },
  {
   "cell_type": "markdown",
   "metadata": {},
   "source": [
    "#### Standarize data to make all features have equal effect on target variable"
   ]
  },
  {
   "cell_type": "code",
   "execution_count": 178,
   "metadata": {},
   "outputs": [],
   "source": [
    "scaler = StandardScaler(inputCol=\"vec_features\", outputCol=\"features\", withStd=True)"
   ]
  },
  {
   "cell_type": "code",
   "execution_count": 179,
   "metadata": {},
   "outputs": [],
   "source": [
    "scaled_model = scaler.fit(feature_df)"
   ]
  },
  {
   "cell_type": "code",
   "execution_count": 180,
   "metadata": {},
   "outputs": [],
   "source": [
    "feature_df = scaled_model.transform(feature_df)"
   ]
  },
  {
   "cell_type": "markdown",
   "metadata": {},
   "source": [
    "#### Split dataset in train, test and validation dataset"
   ]
  },
  {
   "cell_type": "code",
   "execution_count": 181,
   "metadata": {},
   "outputs": [],
   "source": [
    "train_df, test_df, valid_df = feature_df.randomSplit([0.6, 0.2, 0.2], seed=8)"
   ]
  },
  {
   "cell_type": "code",
   "execution_count": 182,
   "metadata": {},
   "outputs": [],
   "source": [
    "evaluator = BinaryClassificationEvaluator(labelCol=\"label\")\n",
    "evaluator_multi = MulticlassClassificationEvaluator(labelCol = \"label\", predictionCol=\"prediction\")"
   ]
  },
  {
   "cell_type": "markdown",
   "metadata": {},
   "source": [
    "#### Create models that should be used"
   ]
  },
  {
   "cell_type": "markdown",
   "metadata": {},
   "source": [
    "Model selections happens based on training time required and performance. For this case logistic regression and random forest\n",
    "showed to be the best tradeoff"
   ]
  },
  {
   "cell_type": "code",
   "execution_count": 183,
   "metadata": {},
   "outputs": [],
   "source": [
    "lr = LogisticRegression(featuresCol = 'features', labelCol = 'label', maxIter=10)\n",
    "rf = RandomForestClassifier(featuresCol = 'features', labelCol = 'label', seed=8)"
   ]
  },
  {
   "cell_type": "code",
   "execution_count": 184,
   "metadata": {},
   "outputs": [],
   "source": [
    "model_list = [lr, rf]"
   ]
  },
  {
   "cell_type": "markdown",
   "metadata": {},
   "source": [
    "#### Create training loop"
   ]
  },
  {
   "cell_type": "code",
   "execution_count": 185,
   "metadata": {},
   "outputs": [
    {
     "name": "stdout",
     "output_type": "stream",
     "text": [
      "LogisticRegression training beginn\n",
      "LogisticRegression training end\n",
      "Time taken for LogisticRegression training is: 4.265459064642588 minutes\n",
      "LogisticRegression predicting started\n",
      "LogisticRegression predicting ended\n",
      "Time taken for LogisticRegression prediction is: 0.0009477456410725911 minutes\n",
      "ROC for LogisticRegression is: 0.6814516129032259\n",
      "F1 Score for LogisticRegression is: 0.6369177688326626\n",
      "The accuracy of the LogisticRegression model is: 0.7021276595744681\n",
      "RandomForestClassifier training beginn\n",
      "RandomForestClassifier training end\n",
      "Time taken for RandomForestClassifier training is: 6.430923557281494 minutes\n",
      "RandomForestClassifier predicting started\n",
      "RandomForestClassifier predicting ended\n",
      "Time taken for RandomForestClassifier prediction is: 0.0009893298149108887 minutes\n",
      "ROC for RandomForestClassifier is: 0.7066532258064515\n",
      "F1 Score for RandomForestClassifier is: 0.5711359979194772\n",
      "The accuracy of the RandomForestClassifier model is: 0.6808510638297872\n",
      "Training Ended\n"
     ]
    }
   ],
   "source": [
    "for model in model_list:\n",
    "    # take first model\n",
    "    model_name = model.__class__.__name__\n",
    "    print(model_name, 'training beginn')\n",
    "    \n",
    "    # Calculate training time for training\n",
    "    start = time.time()\n",
    "    model = model.fit(train_df)\n",
    "    end = time.time()\n",
    "     \n",
    "    # give training duration    \n",
    "    print(model_name, 'training end')\n",
    "    print('Time taken for {} training is:'.format(model_name),((end-start)/60),'minutes')\n",
    "    \n",
    "    \n",
    "    # make prediction and calculate inverence duration\n",
    "    print(model_name, 'predicting started')\n",
    "    start = time.time()\n",
    "    predictions = model.transform(valid_df)\n",
    "    end = time.time()\n",
    "    print(model_name, 'predicting ended')\n",
    "    print('Time taken for {} prediction is:'.format(model_name),((end-start)/60),'minutes')\n",
    "    \n",
    "    # get metrics to evaluate model\n",
    "    # ROC evaluation\n",
    "    print('ROC for {} is:'.format(model_name), evaluator.evaluate(predictions, {evaluator.metricName: \"areaUnderROC\"}))\n",
    "    # F1 evaluation\n",
    "    print('F1 Score for {} is:'.format(model_name), evaluator_multi.evaluate(predictions, {evaluator.metricName: \"f1\"}))\n",
    "    # accuracy evaluation\n",
    "    accuracy = predictions.filter(predictions.label == predictions.prediction).count() / (predictions.count())\n",
    "    print(\"The accuracy of the {} model is:\".format(model_name), accuracy)\n",
    "    \n",
    "print(\"Training Ended\")"
   ]
  },
  {
   "cell_type": "markdown",
   "metadata": {},
   "source": [
    "### Pipeline Version"
   ]
  },
  {
   "cell_type": "markdown",
   "metadata": {},
   "source": [
    "#### Same training concept as before but instead pipelines are used"
   ]
  },
  {
   "cell_type": "code",
   "execution_count": 213,
   "metadata": {},
   "outputs": [],
   "source": [
    "model_df = target.join(gender_df, [\"userId\"]) \\\n",
    "                   .join(songs_df, [\"userId\"]) \\\n",
    "                   .join(singer_df, [\"userId\"]) \\\n",
    "                   .join(df_membership, [\"userId\"]) \\\n",
    "                   .join(nr_songs_df, [\"userId\"]) \\\n",
    "                   .join(song_per_session_df, [\"userId\"]) \\\n",
    "                   .join(invite_df, [\"userId\"]) \\\n",
    "                   .join(likes_df, [\"userId\"]) \\\n",
    "                   .join(disslikes_df, [\"userId\"]) \\\n",
    "                   .join(skip_add_df, [\"userId\"]) \\\n",
    "                   .join(df_system, [\"userId\"]) \\\n",
    "                   .join(level_df, [\"userId\"]) \\"
   ]
  },
  {
   "cell_type": "code",
   "execution_count": 214,
   "metadata": {},
   "outputs": [],
   "source": [
    "model_df = model_df.withColumnRenamed(\"churned\", \"label\") \n"
   ]
  },
  {
   "cell_type": "code",
   "execution_count": 215,
   "metadata": {},
   "outputs": [],
   "source": [
    "stages = []"
   ]
  },
  {
   "cell_type": "code",
   "execution_count": 216,
   "metadata": {},
   "outputs": [
    {
     "name": "stdout",
     "output_type": "stream",
     "text": [
      "root\n",
      " |-- userId: string (nullable = true)\n",
      " |-- label: long (nullable = true)\n",
      " |-- gender: integer (nullable = true)\n",
      " |-- mean_song: double (nullable = true)\n",
      " |-- nr_singer: long (nullable = false)\n",
      " |-- membership_duration: double (nullable = true)\n",
      " |-- Songs_in_Playlist: long (nullable = true)\n",
      " |-- avg_song: double (nullable = true)\n",
      " |-- invitations: long (nullable = true)\n",
      " |-- likes: long (nullable = true)\n",
      " |-- disslikes: long (nullable = true)\n",
      " |-- skip_add: long (nullable = true)\n",
      " |-- System: string (nullable = false)\n",
      " |-- level: integer (nullable = false)\n",
      "\n"
     ]
    }
   ],
   "source": [
    "model_df.printSchema()"
   ]
  },
  {
   "cell_type": "code",
   "execution_count": 217,
   "metadata": {},
   "outputs": [],
   "source": [
    "stringIndexer = StringIndexer(inputCol=\"System\", outputCol=categoricalCol + \"Index\")"
   ]
  },
  {
   "cell_type": "code",
   "execution_count": 218,
   "metadata": {},
   "outputs": [],
   "source": [
    "stages += [stringIndexer]"
   ]
  },
  {
   "cell_type": "code",
   "execution_count": 219,
   "metadata": {},
   "outputs": [],
   "source": [
    "encoder = OneHotEncoderEstimator(inputCols=[stringIndexer.getOutputCol()], outputCols=[\"System\" + \"classVec\"])"
   ]
  },
  {
   "cell_type": "code",
   "execution_count": 220,
   "metadata": {},
   "outputs": [],
   "source": [
    "stages += [encoder]"
   ]
  },
  {
   "cell_type": "code",
   "execution_count": 221,
   "metadata": {},
   "outputs": [
    {
     "data": {
      "text/plain": [
       "['userId',\n",
       " 'label',\n",
       " 'gender',\n",
       " 'mean_song',\n",
       " 'nr_singer',\n",
       " 'membership_duration',\n",
       " 'Songs_in_Playlist',\n",
       " 'avg_song',\n",
       " 'invitations',\n",
       " 'likes',\n",
       " 'disslikes',\n",
       " 'skip_add',\n",
       " 'level']"
      ]
     },
     "execution_count": 221,
     "metadata": {},
     "output_type": "execute_result"
    }
   ],
   "source": [
    "float_list = [feature for feature in model_df.columns if feature not in [\"System\", \"SystemIndex\", \"SystemclassVec\"] ]\n",
    "float_list \n",
    "        "
   ]
  },
  {
   "cell_type": "code",
   "execution_count": 222,
   "metadata": {},
   "outputs": [],
   "source": [
    "float_caster = FloatCaster(to_cast_list = float_list)\n",
    "stages += [float_caster]"
   ]
  },
  {
   "cell_type": "markdown",
   "metadata": {},
   "source": [
    "All steps for the pipeline are saved in the stages list"
   ]
  },
  {
   "cell_type": "code",
   "execution_count": 223,
   "metadata": {},
   "outputs": [],
   "source": [
    "assemblerInputs = model_df.select([cols for cols in model_df.columns if cols not in ['label', \"userId\", \"System\", \"SystemIndex\"]]).columns"
   ]
  },
  {
   "cell_type": "code",
   "execution_count": 224,
   "metadata": {},
   "outputs": [
    {
     "data": {
      "text/plain": [
       "['gender',\n",
       " 'mean_song',\n",
       " 'nr_singer',\n",
       " 'membership_duration',\n",
       " 'Songs_in_Playlist',\n",
       " 'avg_song',\n",
       " 'invitations',\n",
       " 'likes',\n",
       " 'disslikes',\n",
       " 'skip_add',\n",
       " 'level']"
      ]
     },
     "execution_count": 224,
     "metadata": {},
     "output_type": "execute_result"
    }
   ],
   "source": [
    "#assemblerInputs += [\"SystemclassVec\"]\n",
    "assemblerInputs"
   ]
  },
  {
   "cell_type": "code",
   "execution_count": 225,
   "metadata": {},
   "outputs": [],
   "source": [
    "assembler = VectorAssembler(inputCols=assemblerInputs, outputCol=\"vec_features\")\n",
    "stages += [assembler]"
   ]
  },
  {
   "cell_type": "code",
   "execution_count": 226,
   "metadata": {},
   "outputs": [],
   "source": [
    "scaler = StandardScaler(inputCol=\"vec_features\", outputCol=\"features\", withStd=True)\n",
    "stages += [scaler]"
   ]
  },
  {
   "cell_type": "code",
   "execution_count": 227,
   "metadata": {},
   "outputs": [],
   "source": [
    "train_df, test_df = model_df.randomSplit([0.9, 0.1], seed=1988)"
   ]
  },
  {
   "cell_type": "markdown",
   "metadata": {},
   "source": [
    "#### Generate Models"
   ]
  },
  {
   "cell_type": "code",
   "execution_count": 228,
   "metadata": {},
   "outputs": [],
   "source": [
    "lr = LogisticRegression(featuresCol = 'features', labelCol = 'label', maxIter=10)\n",
    "rf = RandomForestClassifier(featuresCol = 'features', labelCol = 'label', seed=8)"
   ]
  },
  {
   "cell_type": "code",
   "execution_count": 229,
   "metadata": {},
   "outputs": [],
   "source": [
    "model_list = [lr, rf]"
   ]
  },
  {
   "cell_type": "code",
   "execution_count": 230,
   "metadata": {},
   "outputs": [
    {
     "data": {
      "text/plain": [
       "[StringIndexer_2c27c87b117c,\n",
       " OneHotEncoderEstimator_f963e59ee0bc,\n",
       " FloatCaster_4f2b7f33f57d,\n",
       " VectorAssembler_9baf27a496b1,\n",
       " StandardScaler_47c4da9244df]"
      ]
     },
     "execution_count": 230,
     "metadata": {},
     "output_type": "execute_result"
    }
   ],
   "source": [
    "stages"
   ]
  },
  {
   "cell_type": "code",
   "execution_count": 231,
   "metadata": {},
   "outputs": [
    {
     "name": "stdout",
     "output_type": "stream",
     "text": [
      "Pipeline training started for LogisticRegression\n",
      "[StringIndexer_2c27c87b117c, OneHotEncoderEstimator_f963e59ee0bc, FloatCaster_4f2b7f33f57d, VectorAssembler_9baf27a496b1, StandardScaler_47c4da9244df, LogisticRegression_1297d3eedc42]\n",
      "Pipeline training ended for LogisticRegression\n",
      "Time taken for LogisticRegression training is: 9.552802423636118 minutes\n",
      "LogisticRegression Prediction started\n",
      "LogisticRegression Predicting ended\n",
      "Time taken for LogisticRegression prediction is: 0.0018816073735555014 minutes\n",
      "ROC for LogisticRegression is: 0.7205882352941176\n",
      "F1 Score for LogisticRegression is: 0.7482993197278911\n",
      "The accuracy of the LogisticRegression model is: 0.7619047619047619\n",
      "Pipeline training started for RandomForestClassifier\n",
      "[StringIndexer_2c27c87b117c, OneHotEncoderEstimator_f963e59ee0bc, FloatCaster_4f2b7f33f57d, VectorAssembler_9baf27a496b1, StandardScaler_47c4da9244df, RandomForestClassifier_330a2aef36be]\n",
      "Pipeline training ended for RandomForestClassifier\n",
      "Time taken for RandomForestClassifier training is: 12.076010131835938 minutes\n",
      "RandomForestClassifier Prediction started\n",
      "RandomForestClassifier Predicting ended\n",
      "Time taken for RandomForestClassifier prediction is: 0.0026035030682881673 minutes\n",
      "ROC for RandomForestClassifier is: 0.8382352941176471\n",
      "F1 Score for RandomForestClassifier is: 0.783068783068783\n",
      "The accuracy of the RandomForestClassifier model is: 0.8095238095238095\n",
      "Training Ended\n"
     ]
    }
   ],
   "source": [
    "for model in model_list:\n",
    "\n",
    "    model_name = model.__class__.__name__\n",
    "    print('Pipeline training started for {}'.format(model_name))\n",
    "    \n",
    "    # start learning and calculate duration\n",
    "    start = time.time()\n",
    "    stages += [model]\n",
    "    print(stages)\n",
    "    partialPipeline = Pipeline().setStages(stages)\n",
    "    pipelineModel = partialPipeline.fit(train_df)\n",
    "    end = time.time()\n",
    "     \n",
    " \n",
    "    print('Pipeline training ended for {}'.format(model_name))\n",
    "    print('Time taken for {} training is:'.format(model_name),((end-start)/60),'minutes')\n",
    "    \n",
    "    # make inference and calculate inference duration\n",
    "    print(model_name, 'Prediction started')\n",
    "    start = time.time()\n",
    "    predictions = pipelineModel.transform(test_df)\n",
    "    end = time.time()\n",
    "    print(model_name, 'Predicting ended')\n",
    "    print('Time taken for {} prediction is:'.format(model_name),((end-start)/60),'minutes')\n",
    "    \n",
    "\n",
    "    # ROC\n",
    "    print('ROC for {} is:'.format(model_name), evaluator.evaluate(predictions, {evaluator.metricName: \"areaUnderROC\"}))\n",
    "    print('F1 Score for {} is:'.format(model_name), evaluator_multi.evaluate(predictions, {evaluator.metricName: \"f1\"}))\n",
    "    # accuracy\n",
    "    accuracy = predictions.filter(predictions.label == predictions.prediction).count() / (predictions.count())\n",
    "    print(\"The accuracy of the {} model is:\".format(model_name), accuracy)\n",
    "    \n",
    "    # remove last model from stages\n",
    "    stages = stages[:-1]\n",
    "    \n",
    "print(\"Training Ended\")"
   ]
  },
  {
   "cell_type": "markdown",
   "metadata": {},
   "source": [
    "### Model optimization"
   ]
  },
  {
   "cell_type": "markdown",
   "metadata": {},
   "source": [
    "For both models an optimization cv training with param grid is used. Therefore, firstly all available params within the two models are shown."
   ]
  },
  {
   "cell_type": "markdown",
   "metadata": {},
   "source": [
    "#### Showing all tuneable params for logistic regression"
   ]
  },
  {
   "cell_type": "code",
   "execution_count": 232,
   "metadata": {},
   "outputs": [
    {
     "name": "stdout",
     "output_type": "stream",
     "text": [
      "aggregationDepth: suggested depth for treeAggregate (>= 2). (default: 2)\n",
      "elasticNetParam: the ElasticNet mixing parameter, in range [0, 1]. For alpha = 0, the penalty is an L2 penalty. For alpha = 1, it is an L1 penalty. (default: 0.0)\n",
      "family: The name of family which is a description of the label distribution to be used in the model. Supported options: auto, binomial, multinomial (default: auto)\n",
      "featuresCol: features column name. (default: features, current: features)\n",
      "fitIntercept: whether to fit an intercept term. (default: True)\n",
      "labelCol: label column name. (default: label, current: label)\n",
      "lowerBoundsOnCoefficients: The lower bounds on coefficients if fitting under bound constrained optimization. The bound matrix must be compatible with the shape (1, number of features) for binomial regression, or (number of classes, number of features) for multinomial regression. (undefined)\n",
      "lowerBoundsOnIntercepts: The lower bounds on intercepts if fitting under bound constrained optimization. The bounds vector size must beequal with 1 for binomial regression, or the number oflasses for multinomial regression. (undefined)\n",
      "maxIter: max number of iterations (>= 0). (default: 100, current: 10)\n",
      "predictionCol: prediction column name. (default: prediction)\n",
      "probabilityCol: Column name for predicted class conditional probabilities. Note: Not all models output well-calibrated probability estimates! These probabilities should be treated as confidences, not precise probabilities. (default: probability)\n",
      "rawPredictionCol: raw prediction (a.k.a. confidence) column name. (default: rawPrediction)\n",
      "regParam: regularization parameter (>= 0). (default: 0.0)\n",
      "standardization: whether to standardize the training features before fitting the model. (default: True)\n",
      "threshold: Threshold in binary classification prediction, in range [0, 1]. If threshold and thresholds are both set, they must match.e.g. if threshold is p, then thresholds must be equal to [1-p, p]. (default: 0.5)\n",
      "thresholds: Thresholds in multi-class classification to adjust the probability of predicting each class. Array must have length equal to the number of classes, with values > 0, excepting that at most one value may be 0. The class with largest value p/t is predicted, where p is the original probability of that class and t is the class's threshold. (undefined)\n",
      "tol: the convergence tolerance for iterative algorithms (>= 0). (default: 1e-06)\n",
      "upperBoundsOnCoefficients: The upper bounds on coefficients if fitting under bound constrained optimization. The bound matrix must be compatible with the shape (1, number of features) for binomial regression, or (number of classes, number of features) for multinomial regression. (undefined)\n",
      "upperBoundsOnIntercepts: The upper bounds on intercepts if fitting under bound constrained optimization. The bound vector size must be equal with 1 for binomial regression, or the number of classes for multinomial regression. (undefined)\n",
      "weightCol: weight column name. If this is not set or empty, we treat all instance weights as 1.0. (undefined)\n"
     ]
    }
   ],
   "source": [
    "print(lr.explainParams())"
   ]
  },
  {
   "cell_type": "markdown",
   "metadata": {},
   "source": [
    "For logistic Regression the following parameters are used to be optimized:\n",
    "\n",
    "* Regularization Parameter: Corresponds to Lambda Regularization (L1)\n",
    "* Elastic Net Parameter: L1 and L2 Combination Regularization Parameter to reduce overfitting\n",
    "* Max Iteration: Number of iteration/Epochs that are allowed to be used to train the algorithm"
   ]
  },
  {
   "cell_type": "markdown",
   "metadata": {},
   "source": [
    "#### Showing all tuneable params for random forest classification"
   ]
  },
  {
   "cell_type": "code",
   "execution_count": 233,
   "metadata": {},
   "outputs": [
    {
     "name": "stdout",
     "output_type": "stream",
     "text": [
      "cacheNodeIds: If false, the algorithm will pass trees to executors to match instances with nodes. If true, the algorithm will cache node IDs for each instance. Caching can speed up training of deeper trees. Users can set how often should the cache be checkpointed or disable it by setting checkpointInterval. (default: False)\n",
      "checkpointInterval: set checkpoint interval (>= 1) or disable checkpoint (-1). E.g. 10 means that the cache will get checkpointed every 10 iterations. Note: this setting will be ignored if the checkpoint directory is not set in the SparkContext. (default: 10)\n",
      "featureSubsetStrategy: The number of features to consider for splits at each tree node. Supported options: 'auto' (choose automatically for task: If numTrees == 1, set to 'all'. If numTrees > 1 (forest), set to 'sqrt' for classification and to 'onethird' for regression), 'all' (use all features), 'onethird' (use 1/3 of the features), 'sqrt' (use sqrt(number of features)), 'log2' (use log2(number of features)), 'n' (when n is in the range (0, 1.0], use n * number of features. When n is in the range (1, number of features), use n features). default = 'auto' (default: auto)\n",
      "featuresCol: features column name. (default: features, current: features)\n",
      "impurity: Criterion used for information gain calculation (case-insensitive). Supported options: entropy, gini (default: gini)\n",
      "labelCol: label column name. (default: label, current: label)\n",
      "maxBins: Max number of bins for discretizing continuous features.  Must be >=2 and >= number of categories for any categorical feature. (default: 32)\n",
      "maxDepth: Maximum depth of the tree. (>= 0) E.g., depth 0 means 1 leaf node; depth 1 means 1 internal node + 2 leaf nodes. (default: 5)\n",
      "maxMemoryInMB: Maximum memory in MB allocated to histogram aggregation. If too small, then 1 node will be split per iteration, and its aggregates may exceed this size. (default: 256)\n",
      "minInfoGain: Minimum information gain for a split to be considered at a tree node. (default: 0.0)\n",
      "minInstancesPerNode: Minimum number of instances each child must have after split. If a split causes the left or right child to have fewer than minInstancesPerNode, the split will be discarded as invalid. Should be >= 1. (default: 1)\n",
      "numTrees: Number of trees to train (>= 1). (default: 20)\n",
      "predictionCol: prediction column name. (default: prediction)\n",
      "probabilityCol: Column name for predicted class conditional probabilities. Note: Not all models output well-calibrated probability estimates! These probabilities should be treated as confidences, not precise probabilities. (default: probability)\n",
      "rawPredictionCol: raw prediction (a.k.a. confidence) column name. (default: rawPrediction)\n",
      "seed: random seed. (default: -8328959731669474975, current: 8)\n",
      "subsamplingRate: Fraction of the training data used for learning each decision tree, in range (0, 1]. (default: 1.0)\n"
     ]
    }
   ],
   "source": [
    "print(rf.explainParams())"
   ]
  },
  {
   "cell_type": "markdown",
   "metadata": {},
   "source": [
    "For Random Forest Classifier the following parameters are used to be optimized:\n",
    "\n",
    "* NumTrees: Number of trees that are maximum allowed to be generated\n",
    "* Maxdepth: Total number of levels each tree have regarding of depth"
   ]
  },
  {
   "cell_type": "markdown",
   "metadata": {},
   "source": [
    "### Parameters Optimization Random Forest"
   ]
  },
  {
   "cell_type": "markdown",
   "metadata": {},
   "source": [
    "#### Generate stages for cv grid pipeline"
   ]
  },
  {
   "cell_type": "code",
   "execution_count": 234,
   "metadata": {},
   "outputs": [],
   "source": [
    "cv_stages_rf = [stringIndexer, encoder, float_caster, assembler, scaler, rf]\n",
    "pipeline_cv_rf = Pipeline().setStages(cv_stages_rf)"
   ]
  },
  {
   "cell_type": "markdown",
   "metadata": {},
   "source": [
    "#### Defining Grid and pipeline"
   ]
  },
  {
   "cell_type": "code",
   "execution_count": 235,
   "metadata": {},
   "outputs": [],
   "source": [
    "paramGrid_rf = ParamGridBuilder() \\\n",
    "              .addGrid(rf.numTrees,[20, 50, 100]) \\\n",
    "              .addGrid(rf.maxDepth,[5, 10, 15]) \\\n",
    "              .build()\n",
    "\n",
    "\n",
    "cv_rf = CrossValidator(estimator=pipeline_cv_rf,\n",
    "                          estimatorParamMaps=paramGrid_rf,\n",
    "                          evaluator=MulticlassClassificationEvaluator(metricName = \"f1\"),\n",
    "                          numFolds=3)"
   ]
  },
  {
   "cell_type": "markdown",
   "metadata": {},
   "source": [
    "#### Start optimization and measure optimization duration"
   ]
  },
  {
   "cell_type": "code",
   "execution_count": 236,
   "metadata": {},
   "outputs": [],
   "source": [
    "start = time.time()\n",
    "cvModel = cv_rf.fit(train_df)\n",
    "end = time.time()\n"
   ]
  },
  {
   "cell_type": "code",
   "execution_count": 237,
   "metadata": {},
   "outputs": [
    {
     "name": "stdout",
     "output_type": "stream",
     "text": [
      "Time taken for RandomForestClassifier training is: 64.98354705174764 minutes\n"
     ]
    }
   ],
   "source": [
    "print('Time taken for {} training is:'.format(cv_stages_rf[-1].__class__.__name__),((end-start)/60),'minutes')"
   ]
  },
  {
   "cell_type": "markdown",
   "metadata": {},
   "source": [
    "Randomr Forest Classifier takes quite a time to be optimized for that amount of data and that low amount of parameter combiations"
   ]
  },
  {
   "cell_type": "markdown",
   "metadata": {},
   "source": [
    "### Best Parameters Random Forest:"
   ]
  },
  {
   "cell_type": "markdown",
   "metadata": {},
   "source": [
    "#### Making prediction with optimized model"
   ]
  },
  {
   "cell_type": "code",
   "execution_count": null,
   "metadata": {},
   "outputs": [],
   "source": [
    "prediction_rf = cvModel.transform(test_df)"
   ]
  },
  {
   "cell_type": "code",
   "execution_count": null,
   "metadata": {},
   "outputs": [],
   "source": [
    "prediction_rf.show(2)"
   ]
  },
  {
   "cell_type": "markdown",
   "metadata": {},
   "source": [
    "#### Showing average f1 score for each param combination accross all folds"
   ]
  },
  {
   "cell_type": "code",
   "execution_count": null,
   "metadata": {},
   "outputs": [],
   "source": [
    "cvModel.avgMetrics"
   ]
  },
  {
   "cell_type": "markdown",
   "metadata": {},
   "source": [
    "All param settings have more or less similiar average metrics over all folds."
   ]
  },
  {
   "cell_type": "markdown",
   "metadata": {},
   "source": [
    "#### Calculate accuracy and take the best model"
   ]
  },
  {
   "cell_type": "code",
   "execution_count": null,
   "metadata": {},
   "outputs": [],
   "source": [
    "accuracy = prediction_rf.filter(prediction_rf.label == prediction_rf.prediction).count() / (prediction_rf.count())"
   ]
  },
  {
   "cell_type": "code",
   "execution_count": null,
   "metadata": {},
   "outputs": [],
   "source": [
    "accuracy"
   ]
  },
  {
   "cell_type": "markdown",
   "metadata": {},
   "source": [
    "Test accuracy is lower then in the first pipeline run"
   ]
  },
  {
   "cell_type": "code",
   "execution_count": null,
   "metadata": {},
   "outputs": [],
   "source": [
    "best_rf = cvModel.bestModel"
   ]
  },
  {
   "cell_type": "code",
   "execution_count": null,
   "metadata": {},
   "outputs": [],
   "source": [
    "tree = best_rf.stages[-1]"
   ]
  },
  {
   "cell_type": "code",
   "execution_count": null,
   "metadata": {},
   "outputs": [],
   "source": [
    "evaluator_multi = MulticlassClassificationEvaluator(metricName = \"f1\")"
   ]
  },
  {
   "cell_type": "code",
   "execution_count": null,
   "metadata": {},
   "outputs": [],
   "source": [
    "evaluator = BinaryClassificationEvaluator()"
   ]
  },
  {
   "cell_type": "code",
   "execution_count": null,
   "metadata": {},
   "outputs": [],
   "source": [
    "print('F1 Score for RF is:', evaluator_multi.evaluate(prediction_rf, {evaluator.metricName: \"f1\"}))"
   ]
  },
  {
   "cell_type": "code",
   "execution_count": null,
   "metadata": {
    "scrolled": true
   },
   "outputs": [],
   "source": [
    "print('ROC for RF is:', evaluator.evaluate(prediction_rf, {evaluator.metricName: \"areaUnderROC\"}))"
   ]
  },
  {
   "cell_type": "markdown",
   "metadata": {},
   "source": [
    "#### Show most important features"
   ]
  },
  {
   "cell_type": "code",
   "execution_count": null,
   "metadata": {},
   "outputs": [],
   "source": [
    "importance_feat = tree.featureImportances"
   ]
  },
  {
   "cell_type": "code",
   "execution_count": null,
   "metadata": {},
   "outputs": [],
   "source": [
    "importance_feat"
   ]
  },
  {
   "cell_type": "code",
   "execution_count": null,
   "metadata": {},
   "outputs": [],
   "source": []
  },
  {
   "cell_type": "markdown",
   "metadata": {},
   "source": [
    "#### Show results with underlying parameters"
   ]
  },
  {
   "cell_type": "code",
   "execution_count": null,
   "metadata": {},
   "outputs": [],
   "source": [
    "for i,j in zip(cvModel.avgMetrics, paramGrid_rf):\n",
    "    print(i,j)"
   ]
  },
  {
   "cell_type": "markdown",
   "metadata": {},
   "source": [
    "#### Getting best value for first parameter"
   ]
  },
  {
   "cell_type": "code",
   "execution_count": null,
   "metadata": {},
   "outputs": [],
   "source": [
    "cvModel.bestModel.stages[-1]._java_obj.getMaxDepth()"
   ]
  },
  {
   "cell_type": "markdown",
   "metadata": {},
   "source": [
    "#### Getting best value for first parameter"
   ]
  },
  {
   "cell_type": "code",
   "execution_count": null,
   "metadata": {},
   "outputs": [],
   "source": [
    "cvModel.bestModel.stages[-1]._java_obj.getNumTrees()"
   ]
  },
  {
   "cell_type": "markdown",
   "metadata": {},
   "source": [
    " Best Params for the highest F-Score of 0.753 is 20 for Number of Tress and 10 for the Max Depth of the trees"
   ]
  },
  {
   "cell_type": "markdown",
   "metadata": {},
   "source": [
    "### Param Optimization Logistic Regression"
   ]
  },
  {
   "cell_type": "markdown",
   "metadata": {},
   "source": [
    "#### Generate necessary Stages for Pipeline"
   ]
  },
  {
   "cell_type": "code",
   "execution_count": null,
   "metadata": {},
   "outputs": [],
   "source": [
    "cv_stages_lr = [stringIndexer, encoder, float_caster, assembler, scaler, lr]\n",
    "pipeline_cv_lr = Pipeline().setStages(cv_stages_lr)"
   ]
  },
  {
   "cell_type": "markdown",
   "metadata": {},
   "source": [
    "#### Define Grind with parameter ranges for logistic regression"
   ]
  },
  {
   "cell_type": "code",
   "execution_count": null,
   "metadata": {},
   "outputs": [],
   "source": [
    "paramGrid_lr = (ParamGridBuilder()\n",
    "                .addGrid(lr.regParam, [0.01, 0.5, 2.0])\n",
    "                .addGrid(lr.elasticNetParam, [0.0, 0.5, 1.0])\n",
    "                .addGrid(lr.maxIter, [1, 5])\n",
    "                .build()\n",
    "               )"
   ]
  },
  {
   "cell_type": "markdown",
   "metadata": {},
   "source": [
    "#### Create Pipeline with CV and Grid Search"
   ]
  },
  {
   "cell_type": "code",
   "execution_count": null,
   "metadata": {},
   "outputs": [],
   "source": [
    "cv_lr = CrossValidator(estimator = pipeline_cv_lr,\n",
    "                    estimatorParamMaps = paramGrid_lr,\n",
    "                    evaluator = MulticlassClassificationEvaluator(metricName = \"f1\"),\n",
    "                    numFolds = 3)"
   ]
  },
  {
   "cell_type": "markdown",
   "metadata": {},
   "source": [
    "#### Start Training"
   ]
  },
  {
   "cell_type": "code",
   "execution_count": null,
   "metadata": {},
   "outputs": [],
   "source": [
    "start = time.time()\n",
    "cvModel_lr = cv_lr.fit(train_df)\n",
    "end = time.time()"
   ]
  },
  {
   "cell_type": "code",
   "execution_count": null,
   "metadata": {},
   "outputs": [],
   "source": [
    "print('Time taken for {} training is:'.format(cv_stages_lr[-1].__class__.__name__),((end-start)/60),'minutes')"
   ]
  },
  {
   "cell_type": "code",
   "execution_count": null,
   "metadata": {},
   "outputs": [],
   "source": [
    "cvModel_lr.avgMetrics"
   ]
  },
  {
   "cell_type": "code",
   "execution_count": null,
   "metadata": {},
   "outputs": [],
   "source": [
    "best_lr = cvModel_lr.bestModel"
   ]
  },
  {
   "cell_type": "code",
   "execution_count": null,
   "metadata": {},
   "outputs": [],
   "source": [
    "for i,j in zip(cvModel_lr.avgMetrics, paramGrid_lr):\n",
    "    print(i,j)"
   ]
  },
  {
   "cell_type": "markdown",
   "metadata": {},
   "source": [
    "#### Show Best Parameters with the resulted Metric"
   ]
  },
  {
   "cell_type": "code",
   "execution_count": null,
   "metadata": {},
   "outputs": [],
   "source": [
    "cvModel_lr.bestModel.stages[-1]._java_obj.getRegParam()"
   ]
  },
  {
   "cell_type": "code",
   "execution_count": null,
   "metadata": {},
   "outputs": [],
   "source": [
    "cvModel_lr.bestModel.stages[-1]._java_obj.getElasticNetParam()"
   ]
  },
  {
   "cell_type": "code",
   "execution_count": null,
   "metadata": {},
   "outputs": [],
   "source": [
    "cvModel_lr.bestModel.stages[-1]._java_obj.getMaxIter()"
   ]
  },
  {
   "cell_type": "markdown",
   "metadata": {},
   "source": [
    "We are seeing that for the logistic Regression the best parameter where 0.01 for Regression parameter, 1.0 for Elastic Net Parameter\n",
    "and the maximum amount of Iteration, was 5 the best setting."
   ]
  },
  {
   "cell_type": "code",
   "execution_count": null,
   "metadata": {},
   "outputs": [],
   "source": []
  },
  {
   "cell_type": "code",
   "execution_count": null,
   "metadata": {},
   "outputs": [],
   "source": [
    "prediction_lr = cvModel_lr.transform(test_df)"
   ]
  },
  {
   "cell_type": "code",
   "execution_count": null,
   "metadata": {},
   "outputs": [],
   "source": [
    "cvModel_lr.avgMetrics"
   ]
  },
  {
   "cell_type": "markdown",
   "metadata": {},
   "source": [
    "#### Calculate accuracy and take the best mode"
   ]
  },
  {
   "cell_type": "code",
   "execution_count": null,
   "metadata": {},
   "outputs": [],
   "source": [
    "accuracy_lr = prediction_lr.filter(prediction_lr.label == prediction_lr.prediction).count() / (prediction_lr.count())"
   ]
  },
  {
   "cell_type": "code",
   "execution_count": null,
   "metadata": {},
   "outputs": [],
   "source": [
    "accuracy"
   ]
  },
  {
   "cell_type": "code",
   "execution_count": null,
   "metadata": {},
   "outputs": [],
   "source": [
    "best_lr = cvModel_lr.bestModel"
   ]
  },
  {
   "cell_type": "code",
   "execution_count": null,
   "metadata": {},
   "outputs": [],
   "source": [
    "lr_best_cv = best_lr.stages[-1]"
   ]
  },
  {
   "cell_type": "code",
   "execution_count": null,
   "metadata": {},
   "outputs": [],
   "source": [
    "print('F1 Score for RF is:', evaluator_multi.evaluate(prediction_lr, {evaluator.metricName: \"f1\"}))"
   ]
  },
  {
   "cell_type": "code",
   "execution_count": null,
   "metadata": {},
   "outputs": [],
   "source": [
    "print('ROC for RF is:', evaluator.evaluate(prediction_lr, {evaluator.metricName: \"areaUnderROC\"}))"
   ]
  },
  {
   "cell_type": "markdown",
   "metadata": {},
   "source": [
    "#### Business Imparct"
   ]
  },
  {
   "cell_type": "markdown",
   "metadata": {},
   "source": [
    "Even though the model do not deliver optimal output and can still be improved, it gives sparkify the possiblity to better handle and identify\n",
    "potential churn customers. Due to the fact that the features strongly differ in their importance, different actions can be build on them to reduce\n",
    "the probability that high risk customers might churn."
   ]
  },
  {
   "cell_type": "markdown",
   "metadata": {},
   "source": [
    "#### Project Summary"
   ]
  },
  {
   "cell_type": "markdown",
   "metadata": {},
   "source": [
    "This project delivered a great possibility to test pyspark and its different functionality on a realistic and possible real live business case.\n",
    "It helped to get insights about the most common big data analytics framework and showed clearly how a wider data set can be aggregated to a different kind\n",
    "of observation type and still generate meaningfull and prediction worthy features that can be used for model training."
   ]
  },
  {
   "cell_type": "markdown",
   "metadata": {},
   "source": [
    "#### Potential Feature Steps"
   ]
  },
  {
   "cell_type": "markdown",
   "metadata": {},
   "source": [
    "Of course potential optimization possibilities are clearly other and different kind of features that can be used. So feature engineering might be great improvement factor to get better results.\n",
    "Additionally differnt kind of models that are available within Spark can also be tried out like, Support Vector Machines or Gradient Boosting."
   ]
  },
  {
   "cell_type": "markdown",
   "metadata": {},
   "source": [
    "# Final Steps\n",
    "Clean up your code, adding comments and renaming variables to make the code easier to read and maintain. Refer to the Spark Project Overview page and Data Scientist Capstone Project Rubric to make sure you are including all components of the capstone project and meet all expectations. Remember, this includes thorough documentation in a README file in a Github repository, as well as a web app or blog post."
   ]
  }
 ],
 "metadata": {
  "kernelspec": {
   "display_name": "conda_python3",
   "language": "python",
   "name": "conda_python3"
  },
  "language_info": {
   "codemirror_mode": {
    "name": "ipython",
    "version": 3
   },
   "file_extension": ".py",
   "mimetype": "text/x-python",
   "name": "python",
   "nbconvert_exporter": "python",
   "pygments_lexer": "ipython3",
   "version": "3.6.13"
  }
 },
 "nbformat": 4,
 "nbformat_minor": 2
}
